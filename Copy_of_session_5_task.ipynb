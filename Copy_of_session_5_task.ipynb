{
  "nbformat": 4,
  "nbformat_minor": 0,
  "metadata": {
    "colab": {
      "provenance": []
    },
    "kernelspec": {
      "name": "python3",
      "display_name": "Python 3"
    },
    "language_info": {
      "name": "python"
    }
  },
  "cells": [
    {
      "cell_type": "markdown",
      "source": [
        "# Tuple\n"
      ],
      "metadata": {
        "id": "limD5IAfl-tz"
      }
    },
    {
      "cell_type": "markdown",
      "source": [
        "###`Q1:` Join Tuples if similar initial element\n",
        "While working with Python tuples, we can have a problem in which we need to perform concatenation of records from the similarity of initial element. This problem can have applications in data domains such as Data Science.\n",
        "\n",
        "For eg.\n",
        "```\n",
        "Input  : test_list = [(5, 6), (5, 7), (5, 8), (6, 10), (7, 13)]\n",
        "Output : [(5, 6, 7, 8), (6, 10), (7, 13)]\n",
        "```"
      ],
      "metadata": {
        "id": "nSTn3CjbmB7q"
      }
    },
    {
      "cell_type": "code",
      "source": [
        "# List from which we need to make similar initial pattern\n",
        "test_list = [(5, 6), (5, 7), (5, 8), (6, 10), (7, 13)]\n",
        "\n",
        "# Initializing an empty list which will store unique initial elements\n",
        "unique = []\n",
        "\n",
        "# Running loop on list1 to first find out unique initial tuple elements\n",
        "for i in test_list:\n",
        "  if i[0] not in unique:\n",
        "    unique.append(i[0])\n",
        "\n",
        "# List which will contain answer tuples\n",
        "ans = []\n",
        "\n",
        "# Nested Loop to create similarity tuples\n",
        "for i in unique:\n",
        "\n",
        "  ls =  [i]\n",
        "\n",
        "  for j in test_list:\n",
        "    if i == j[0]:\n",
        "      ls.append(j[1])\n",
        "\n",
        "  ans.append(tuple(ls))\n",
        "\n",
        "# Printing results\n",
        "print(ans)"
      ],
      "metadata": {
        "id": "hwVeEvH9rJzU",
        "colab": {
          "base_uri": "https://localhost:8080/"
        },
        "outputId": "b37b9e6d-30ca-47cd-932c-dad7463a1c57"
      },
      "execution_count": 20,
      "outputs": [
        {
          "output_type": "stream",
          "name": "stdout",
          "text": [
            "[(5, 6, 7, 8), (6, 10), (7, 13)]\n"
          ]
        }
      ]
    },
    {
      "cell_type": "markdown",
      "source": [
        "###`Q2:` Multiply Adjacent elements (both side) and take sum of right and lest side multiplication result.\n",
        "\n",
        "\n",
        "For eg.\n",
        "```\n",
        "The original tuple : (1, 5, 7, 8, 10)\n",
        "Resultant tuple after multiplication :\n",
        "\n",
        "(1*5, 1*5+5*7, 7*5 + 7*8, 8*7 + 8*10, 10*8) -> (5, 40, 91, 136, 80)\n",
        "\n",
        "output-(5, 40, 91, 136, 80)\n",
        "```"
      ],
      "metadata": {
        "id": "ujQpZOFFmeha"
      }
    },
    {
      "cell_type": "code",
      "source": [
        "# Tuple whose multiplicant patten needs to be made\n",
        "t = (1, 5, 7, 8, 10)\n",
        "\n",
        "# Initializing answer list\n",
        "ans = [t[0]*t[1]]\n",
        "\n",
        "# Running loop on tuple to make middle pattern\n",
        "for i in range(1,len(t)-1):\n",
        "  ans.append(t[i]*t[i-1] + t[i]*t[i+1])\n",
        "\n",
        "# Adding last element as separate calculation in list\n",
        "ans.append(t[-1]*t[-2])\n",
        "\n",
        "# Converting back list to tuple\n",
        "ans = tuple(ans)\n",
        "\n",
        "# Displaying result\n",
        "print(ans)"
      ],
      "metadata": {
        "id": "N9lveEsArNVc",
        "colab": {
          "base_uri": "https://localhost:8080/"
        },
        "outputId": "e2a3026b-2db3-428c-c4cb-269f750083a9"
      },
      "execution_count": 18,
      "outputs": [
        {
          "output_type": "stream",
          "name": "stdout",
          "text": [
            "(5, 40, 91, 136, 80)\n"
          ]
        }
      ]
    },
    {
      "cell_type": "markdown",
      "source": [
        "###`Q3`: Check is tuples are same or not?\n",
        "Two tuples would be same if both tuples have same element at same index\n",
        "```\n",
        "t1 = (1,2,3,0)\n",
        "t2 = (0,1,2,3)\n",
        "\n",
        "t1 and t2 are not same\n",
        "```"
      ],
      "metadata": {
        "id": "x0psnUiu2ZVp"
      }
    },
    {
      "cell_type": "code",
      "source": [
        "# Tuples whose similarity needs to be checked\n",
        "t1 = (1,2,3,0)\n",
        "t2 = (0,1,2,3)\n",
        "\n",
        "# Checking similarity\n",
        "if t1 == t2:\n",
        "  print(\"Tuples are same\")\n",
        "\n",
        "else:\n",
        "  print(\"Tuples are not same\")"
      ],
      "metadata": {
        "id": "JMVw9EhSrPEc",
        "colab": {
          "base_uri": "https://localhost:8080/"
        },
        "outputId": "d9d52d59-7355-4ae9-cb65-1973f6aee5c1"
      },
      "execution_count": 16,
      "outputs": [
        {
          "output_type": "stream",
          "name": "stdout",
          "text": [
            "Tuples are not same\n"
          ]
        }
      ]
    },
    {
      "cell_type": "markdown",
      "source": [
        "###`Q4`: Count no of tuples, list and set from a list\n",
        "```\n",
        "list1 = [{'hi', 'bye'},{'Geeks', 'forGeeks'},('a', 'b'),['hi', 'bye'],['a', 'b']]\n",
        "\n",
        "```\n",
        "`Output:`\n",
        "\n",
        "```\n",
        "List-2\n",
        "Set-2\n",
        "Tuples-1\n",
        "```"
      ],
      "metadata": {
        "id": "aZ4rObHK4fCN"
      }
    },
    {
      "cell_type": "code",
      "source": [
        "# List from which we need to count other datatypes\n",
        "list1 = [{'hi', 'bye'},{'Geeks', 'forGeeks'},('a', 'b'),['hi', 'bye'],['a', 'b']]\n",
        "\n",
        "# Initializing count variables\n",
        "lst = 0\n",
        "st = 0\n",
        "tup = 0\n",
        "\n",
        "# Running loop on list1 to count data types\n",
        "for i in list1:\n",
        "\n",
        "  if type(i) == list:\n",
        "    lst = lst + 1\n",
        "\n",
        "  elif type(i) == set:\n",
        "    st = st + 1\n",
        "\n",
        "  elif type(i) == tuple:\n",
        "    tup = tup + 1\n",
        "\n",
        "# Displaying count of data types\n",
        "print(\"List - \",lst)\n",
        "print(\"Set - \",st)\n",
        "print(\"Tuple - \",tup)"
      ],
      "metadata": {
        "id": "g_Bnuczk69tG",
        "colab": {
          "base_uri": "https://localhost:8080/"
        },
        "outputId": "3e76724e-bccc-43c1-d768-f94b6df28d1d"
      },
      "execution_count": 15,
      "outputs": [
        {
          "output_type": "stream",
          "name": "stdout",
          "text": [
            "List -  2\n",
            "Set -  2\n",
            "Tuple -  1\n"
          ]
        }
      ]
    },
    {
      "cell_type": "markdown",
      "source": [
        "###`Q5`: Shortlist Students for a Job role\n",
        "Ask user to input students record and store in tuples for each record. Then Ask user to input three things he wants in the candidate- Primary Skill, Higher Education, Year of Graduation.\n",
        "\n",
        "Show every students record in form of tuples if matches all required criteria.\n",
        "\n",
        "It is assumed that there will be only one primry skill.\n",
        "\n",
        "If no such candidate found, print `No such candidate`\n",
        "\n",
        "`Input:`\n",
        "```\n",
        "Enter No of records- 2\n",
        "Enter Details of student-1\n",
        "Enter Student name- Manohar\n",
        "Enter Higher Education- B.Tech\n",
        "Enter Primary Skill- Python\n",
        "Enter Year of Graduation- 2022\n",
        "Enter Details of student-2\n",
        "Enter Student name- Ponian\n",
        "Enter Higher Education- B.Sc.\n",
        "Enter Primary Skill- C++\n",
        "Enter Year of Graduation- 2020\n",
        "\n",
        "Enter Job Role Requirement\n",
        "Enter Skill- Python\n",
        "Enter Higher Education- B.Tech\n",
        "Enter Year of Graduation- 2022\n",
        "```\n",
        "\n",
        "`Output`\n",
        "```\n",
        "('Manohar', 'B.tech', 'Python', '2022')\n",
        "```\n"
      ],
      "metadata": {
        "id": "jInFNuit8hf1"
      }
    },
    {
      "cell_type": "code",
      "source": [
        "# Taking input from user for how many students entry needs to be done\n",
        "no_of_students = int(input(\"Enter the number of records -> \"))\n",
        "print()\n",
        "print(\"*\"*50)\n",
        "print()\n",
        "\n",
        "# Maintaining a list which will hold up all the records\n",
        "records = []\n",
        "\n",
        "# Now running loop the number of times the students are there\n",
        "for i in range(no_of_students):\n",
        "\n",
        "  # Asking for details\n",
        "  print(\"Enter details of student {}\".format(i+1))\n",
        "  print()\n",
        "\n",
        "  name = input(\"Enter student name -> \")\n",
        "  education = input(\"Enter higher education -> \")\n",
        "  skill = input(\"Enter primary skill -> \")\n",
        "  year = input(\"ENter Year of Graduation -> \")\n",
        "  print()\n",
        "  print(\"*\"*50)\n",
        "  print()\n",
        "  # Storing record of each student in a tuple in records list\n",
        "  records.append((name,education,skill,year))\n",
        "\n",
        "# Asking for requirements for Job\n",
        "print(\"Enter Job role requirement\")\n",
        "print()\n",
        "skill = input(\"Enter skill - \")\n",
        "education = input(\"Enter Higher Education - \")\n",
        "Year = input(\"Enter Year of Education - \")\n",
        "\n",
        "# Looping into records list to check if any student meets job requirement or not\n",
        "flag = False\n",
        "for i in records:\n",
        "\n",
        "  if skill == i[2] and education == i[1] and Year == i[3]:\n",
        "    flag = True\n",
        "    print()\n",
        "    print(i)\n",
        "\n",
        "# Writing a flag condition if no student matches the requirement than raise a message\n",
        "if flag == False:\n",
        "  print(\"No student found for the desired requirements\")\n"
      ],
      "metadata": {
        "id": "erh9QZaerSHk",
        "colab": {
          "base_uri": "https://localhost:8080/"
        },
        "outputId": "a040d03b-9faa-4b24-8c6e-69ee89d89116"
      },
      "execution_count": 14,
      "outputs": [
        {
          "output_type": "stream",
          "name": "stdout",
          "text": [
            "Enter the number of records -> 2\n",
            "\n",
            "**************************************************\n",
            "\n",
            "Enter details of student 1\n",
            "\n",
            "Enter student name -> krishna\n",
            "Enter higher education -> sabkuch\n",
            "Enter primary skill -> sabkuch\n",
            "ENter Year of Graduation -> infinite\n",
            "\n",
            "**************************************************\n",
            "\n",
            "Enter details of student 2\n",
            "\n",
            "Enter student name -> nitin\n",
            "Enter higher education -> mca\n",
            "Enter primary skill -> datascience\n",
            "ENter Year of Graduation -> 2022\n",
            "\n",
            "**************************************************\n",
            "\n",
            "Enter Job role requirement\n",
            "\n",
            "Enter skill - sabkuch\n",
            "Enter Higher Education - sabkuch\n",
            "Enter Year of Education - infinite\n",
            "\n",
            "('krishna', 'sabkuch', 'sabkuch', 'infinite')\n"
          ]
        }
      ]
    },
    {
      "cell_type": "markdown",
      "source": [
        "# Set"
      ],
      "metadata": {
        "id": "l4hLvwD2BeIN"
      }
    },
    {
      "cell_type": "markdown",
      "source": [
        "###`Q1:` Write a program to find set of common elements in three lists using sets.\n",
        "```\n",
        "Input : ar1 = [1, 5, 10, 20, 40, 80]\n",
        "        ar2 = [6, 7, 20, 80, 100]\n",
        "        ar3 = [3, 4, 15, 20, 30, 70, 80, 120]\n",
        "\n",
        "Output : [80, 20]\n",
        "```"
      ],
      "metadata": {
        "id": "zCX0Sk2IBfu8"
      }
    },
    {
      "cell_type": "code",
      "source": [
        "# Lists which need to be intersected\n",
        "ar1 = [1, 5, 10, 20, 40, 80]\n",
        "ar2 = [6, 7, 20, 80, 100]\n",
        "ar3 = [3, 4, 15, 20, 30, 70, 80, 120]\n",
        "\n",
        "# Perforning intersection operations\n",
        "ar1 = set(ar1) & set(ar2)\n",
        "ar1 = set(ar1) & set(ar3)\n",
        "\n",
        "# Converting back answer to list\n",
        "ar1 = list(ar1)\n",
        "\n",
        "# Printing the answer\n",
        "print(\"Union Result -> \",ar1)"
      ],
      "metadata": {
        "id": "rqATYpBUrUQU",
        "colab": {
          "base_uri": "https://localhost:8080/"
        },
        "outputId": "4fd86648-ebae-46f5-8c41-ffaa243a29c7"
      },
      "execution_count": 7,
      "outputs": [
        {
          "output_type": "stream",
          "name": "stdout",
          "text": [
            "Union Result ->  [80, 20]\n"
          ]
        }
      ]
    },
    {
      "cell_type": "markdown",
      "source": [
        "###`Q2:` Write a program to count unique number of vowels using sets in a given string. Lowercase and upercase vowels will be taken as different.\n",
        "\n",
        "`Input:`\n",
        "```\n",
        "Str1 = \"hands-on data science mentorship progrAm with live classes at affordable fee only on CampusX\"\n",
        "```\n",
        "`Output:`\n",
        "```\n",
        "No of unique vowels-6\n",
        "```"
      ],
      "metadata": {
        "id": "0gOVS-0yCYrK"
      }
    },
    {
      "cell_type": "code",
      "source": [
        "# String from which we need to find out all the vowels\n",
        "st = \"hands-on data science mentorship progrAm with live classes at affordable fee only on CampusX\"\n",
        "vowel = 'aeiouAEIOU'\n",
        "count = 0\n",
        "\n",
        "# Converting string into a set so that we get all the unique elements\n",
        "a = set(st)\n",
        "\n",
        "# Looping on the set so that we can get count of vowels\n",
        "for i in a:\n",
        "  if i in vowel:\n",
        "    count = count + 1\n",
        "\n",
        "# Printing no of vowels in answer\n",
        "print(\"No of vowels -> \",count)"
      ],
      "metadata": {
        "id": "0vAlEAOzDihm",
        "colab": {
          "base_uri": "https://localhost:8080/"
        },
        "outputId": "ae538006-6e9f-4107-e533-dc117395cffc"
      },
      "execution_count": 4,
      "outputs": [
        {
          "output_type": "stream",
          "name": "stdout",
          "text": [
            "No of vowels ->  6\n"
          ]
        }
      ]
    },
    {
      "cell_type": "markdown",
      "source": [
        "### `Q3:` Write a program to Check if a given string is binary string of or not.\n",
        "\n",
        "A string is said to be binary if it's consists of only two unique characters.\n",
        "\n",
        "Take string input from user.\n",
        "\n",
        "```\n",
        "Input: str = \"01010101010\"\n",
        "Output: Yes\n",
        "\n",
        "Input: str = \"1222211\"\n",
        "Output: Yes\n",
        "\n",
        "Input: str = \"Campusx\"\n",
        "Output: No\n",
        "```"
      ],
      "metadata": {
        "id": "fqLZxiarEne5"
      }
    },
    {
      "cell_type": "code",
      "source": [
        "# Input string which needs to be checked for binary test\n",
        "st = '01010101010'\n",
        "\n",
        "# Converting string into set so that we get all the unique elements\n",
        "ans = set(st)\n",
        "\n",
        "# Checking whether the string is binary or not\n",
        "if len(ans) == 2:\n",
        "  print(\"Binary String\")\n",
        "\n",
        "else:\n",
        "  print(\"Not a Binary String\")"
      ],
      "metadata": {
        "id": "5M5v8LoYrXkE",
        "colab": {
          "base_uri": "https://localhost:8080/"
        },
        "outputId": "7cf80b85-a8ea-4467-d28d-9335ec178559"
      },
      "execution_count": 3,
      "outputs": [
        {
          "output_type": "stream",
          "name": "stdout",
          "text": [
            "Binary String\n"
          ]
        }
      ]
    },
    {
      "cell_type": "markdown",
      "source": [
        "### `Q4`: find union of n arrays.\n",
        "\n",
        "**Example 1:**\n",
        "\n",
        "Input:\n",
        "```bash\n",
        "[[1, 2, 2, 4, 3, 6],\n",
        " [5, 1, 3, 4],\n",
        " [9, 5, 7, 1],\n",
        " [2, 4, 1, 3]]\n",
        "```\n",
        "\n",
        "Output:\n",
        "\n",
        "```bash\n",
        "[1, 2, 3, 4, 5, 6, 7, 9]\n",
        "```"
      ],
      "metadata": {
        "id": "xXS8wYH1mDqx"
      }
    },
    {
      "cell_type": "code",
      "source": [
        "# Input list upon which we need to perform union\n",
        "s = [[1, 2, 2, 4, 3, 6],\n",
        " [5, 1, 3, 4],\n",
        " [9, 5, 7, 1],\n",
        " [2, 4, 1, 3]]\n",
        "\n",
        "# It's better to first convert 2D list into 2D set\n",
        "s = [set(i) for i in s]\n",
        "ans = s[0]\n",
        "\n",
        "# Now looping on 2D list in order to performing union operation\n",
        "for i in range(1,len(s)):\n",
        "  ans = ans | s[i]\n",
        "\n",
        "# Converting it to list as during union we conberted list into set\n",
        "ans = list(ans)\n",
        "\n",
        "# Printing answer\n",
        "print(ans)"
      ],
      "metadata": {
        "id": "FVNyK6MbncU8",
        "colab": {
          "base_uri": "https://localhost:8080/"
        },
        "outputId": "27eee097-cafd-4488-bc79-d777bfbbc408"
      },
      "execution_count": 2,
      "outputs": [
        {
          "output_type": "stream",
          "name": "stdout",
          "text": [
            "[1, 2, 3, 4, 5, 6, 7, 9]\n"
          ]
        }
      ]
    },
    {
      "cell_type": "markdown",
      "source": [
        "### `Q5`: Intersection of two lists. Intersection of two list means we need to take all those elements which are common to both of the initial lists and store them into another list. Only use using **list-comprehension**.\n",
        "\n",
        "**Example 1:**\n",
        "\n",
        "Input:\n",
        "```bash\n",
        "lst1 = {15, 9, 10, 56, 23, 78, 5, 4, 9}\n",
        "lst2 = {9, 4, 5, 36, 47, 26, 10, 45, 87}\n",
        "```\n",
        "\n",
        "Output:\n",
        "```bash\n",
        "[9, 10, 4, 5]\n",
        "```\n",
        "\n",
        "**Example 2:**\n",
        "\n",
        "Input:\n",
        "```bash\n",
        "lst1 = {4, 9, 1, 17, 11, 26, 28, 54, 69}\n",
        "lst2 = {9, 9, 74, 21, 45, 11, 63, 28, 26}\n",
        "```\n",
        "\n",
        "Output:\n",
        "```bash\n",
        "[9, 11, 26, 28]\n",
        "```"
      ],
      "metadata": {
        "id": "T_Re21BdndOz"
      }
    },
    {
      "cell_type": "code",
      "source": [
        "# Sets which needed to be intersected\n",
        "lst1 = {15, 9, 10, 56, 23, 78, 5, 4, 9}\n",
        "lst2 = {9, 4, 5, 36, 47, 26, 10, 45, 87}\n",
        "\n",
        "# Calculating intersection of both the sets and then converting them to lists\n",
        "ans = list(lst1 & lst2)\n",
        "\n",
        "# Displaying the output\n",
        "print(ans)"
      ],
      "metadata": {
        "id": "nWnL25ftoLVT",
        "outputId": "2371b99c-0672-4dc5-b6b7-c6545c4c81dc",
        "colab": {
          "base_uri": "https://localhost:8080/"
        }
      },
      "execution_count": null,
      "outputs": [
        {
          "output_type": "stream",
          "name": "stdout",
          "text": [
            "[9, 10, 4, 5]\n"
          ]
        }
      ]
    },
    {
      "cell_type": "markdown",
      "source": [
        "# Dictionary"
      ],
      "metadata": {
        "id": "tD2RSYn1a8oA"
      }
    },
    {
      "cell_type": "markdown",
      "source": [
        "### `Q1`: Key with maximum unique values\n",
        "\n",
        "Given a dictionary with values list, extract key whose value has most unique values.\n",
        "\n",
        "**Example 1:**\n",
        "\n",
        "Input:\n",
        "\n",
        "```bash\n",
        "test_dict = {\"CampusX\" : [5, 7, 9, 4, 0], \"is\" : [6, 7, 4, 3, 3], \"Best\" : [9, 9, 6, 5, 5]}\n",
        "```\n",
        "\n",
        "Output:\n",
        "```bash\n",
        "CampusX\n",
        "```\n",
        "\n",
        "**Example 2:**\n",
        "\n",
        "Input:\n",
        "```bash\n",
        "test_dict = {\"CampusX\" : [5, 7, 7, 7, 7], \"is\" : [6, 7, 7, 7], \"Best\" : [9, 9, 6, 5, 5]}\n",
        "```\n",
        "\n",
        "Output:\n",
        "```bash\n",
        "Best\n",
        "```"
      ],
      "metadata": {
        "id": "7tUjHhcPbQzQ"
      }
    },
    {
      "cell_type": "code",
      "source": [
        "# Dictionary which we have to sort according to no. of unique elements of keys\n",
        "test_dict = {\"CampusX\" : [5, 7, 9, 4, 0], \"is\" : [6, 7, 4, 3, 3], \"Best\" : [9, 9, 6, 5, 5]}\n",
        "\n",
        "# Creating a separate dictionary which will record no of unique values for each key\n",
        "test = {}\n",
        "\n",
        "# Running loop so to access each key and it's value and then creating test dictionary\n",
        "for i in test_dict:\n",
        "  uniq = []\n",
        "  for j in test_dict[i]:\n",
        "    if j not in uniq:\n",
        "      uniq.append(j)\n",
        "  test[i] = len(uniq)\n",
        "\n",
        "# After getting test dictionary now we need to sort it on the basis of values and getting the answer\n",
        "sorted(test,key=lambda x:test[x],reverse=True)[0]"
      ],
      "metadata": {
        "id": "N8KHX863lNxL",
        "outputId": "d4d24321-5399-49cf-8b55-787175cb1466",
        "colab": {
          "base_uri": "https://localhost:8080/",
          "height": 36
        }
      },
      "execution_count": null,
      "outputs": [
        {
          "output_type": "execute_result",
          "data": {
            "text/plain": [
              "'CampusX'"
            ],
            "application/vnd.google.colaboratory.intrinsic+json": {
              "type": "string"
            }
          },
          "metadata": {},
          "execution_count": 5
        }
      ]
    },
    {
      "cell_type": "markdown",
      "source": [
        "### `Q2`: Replace words from Dictionary. Given String, replace it’s words from lookup dictionary.\n",
        "\n",
        "**Example 1:**\n",
        "\n",
        "Input:\n",
        "\n",
        "```bash\n",
        "test_str = 'CampusX best for DS students.'\n",
        "repl_dict = {\"best\" : \"is the best channel\", \"DS\" : \"Data-Science\"}\n",
        "```\n",
        "\n",
        "Output:\n",
        "\n",
        "```bash\n",
        "CampusX is the best channel for Data-Science students.\n",
        "```\n",
        "\n",
        "**Example 2:**\n",
        "\n",
        "Input:\n",
        "```bash\n",
        "test_str = 'CampusX best for DS students.'\n",
        "repl_dict = {\"good\" : \"is the best channel\", \"ds\" : \"Data-Science\"}\n",
        "```\n",
        "\n",
        "Output:\n",
        "```bash\n",
        "CampusX best for DS students.\n",
        "```"
      ],
      "metadata": {
        "id": "_S5X6C84dWdJ"
      }
    },
    {
      "cell_type": "code",
      "source": [
        "# Input sentence and dictionary\n",
        "test_str = 'CampusX best for DS students.'\n",
        "repl_dict = {\"best\" : \"is the best channel\", \"DS\" : \"Data-Science\"}\n",
        "\n",
        "# Running loop on dictionary\n",
        "for i in repl_dict:\n",
        "  if i in test_str.split():\n",
        "\n",
        "    # Now the key exists in sentence we need to replace word in sentence with key's value\n",
        "    test_str = test_str.replace(i,repl_dict[i])\n",
        "\n",
        "# Printing updated result\n",
        "print(\"Updated sentence -> \",test_str)"
      ],
      "metadata": {
        "id": "BTAQ8qnrlOxr",
        "outputId": "58c5a0dd-7662-44b2-e892-0061b2243b84",
        "colab": {
          "base_uri": "https://localhost:8080/"
        }
      },
      "execution_count": null,
      "outputs": [
        {
          "output_type": "stream",
          "name": "stdout",
          "text": [
            "Updated sentence ->  CampusX is the best channel for Data-Science students.\n"
          ]
        }
      ]
    },
    {
      "cell_type": "markdown",
      "source": [
        "### `Q3`: Convert List to List of dictionaries. Given list values and keys list, convert these values to key value pairs in form of list of dictionaries.\n",
        "\n",
        "**Example 1:**\n",
        "\n",
        "Input:\n",
        "```bash\n",
        "test_list = [\"DataScience\", 3, \"is\", 8]\n",
        "key_list = [\"name\", \"id\"]\n",
        "```\n",
        "\n",
        "Output:\n",
        "\n",
        "```bash\n",
        "[{'name': 'DataScience', 'id': 3}, {'name': 'is', 'id': 8}]\n",
        "```\n",
        "\n",
        "**Example 2:**\n",
        "\n",
        "Input:\n",
        "```bash\n",
        "test_list = [\"CampusX\", 10]\n",
        "key_list = [\"name\", \"id\"]\n",
        "```\n",
        "\n",
        "Output:\n",
        "\n",
        "```bash\n",
        "[{'name': 'CampusX', 'id': 10}]\n",
        "```"
      ],
      "metadata": {
        "id": "55xgap3zfbcR"
      }
    },
    {
      "cell_type": "code",
      "source": [
        "# Lists from which we need to create dictionaries\n",
        "test_list = [\"DataScience\", 3, \"is\", 8]\n",
        "key_list = [\"name\", \"id\"]\n",
        "\n",
        "# Findind answer using comprehensions\n",
        "output = [{key: value for key, value in zip(key_list, test_list[i:i+2])} for i in range(0, len(test_list), 2)]\n",
        "\n",
        "# Displaying answer\n",
        "print(output)"
      ],
      "metadata": {
        "id": "jbCajI87lQFr",
        "outputId": "4935109b-328d-4a48-cfed-41d2d917d5fd",
        "colab": {
          "base_uri": "https://localhost:8080/"
        }
      },
      "execution_count": null,
      "outputs": [
        {
          "output_type": "stream",
          "name": "stdout",
          "text": [
            "[{'name': 'DataScience', 'id': 3}, {'name': 'is', 'id': 8}]\n"
          ]
        }
      ]
    },
    {
      "cell_type": "markdown",
      "source": [
        "### `Q4`: Convert a list of Tuples into Dictionary.\n",
        "\n",
        "**Example 1:**\n",
        "\n",
        "Input:\n",
        "```bash\n",
        "[(\"akash\", 10), (\"gaurav\", 12), (\"anand\", 14), (\"suraj\", 20), (\"akhil\", 25), (\"ashish\", 30)]\n",
        "```\n",
        "\n",
        "Output:\n",
        "```bash\n",
        "{'akash': [10], 'gaurav': [12], 'anand': [14], 'suraj': [20], 'akhil': [25], 'ashish': [30]}\n",
        "```\n",
        "\n",
        "**Example 2:**\n",
        "\n",
        "Input:\n",
        "```bash\n",
        "[('A', 1), ('B', 2), ('C', 3)]\n",
        "```\n",
        "\n",
        "Output:\n",
        "```bash\n",
        "{'A': [1], 'B': [2], 'C': [3]}\n",
        "```"
      ],
      "metadata": {
        "id": "5RxBlLQahLkB"
      }
    },
    {
      "cell_type": "code",
      "source": [
        "# List that needs to be converted to dictionary\n",
        "s = [(\"akash\", 10), (\"gaurav\", 12), (\"anand\", 14), (\"suraj\", 20), (\"akhil\", 25), (\"ashish\", 30)]\n",
        "\n",
        "# Converting list to string\n",
        "s = {i[0]:[i[1]] for i in s}\n",
        "\n",
        "# Displaying converted dictionary\n",
        "print(s)"
      ],
      "metadata": {
        "id": "f1yz7inMlQ5N",
        "outputId": "4a527df0-d062-430c-cc4c-342e1d02e5f5",
        "colab": {
          "base_uri": "https://localhost:8080/"
        }
      },
      "execution_count": null,
      "outputs": [
        {
          "output_type": "stream",
          "name": "stdout",
          "text": [
            "{'akash': [10], 'gaurav': [12], 'anand': [14], 'suraj': [20], 'akhil': [25], 'ashish': [30]}\n"
          ]
        }
      ]
    },
    {
      "cell_type": "markdown",
      "source": [
        "### `Q5`: Sort Dictionary key and values List.\n",
        "\n",
        "**Example 1:**\n",
        "\n",
        "Input:\n",
        "\n",
        "```bash\n",
        "{'c': [3], 'b': [12, 10], 'a': [19, 4]}\n",
        "```\n",
        "\n",
        "Output:\n",
        "\n",
        "```bash\n",
        "{'a': [4, 19], 'b': [10, 12], 'c': [3]}\n",
        "```\n",
        "\n",
        "**Example 2:**\n",
        "\n",
        "Input:\n",
        "\n",
        "```bash\n",
        "{'c': [10, 34, 3]}\n",
        "```\n",
        "\n",
        "Output:\n",
        "\n",
        "```bash\n",
        "{'c': [3, 10, 34]}\n",
        "```"
      ],
      "metadata": {
        "id": "Fz8EzJD-kBkS"
      }
    },
    {
      "cell_type": "code",
      "source": [
        "# Dictionary which needs to be sorted\n",
        "t = {'c': [3], 'b': [12, 10], 'a': [19, 4]}\n",
        "\n",
        "# sorting the dictionary\n",
        "ans = {i:sorted(t[i]) for i in sorted(t)}\n",
        "\n",
        "# Displaying the answer\n",
        "print(ans)"
      ],
      "metadata": {
        "id": "x9UmJ4EQk7Pp",
        "outputId": "d90512db-fbe1-4cf4-aea4-65cccf5d5fde",
        "colab": {
          "base_uri": "https://localhost:8080/"
        }
      },
      "execution_count": null,
      "outputs": [
        {
          "output_type": "stream",
          "name": "stdout",
          "text": [
            "{'a': [4, 19], 'b': [10, 12], 'c': [3]}\n"
          ]
        }
      ]
    }
  ]
}