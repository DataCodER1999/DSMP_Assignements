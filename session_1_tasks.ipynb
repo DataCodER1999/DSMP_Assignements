{
  "nbformat": 4,
  "nbformat_minor": 0,
  "metadata": {
    "colab": {
      "provenance": []
    },
    "kernelspec": {
      "name": "python3",
      "display_name": "Python 3"
    },
    "language_info": {
      "name": "python"
    }
  },
  "cells": [
    {
      "cell_type": "markdown",
      "source": [
        "# Task : Session 1\n",
        "Solve these questions own your own and try to test yourself what you have learned in the session.\n",
        "\n",
        "Happy Learning!"
      ],
      "metadata": {
        "id": "A05OG15VqOPF"
      }
    },
    {
      "cell_type": "markdown",
      "source": [
        "### Q1 :- Print the given strings as per stated format.\n",
        "\n",
        "**Given strings**:\n",
        "```\n",
        "\"Data\" \"Science\" \"Mentorship\" \"Program\"\n",
        "\"By\" \"CampusX\"\n",
        "```\n",
        "**Output**:\n",
        "```\n",
        "Data-Science-Mentorship-Program-started-By-CampusX\n",
        "```\n",
        "\n",
        "Concept- [Seperator and End]"
      ],
      "metadata": {
        "id": "2doIXf8bqe9_"
      }
    },
    {
      "cell_type": "code",
      "source": [
        "# 1st print statement\n",
        "print(\"Data\",\"Science\",\"Mentorship\",\"Program\",end=\"-started-\",sep=\"-\")\n",
        "\n",
        "# 2nd print statement\n",
        "print(\"By\",\"CampusX\",sep=\"-\")"
      ],
      "metadata": {
        "id": "-em6d3KErDtp",
        "outputId": "84b2b776-3e77-4018-95a6-602b01a809d5",
        "colab": {
          "base_uri": "https://localhost:8080/"
        }
      },
      "execution_count": 2,
      "outputs": [
        {
          "output_type": "stream",
          "name": "stdout",
          "text": [
            "Data-Science-Mentorship-Program-started-By-CampusX\n"
          ]
        }
      ]
    },
    {
      "cell_type": "markdown",
      "source": [
        "### Q2:- Write a program that will convert celsius value to fahrenheit."
      ],
      "metadata": {
        "id": "1KUpN7ZTrC3_"
      }
    },
    {
      "cell_type": "code",
      "source": [
        "# Asking user input for temperature in celcius\n",
        "celcius = float(input(\"Please enter temperature in celcius : \"))\n",
        "\n",
        "# Converting celcius into fahrenheit\n",
        "fahrenheit = ((9/5) * celcius) + 32\n",
        "\n",
        "# Displaying temperature in fahrenheit\n",
        "print(\"Temperature in fahrenheit is : \",round(fahrenheit,2))"
      ],
      "metadata": {
        "id": "yxKYhYQiqWfj",
        "outputId": "45cb338e-c282-4191-d3a9-5d70bb95d175",
        "colab": {
          "base_uri": "https://localhost:8080/"
        }
      },
      "execution_count": 4,
      "outputs": [
        {
          "output_type": "stream",
          "name": "stdout",
          "text": [
            "Please enter temperature in celcius : 37\n",
            "Temperature in fahrenheit is :  98.6\n"
          ]
        }
      ]
    },
    {
      "cell_type": "markdown",
      "source": [
        "### Q3:- Take 2 numbers as input from the user.Write a program to swap the numbers without using any special python syntax."
      ],
      "metadata": {
        "id": "RLrOBBJurLB2"
      }
    },
    {
      "cell_type": "code",
      "source": [
        "# Taking user input for numbers\n",
        "num1 = int(input(\"Enter number 1 : \"))\n",
        "num2 = int(input(\"Enter number 2 : \"))\n",
        "\n",
        "# Printing numbers before swap\n",
        "print(\"Value of num1 before swap : \",num1)\n",
        "print(\"Value of num2 before swap : \",num2)\n",
        "\n",
        "# Swapping numbers using a third variable\n",
        "temp = num1\n",
        "num1 = num2\n",
        "num2 = temp\n",
        "\n",
        "# Printing numbers after swap\n",
        "print(\"Value of num1 after swap : \",num1)\n",
        "print(\"Value of num2 after swap : \",num2)"
      ],
      "metadata": {
        "id": "yPn7if0TrJ4F",
        "outputId": "cfbc4318-8a14-4d1a-912a-9c554092688c",
        "colab": {
          "base_uri": "https://localhost:8080/"
        }
      },
      "execution_count": 5,
      "outputs": [
        {
          "output_type": "stream",
          "name": "stdout",
          "text": [
            "Enter number 1 : 20\n",
            "Enter number 2 : 35\n",
            "Value of num1 before swap :  20\n",
            "Value of num2 before swap :  35\n",
            "Value of num1 after swap :  35\n",
            "Value of num2 after swap :  20\n"
          ]
        }
      ]
    },
    {
      "cell_type": "markdown",
      "source": [
        "\n",
        "\n",
        "### Q4:- Write a program to find the euclidean distance between two coordinates.Take both the coordinates from the user as input."
      ],
      "metadata": {
        "id": "waLCP1bjr7ML"
      }
    },
    {
      "cell_type": "code",
      "source": [
        "# Taking coordinate values from user\n",
        "x1 = int(input(\"Coordinate 1 x value : \"))\n",
        "y1 = int(input(\"Coordinate 1 y value : \"))\n",
        "x2 = int(input(\"Coordinate 2 x value : \"))\n",
        "y2 = int(input(\"Coordinate 2 y value : \"))\n",
        "\n",
        "# Calculating Eucledian distance\n",
        "eucledian_distance = ((y2-y1)**2 + (x2-x1)**2)**0.5\n",
        "\n",
        "# Displaying eucledian distance\n",
        "print(\"Eucledian distance b/w the given points is -> \",round(eucledian_distance,2))"
      ],
      "metadata": {
        "id": "Pl1Sv-xnrxnH",
        "outputId": "363ab8bb-1aa6-4c98-e498-3314b0c54fec",
        "colab": {
          "base_uri": "https://localhost:8080/"
        }
      },
      "execution_count": 6,
      "outputs": [
        {
          "output_type": "stream",
          "name": "stdout",
          "text": [
            "Coordinate 1 x value : 3\n",
            "Coordinate 1 y value : 4\n",
            "Coordinate 2 x value : 9\n",
            "Coordinate 2 y value : 8\n",
            "Eucledian distance b/w the given points is ->  7.21\n"
          ]
        }
      ]
    },
    {
      "cell_type": "markdown",
      "source": [
        "### Q5:- Write a program to find the simple interest when the value of principle,rate of interest and time period is provided by the user.\n"
      ],
      "metadata": {
        "id": "VLrhg-FRsHjR"
      }
    },
    {
      "cell_type": "code",
      "source": [
        "# Taking user input for principal , rate , time\n",
        "principal = int(input(\"Enter principal amount : \"))\n",
        "rate = int(input(\"Enter the rate of interest : \"))\n",
        "time = int(input(\"Enter the time : \"))\n",
        "\n",
        "# Calculating Simple Interest\n",
        "si = (principal * rate * time) / 100\n",
        "\n",
        "# Displaying simple interest\n",
        "print(\"Simple Interest is -> \",si)"
      ],
      "metadata": {
        "id": "s40DlReZsTmY",
        "outputId": "fdcaa1e5-0ba1-4ffc-cd16-bfec61277df7",
        "colab": {
          "base_uri": "https://localhost:8080/"
        }
      },
      "execution_count": 7,
      "outputs": [
        {
          "output_type": "stream",
          "name": "stdout",
          "text": [
            "Enter principal amount : 300000\n",
            "Enter the rate of interest : 4\n",
            "Enter the time : 2\n",
            "Simple Interest is ->  24000.0\n"
          ]
        }
      ]
    },
    {
      "cell_type": "markdown",
      "source": [
        "### Q6:- Write a program that will tell the number of dogs and chicken are there when the user will provide the value of total heads and legs.\n",
        "\n",
        "For example:\n",
        "Input:\n",
        "heads -> 4\n",
        "legs -> 12\n",
        "<br>\n",
        "Output:\n",
        "dogs -> 2\n",
        "chicken -> 2\n",
        "\n",
        "\n",
        "\n"
      ],
      "metadata": {
        "id": "LMy0BTUktYKa"
      }
    },
    {
      "cell_type": "code",
      "source": [
        "# Getting number of legs and heads values from user\n",
        "heads = int(input(\"Enter the total number of legs : \"))\n",
        "legs = int(input(\"Enter the total number of heads : \"))\n",
        "\n",
        "# Calculating number of dogs and chickens\n",
        "dogs = (legs - 2*heads)//2\n",
        "chickens = heads - dogs\n",
        "\n",
        "# Displaying total number of dogs and chickens\n",
        "print(\"Total number of dogs -> \",dogs)\n",
        "print(\"Total number of chickens -> \",chickens)"
      ],
      "metadata": {
        "id": "XSBvJoA4tXaG",
        "outputId": "06f8610a-9ffd-4e3e-ba08-193b8cb32c89",
        "colab": {
          "base_uri": "https://localhost:8080/"
        }
      },
      "execution_count": 8,
      "outputs": [
        {
          "output_type": "stream",
          "name": "stdout",
          "text": [
            "Enter the total number of legs : 4\n",
            "Enter the total number of heads : 12\n",
            "Total number of dogs ->  2\n",
            "Total number of chickens ->  2\n"
          ]
        }
      ]
    },
    {
      "cell_type": "markdown",
      "source": [
        "### Q7:- Write a program to find the sum of squares of first n natural numbers where n will be provided by the user."
      ],
      "metadata": {
        "id": "gJ7C5kZYt4BP"
      }
    },
    {
      "cell_type": "code",
      "source": [
        "# Getting user input for the value of n\n",
        "n = int(input(\"Enter the value of n : \"))\n",
        "sum = 0\n",
        "\n",
        "# Running a loop to find the sum from 1 to n\n",
        "for i in range(n+1):\n",
        "  sum = sum + i\n",
        "\n",
        "# Displaying sum of first n natural numbers\n",
        "print(\"Sum from (1-n) : \",sum)"
      ],
      "metadata": {
        "id": "_tHsmEHzt2nX",
        "outputId": "566ec097-7f42-4b0e-eba7-48a98cbbaf83",
        "colab": {
          "base_uri": "https://localhost:8080/"
        }
      },
      "execution_count": 10,
      "outputs": [
        {
          "output_type": "stream",
          "name": "stdout",
          "text": [
            "Enter the value of n : 10\n",
            "Sum from (1-n) :  55\n"
          ]
        }
      ]
    },
    {
      "cell_type": "markdown",
      "source": [
        "### Q8:- Given the first 2 terms of an Arithmetic Series.Find the Nth term of the series. Assume all inputs are provided by the user."
      ],
      "metadata": {
        "id": "FHrMM7g-yG1h"
      }
    },
    {
      "cell_type": "code",
      "source": [
        "# Getting requires user inputs\n",
        "first = int(input(\"Enter first number : \"))\n",
        "second = int(input(\"Enter second number : \"))\n",
        "n = int(input(\"Enter the value of n : \"))\n",
        "diff = second - first\n",
        "\n",
        "# Finding the nth_term\n",
        "nth_term = first + (n-1) * diff\n",
        "\n",
        "# Printing nth_term\n",
        "print(\"Nth term is : \",nth_term)"
      ],
      "metadata": {
        "id": "go4_kmZmyVSx",
        "outputId": "1c553d17-faec-4363-85d3-c7e79386d20f",
        "colab": {
          "base_uri": "https://localhost:8080/"
        }
      },
      "execution_count": 11,
      "outputs": [
        {
          "output_type": "stream",
          "name": "stdout",
          "text": [
            "Enter first number : 3\n",
            "Enter second number : 8\n",
            "Enter the value of n : 9\n",
            "Nth term is :  43\n"
          ]
        }
      ]
    },
    {
      "cell_type": "markdown",
      "source": [
        "### Q9:- Given 2 fractions, find the sum of those 2 fractions.Take the numerator and denominator values of the fractions from the user."
      ],
      "metadata": {
        "id": "QgyRX_es1oum"
      }
    },
    {
      "cell_type": "code",
      "source": [
        "# Getting fraction values from user\n",
        "num1 = int(input(\"Enter fraction 1 numerator : \"))\n",
        "den1 = int(input(\"Enter fraction 1 denominator : \"))\n",
        "num2 = int(input(\"Enter fraction 2 numerator : \"))\n",
        "den2 = int(input(\"Enter fraction 2 denominator : \"))\n",
        "\n",
        "# Calculating sum of both the fractions\n",
        "summation = num1/den1 + num2/den2\n",
        "\n",
        "# Displaying sum of both the fractions\n",
        "print(\"Sum of both the fractions are -> \",summation)"
      ],
      "metadata": {
        "id": "X05xqFS1yW16",
        "outputId": "cbcd51a7-a0e5-4433-e942-467828d0a8c4",
        "colab": {
          "base_uri": "https://localhost:8080/"
        }
      },
      "execution_count": 12,
      "outputs": [
        {
          "output_type": "stream",
          "name": "stdout",
          "text": [
            "Enter fraction 1 numerator : 4\n",
            "Enter fraction 1 denominator : 2\n",
            "Enter fraction 2 numerator : 90\n",
            "Enter fraction 2 denominator : 4\n",
            "Sum of both the fractions are ->  24.5\n"
          ]
        }
      ]
    },
    {
      "cell_type": "markdown",
      "source": [
        "### Q10:- Given the height, width and breadth of a milk tank, you have to find out how many glasses of milk can be obtained? Assume all the inputs are provided by the user.\n",
        "\n",
        "\n",
        "\n",
        "Input:<br>\n",
        "Dimensions of the milk tank<br>\n",
        "H = 20cm, L = 20cm, B = 20cm\n",
        "<br><br>\n",
        "Dimensions of the glass<br>\n",
        "h = 3cm, r = 1cm"
      ],
      "metadata": {
        "id": "eaql38ln13u7"
      }
    },
    {
      "cell_type": "code",
      "source": [
        "# Taking dimensions of milk tank as input from user\n",
        "tank_height = int(input(\"Enter milk tank height : \"))\n",
        "tank_length = int(input(\"Enter milk tank length : \"))\n",
        "tank_breadth = int(input(\"Enter milk tank breadth : \"))\n",
        "\n",
        "# Taking dimensions of glass from user\n",
        "glass_height = int(input(\"Enter glass height : \"))\n",
        "glass_radius = int(input(\"Enter glass radius :\"))\n",
        "\n",
        "# Calculating volumes of both milk_tank and glass\n",
        "tank_volume = tank_height * tank_length * tank_breadth\n",
        "glass_volume = 3.14 * glass_radius * glass_radius * glass_height\n",
        "\n",
        "# Finding out how many glasses can be taken out of tank\n",
        "no_of_glasses = tank_volume // glass_volume\n",
        "\n",
        "# Displaying total number of glasses that can be taken out of milk tank\n",
        "print(\"Total no of glasses that can be taken out of milk tank -> \",no_of_glasses)"
      ],
      "metadata": {
        "id": "FePZqno74eWv",
        "outputId": "6bb0f7b6-587c-48b6-a631-b61f35ae03d6",
        "colab": {
          "base_uri": "https://localhost:8080/"
        }
      },
      "execution_count": 14,
      "outputs": [
        {
          "output_type": "stream",
          "name": "stdout",
          "text": [
            "Enter milk tank height : 20\n",
            "Enter milk tank length : 20\n",
            "Enter milk tank breadth : 20\n",
            "Enter glass height : 3\n",
            "Enter glass radius :1\n",
            "Total no of glasses that can be taken out of milk tank ->  849.0\n"
          ]
        }
      ]
    }
  ]
}