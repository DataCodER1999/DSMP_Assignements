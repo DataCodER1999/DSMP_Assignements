{
  "nbformat": 4,
  "nbformat_minor": 0,
  "metadata": {
    "colab": {
      "provenance": []
    },
    "kernelspec": {
      "name": "python3",
      "display_name": "Python 3"
    },
    "language_info": {
      "name": "python"
    }
  },
  "cells": [
    {
      "cell_type": "markdown",
      "source": [
        "**Note: In Data Science googling is a very important skill. If you find some difficulties to solve the problem, google it and try to find some clues to solve.**"
      ],
      "metadata": {
        "id": "6WdKdPGx-tnY"
      }
    },
    {
      "cell_type": "code",
      "source": [
        "import numpy as np"
      ],
      "metadata": {
        "id": "-J4F1ysN4mLk"
      },
      "execution_count": 1,
      "outputs": []
    },
    {
      "cell_type": "markdown",
      "source": [
        "###`Q-1` Create a null vector of size 10 but the fifth value which is 1.\n",
        "\n"
      ],
      "metadata": {
        "id": "a_K8IH-C6HDK"
      }
    },
    {
      "cell_type": "code",
      "source": [
        "# Creating a vector with all elements in it as zero\n",
        "a = np.zeros((10))\n",
        "\n",
        "# Changing value to 1 at index 5\n",
        "a[4] = 1\n",
        "\n",
        "# Printing the resultant array\n",
        "print(a)"
      ],
      "metadata": {
        "id": "sTF03KsZ6QUI",
        "outputId": "a19328d6-114b-4b93-c6da-383586717ac6",
        "colab": {
          "base_uri": "https://localhost:8080/"
        }
      },
      "execution_count": 4,
      "outputs": [
        {
          "output_type": "stream",
          "name": "stdout",
          "text": [
            "[0. 0. 0. 0. 1. 0. 0. 0. 0. 0.]\n"
          ]
        }
      ]
    },
    {
      "cell_type": "markdown",
      "source": [
        "###`Q-2` Ask user to input two numbers a, b. Write a program to generate a random array of shape (a, b) and print the array and avg of the array."
      ],
      "metadata": {
        "id": "TEiG25rS6S1i"
      }
    },
    {
      "cell_type": "code",
      "source": [
        "# Asking input from users about the shape of the array\n",
        "rows = int(input(\"Enter total number of rows : \"))\n",
        "columns = int(input(\"Enter total number of columns : \"))\n",
        "\n",
        "# Creating ramdom array\n",
        "array = np.random.random((rows,columns))\n",
        "\n",
        "# Printing array\n",
        "print(array)"
      ],
      "metadata": {
        "id": "ihwn4oOH6Vh7",
        "outputId": "646491fa-e450-459c-b30c-e5bb7b5a6a8c",
        "colab": {
          "base_uri": "https://localhost:8080/"
        }
      },
      "execution_count": 6,
      "outputs": [
        {
          "output_type": "stream",
          "name": "stdout",
          "text": [
            "Enter total number of rows : 6\n",
            "Enter total number of columns : 6\n",
            "[[0.12844178 0.21543167 0.68923726 0.12248286 0.18252561 0.75590673]\n",
            " [0.65943994 0.72598644 0.17246623 0.28587126 0.67557737 0.08850352]\n",
            " [0.0378457  0.09092659 0.81508969 0.25374552 0.33887252 0.46750775]\n",
            " [0.78522938 0.50161044 0.13259682 0.75973194 0.09127194 0.69671137]\n",
            " [0.71444856 0.45121497 0.7575236  0.51709686 0.45863475 0.92057244]\n",
            " [0.81201016 0.38747399 0.19995676 0.56094303 0.70690266 0.31936458]]\n"
          ]
        }
      ]
    },
    {
      "cell_type": "markdown",
      "source": [
        "###`Q-3`Write a function to create a 2d array with 1 on the border and 0 inside. Take 2-D array shape as (a,b) as parameter to function.\n",
        "\n",
        "Eg.-\n",
        "```\n",
        "[[1,1,1,1],\n",
        "[1,0,0,1],\n",
        "[1,0,0,1],\n",
        "[1,1,1,1]]\n",
        "```"
      ],
      "metadata": {
        "id": "2iEeybS06ZSq"
      }
    },
    {
      "cell_type": "code",
      "source": [
        "# Taking input from users about the shape of the array\n",
        "rows = int(input(\"Enter number of rows : \"))\n",
        "columns = int(input(\"Enter number of columns : \"))\n",
        "\n",
        "# Creating array using np.ones() with dimensions specified by user\n",
        "array = np.ones((rows,columns))\n",
        "\n",
        "# Replacing internal elements with zero\n",
        "array[1:-1,1:-1] = 0\n",
        "\n",
        "# Printing resultant array\n",
        "print(array)"
      ],
      "metadata": {
        "id": "gEKndkDU6ZSs",
        "outputId": "2aa3d7c1-725d-4ad5-dbd4-b53554ab9f33",
        "colab": {
          "base_uri": "https://localhost:8080/"
        }
      },
      "execution_count": 7,
      "outputs": [
        {
          "output_type": "stream",
          "name": "stdout",
          "text": [
            "Enter number of rows : 7\n",
            "Enter number of columns : 7\n",
            "[[1. 1. 1. 1. 1. 1. 1.]\n",
            " [1. 0. 0. 0. 0. 0. 1.]\n",
            " [1. 0. 0. 0. 0. 0. 1.]\n",
            " [1. 0. 0. 0. 0. 0. 1.]\n",
            " [1. 0. 0. 0. 0. 0. 1.]\n",
            " [1. 0. 0. 0. 0. 0. 1.]\n",
            " [1. 1. 1. 1. 1. 1. 1.]]\n"
          ]
        }
      ]
    },
    {
      "cell_type": "markdown",
      "source": [
        "###`Q-4` Create a vector of size 10 with values ranging from 0 to 1, both excluded.\n"
      ],
      "metadata": {
        "id": "QRJicQ8j6ZlE"
      }
    },
    {
      "cell_type": "code",
      "source": [
        "# Creating desired vector\n",
        "vector = np.linspace(0,1,12)[1:-1]\n",
        "\n",
        "# Printing array\n",
        "print(vector)"
      ],
      "metadata": {
        "id": "eC4XLhDq6ZlF",
        "outputId": "79c94029-f8a0-43b3-f519-288ceca7631b",
        "colab": {
          "base_uri": "https://localhost:8080/"
        }
      },
      "execution_count": 8,
      "outputs": [
        {
          "output_type": "stream",
          "name": "stdout",
          "text": [
            "[0.09090909 0.18181818 0.27272727 0.36363636 0.45454545 0.54545455\n",
            " 0.63636364 0.72727273 0.81818182 0.90909091]\n"
          ]
        }
      ]
    },
    {
      "cell_type": "markdown",
      "source": [
        "###`Q-5` Can you create a identity mattrix of shape (3,4). If yes write code for it."
      ],
      "metadata": {
        "id": "vb4jK4yQ6Zs2"
      }
    },
    {
      "cell_type": "code",
      "source": [
        "# No we cannot create identity matrix of shape (3,4) because identity matrix is always of sphape columns=rows that is square matrix but here the given shape if (3,4)"
      ],
      "metadata": {
        "id": "gMATG5Qjd6dr"
      },
      "execution_count": 9,
      "outputs": []
    },
    {
      "cell_type": "markdown",
      "source": [
        "###`Q-6:` Create a 5x5 matrix with row values ranging from 0 to 4."
      ],
      "metadata": {
        "id": "QtjAFm5PEntK"
      }
    },
    {
      "cell_type": "code",
      "source": [
        "# Creating zero matrix of 5x5 shape\n",
        "matrix = np.zeros((5,5))\n",
        "\n",
        "# Adding array [0,1,2,3,4] to each row\n",
        "matrix = matrix + np.array([0,1,2,3,4])\n",
        "\n",
        "# Printing resultant matrix\n",
        "print(matrix)"
      ],
      "metadata": {
        "id": "z2WGxRjvEuRS",
        "outputId": "d1cfabd9-e8a3-4f4b-d086-169a3fc29b81",
        "colab": {
          "base_uri": "https://localhost:8080/"
        }
      },
      "execution_count": 10,
      "outputs": [
        {
          "output_type": "stream",
          "name": "stdout",
          "text": [
            "[[0. 1. 2. 3. 4.]\n",
            " [0. 1. 2. 3. 4.]\n",
            " [0. 1. 2. 3. 4.]\n",
            " [0. 1. 2. 3. 4.]\n",
            " [0. 1. 2. 3. 4.]]\n"
          ]
        }
      ]
    },
    {
      "cell_type": "markdown",
      "source": [
        "###`Q-7:`  Consider a random integer (in range 1 to 100) vector with shape `(10,2)` representing coordinates, and coordinates of a point as array is given. Create an array of distance of each point in the random vectros from the given point. Distance array should be interger type.\n",
        "\n",
        "```\n",
        "point = np.array([2,3])\n",
        "```\n"
      ],
      "metadata": {
        "id": "KPpvxKjVHnyx"
      }
    },
    {
      "cell_type": "code",
      "source": [
        "# Creating vector of shape(10,2) which contains random integers\n",
        "vector = np.random.randint(1,100,20).reshape(10,2)\n",
        "\n",
        "# Taking input of coordinates from user\n",
        "x = int(input(\"Enter the value of x coordinate : \"))\n",
        "y = int(input(\"Enter the value of y coordinate : \"))\n",
        "\n",
        "# Converting the coordinate values into numpy array\n",
        "point = np.array([x,y])\n",
        "\n",
        "# Calculating distance array\n",
        "distances_array = np.linalg.norm(vector-point,axis=1)\n",
        "\n",
        "# Printing distances array\n",
        "print(distances_array)"
      ],
      "metadata": {
        "id": "X7KGnWLNIM6f",
        "outputId": "5a732b88-9546-433d-d152-98a9769e5df3",
        "colab": {
          "base_uri": "https://localhost:8080/"
        }
      },
      "execution_count": 12,
      "outputs": [
        {
          "output_type": "stream",
          "name": "stdout",
          "text": [
            "Enter the value of x coordinate : 8\n",
            "Enter the value of y coordinate : 6\n",
            "[ 44.20407221 112.29425631  54.81788029  30.01666204  83.60023923\n",
            "  84.          89.96110271  90.25519376  78.16009212  49.76946855]\n"
          ]
        }
      ]
    },
    {
      "cell_type": "markdown",
      "source": [
        "###`Q-8:` Consider a (6,7,8) shape array, what is the index (x,y,z) of the 100th element?"
      ],
      "metadata": {
        "id": "tajOFJlCDwTr"
      }
    },
    {
      "cell_type": "code",
      "source": [
        "# Creating an array with shape(6,7,8)\n",
        "array = np.random.randint(1,100,336).reshape(6,7,8)\n",
        "\n",
        "# Calculating 100th element\n",
        "index = np.unravel_index(100,(6,7,8))\n",
        "\n",
        "# Printing index\n",
        "print(index)"
      ],
      "metadata": {
        "id": "qH4oxvs0D3Ra",
        "outputId": "5dc4ac06-c7da-4c24-941d-04ec6415598e",
        "colab": {
          "base_uri": "https://localhost:8080/"
        }
      },
      "execution_count": 16,
      "outputs": [
        {
          "output_type": "stream",
          "name": "stdout",
          "text": [
            "(1, 5, 4)\n"
          ]
        }
      ]
    },
    {
      "cell_type": "markdown",
      "source": [
        "### `Q-9:` Arrays\n",
        "\n",
        "You are given a space separated list of numbers. Your task is to print a reversed NumPy array with the element type float.\n",
        "\n"
      ],
      "metadata": {
        "id": "9LxBAbT2Pw33"
      }
    },
    {
      "cell_type": "markdown",
      "source": [
        "**Input Format:**\n",
        "\n",
        "A single line of input containing space separated numbers.\n",
        "\n",
        "**Output Format:**\n",
        "\n",
        "Print the reverse NumPy array with type float.\n",
        "\n",
        "**Example 1:**\n",
        "\n",
        "Input:\n",
        "\n",
        "```bash\n",
        "1 2 3 4 -8 -10\n",
        "```\n",
        "\n",
        "Output:\n",
        "\n",
        "```bash\n",
        "[-10.  -8.   4.   3.   2.   1.]\n",
        "```"
      ],
      "metadata": {
        "id": "JJpqVms2Nq7L"
      }
    },
    {
      "cell_type": "code",
      "source": [
        "# Space separated numbers which needs to be sorted in reverse order of dtype float\n",
        "numbers = '1 2 3 4 -8 -10'\n",
        "numbers = np.array(numbers.split(),dtype=np.float)\n",
        "\n",
        "# Reversing the array\n",
        "reverse_sorted_array = np.sort(numbers)\n",
        "\n",
        "# Printing reverse_sorted_array\n",
        "print(reverse_sorted_array)"
      ],
      "metadata": {
        "id": "7iQyg6ChNl3j",
        "outputId": "6c4a3ecb-0c2a-4e28-a3c7-c16c0dc419f0",
        "colab": {
          "base_uri": "https://localhost:8080/"
        }
      },
      "execution_count": 20,
      "outputs": [
        {
          "output_type": "stream",
          "name": "stdout",
          "text": [
            "[-10.  -8.   1.   2.   3.   4.]\n"
          ]
        },
        {
          "output_type": "stream",
          "name": "stderr",
          "text": [
            "<ipython-input-20-a9a48e363deb>:3: DeprecationWarning: `np.float` is a deprecated alias for the builtin `float`. To silence this warning, use `float` by itself. Doing this will not modify any behavior and is safe. If you specifically wanted the numpy scalar type, use `np.float64` here.\n",
            "Deprecated in NumPy 1.20; for more details and guidance: https://numpy.org/devdocs/release/1.20.0-notes.html#deprecations\n",
            "  numbers = np.array(numbers.split(),dtype=np.float)\n"
          ]
        }
      ]
    },
    {
      "cell_type": "markdown",
      "source": [
        "### `Q-10:` Elements count\n",
        "\n",
        "Count the number of elements of a numpy array.\n",
        "\n"
      ],
      "metadata": {
        "id": "TPxD7jM8Sjz9"
      }
    },
    {
      "cell_type": "markdown",
      "source": [
        "**Example 1:**\n",
        "\n",
        "Input:\n",
        "```bash\n",
        "np.array([])\n",
        "```\n",
        "\n",
        "Output:\n",
        "```bash\n",
        "elements_count :  0\n",
        "```\n",
        "\n",
        "**Example 2:**\n",
        "\n",
        "Input:\n",
        "```bash\n",
        "np.array([1, 2])\n",
        "```\n",
        "\n",
        "Output:\n",
        "```bash\n",
        "elements_count :  2\n",
        "```"
      ],
      "metadata": {
        "id": "oHTiTz_jNkAU"
      }
    },
    {
      "cell_type": "code",
      "source": [
        "# Sample array of which element count operation needs to be performed\n",
        "array = np.array([1,2,3,4,5])\n",
        "\n",
        "# Print elements count\n",
        "print(array.size)"
      ],
      "metadata": {
        "id": "RG0H2I-TNeGN",
        "outputId": "5c2d3311-2506-4743-eee9-90822604bdfd",
        "colab": {
          "base_uri": "https://localhost:8080/"
        }
      },
      "execution_count": 21,
      "outputs": [
        {
          "output_type": "stream",
          "name": "stdout",
          "text": [
            "5\n"
          ]
        }
      ]
    },
    {
      "cell_type": "markdown",
      "source": [
        "### `Q-11:` Softmax function\n",
        "\n",
        "Create a Python function to calculate the Softmax of the given numpy 1D array. The function only accepts the numpy 1D array, otherwise raise error.\n",
        "\n",
        "$$\\Large \\sigma(\\vec z)_i = \\frac{e^{z_i}}{\\sum_{j=i}^{K}{e^{z_j}}}$$\n",
        "\n",
        "https://en.wikipedia.org/wiki/Softmax_function\n",
        "\n"
      ],
      "metadata": {
        "id": "pwgPz-3l5ic5"
      }
    },
    {
      "cell_type": "markdown",
      "source": [
        "**Example 1:**\n",
        "\n",
        "Input:\n",
        "```bash\n",
        "[86.03331084 37.7285648  48.64908087 87.16563062 38.40852563 37.20006318]\n",
        "```\n",
        "\n",
        "Output:\n",
        "```bash\n",
        "[2.43733249e-01, 2.56112115e-22, 1.41628284e-17, 7.56266751e-01,\n",
        "       5.05514197e-22, 1.50974911e-22]\n",
        "```\n",
        "\n",
        "**Example 2:**\n",
        "\n",
        "Input:\n",
        "```bash\n",
        "[33.17344305 45.61961654 82.05405781 80.9647098  68.82830233 91.52064278]\n",
        "```\n",
        "\n",
        "Output:\n",
        "```bash\n",
        "[4.57181035e-26, 1.16249923e-20, 7.73872596e-05, 2.60358426e-05,\n",
        "       1.39571531e-10, 9.99896577e-01]\n",
        "```"
      ],
      "metadata": {
        "id": "eZ3WJt6UM1ul"
      }
    },
    {
      "cell_type": "code",
      "source": [
        "# Input list\n",
        "lst = [86.03331084,37.7285648,48.64908087,87.16563062,38.40852563,37.20006318]\n",
        "\n",
        "# Converting list into array to make out task easier\n",
        "input = np.array(lst)\n",
        "\n",
        "# Calculating softmax function result\n",
        "e_x = np.exp(input - np.max(input))\n",
        "softmax_result = e_x / e_x.sum(axis=0)\n",
        "\n",
        "# Printing softmax function result\n",
        "print(softmax_result)"
      ],
      "metadata": {
        "id": "VNzj05lkNaNi",
        "outputId": "a1faf8f7-60bb-4502-d712-7ae446bb4689",
        "colab": {
          "base_uri": "https://localhost:8080/"
        }
      },
      "execution_count": 32,
      "outputs": [
        {
          "output_type": "stream",
          "name": "stdout",
          "text": [
            "[2.43733248e-01 2.56112114e-22 1.41628283e-17 7.56266752e-01\n",
            " 5.05514197e-22 1.50974911e-22]\n"
          ]
        }
      ]
    },
    {
      "cell_type": "markdown",
      "source": [
        "### `Q-12:` Vertical stack\n",
        "\n",
        "Write a python function that accepts infinite number of numpy arrays and do the vertical stack to them. Then return that new array as result. The function only accepts the numpy array, otherwise raise error.\n",
        "\n"
      ],
      "metadata": {
        "id": "k4JWSwWu_HXg"
      }
    },
    {
      "cell_type": "markdown",
      "source": [
        "**Example 1:**\n",
        "\n",
        "Input:\n",
        "```bash\n",
        "a= [[0 1 2 3 4]\n",
        " [5 6 7 8 9]]\n",
        "\n",
        "b= [[1 1 1 1 1]\n",
        " [1 1 1 1 1]]\n",
        "```\n",
        "\n",
        "Output:\n",
        "\n",
        "```bash\n",
        "[[0 1 2 3 4]\n",
        " [5 6 7 8 9]\n",
        " [1 1 1 1 1]\n",
        " [1 1 1 1 1]]\n",
        "```\n",
        "\n",
        "**Example 2:**\n",
        "\n",
        "Input:\n",
        "```bash\n",
        "a= [[0 1 2 3 4]\n",
        " [5 6 7 8 9]]\n",
        "\n",
        "b= [[1 1 1 1 1]\n",
        " [1 1 1 1 1]]\n",
        "\n",
        "c= [[0.10117373 0.1677244  0.73764059 0.83166097 0.48985695]\n",
        " [0.44581567 0.13502419 0.55692335 0.16479622 0.61193593]]\n",
        "```\n",
        "\n",
        "Output:\n",
        "```bash\n",
        "[[0.         1.         2.         3.         4.        ]\n",
        " [5.         6.         7.         8.         9.        ]\n",
        " [1.         1.         1.         1.         1.        ]\n",
        " [1.         1.         1.         1.         1.        ]\n",
        " [0.10117373 0.1677244  0.73764059 0.83166097 0.48985695]\n",
        " [0.44581567 0.13502419 0.55692335 0.16479622 0.61193593]]\n",
        "```"
      ],
      "metadata": {
        "id": "XhhV3mraNAWr"
      }
    },
    {
      "cell_type": "code",
      "source": [
        "# Creating function which can vertically stack any numpy arrays given as input\n",
        "def vertical_stacking(*args):\n",
        "\n",
        "  # First checking if all the inputs are numpy arrays or not . If not we will raise error\n",
        "  for i in args:\n",
        "    if not isinstance(i,np.ndarray):\n",
        "      raise ValueError\n",
        "\n",
        "\n",
        "  # Stacking arrays vertically\n",
        "  ans = np.vstack(args)\n",
        "\n",
        "  # Returning arrays\n",
        "  return ans\n",
        "\n",
        "\n",
        "# Input arrays that will be send to function\n",
        "\n",
        "# Array-1\n",
        "arr1 = np.random.randint(1,100,25).reshape(5,5)\n",
        "\n",
        "# Array-2\n",
        "arr2 = np.random.randint(1,100,25).reshape(5,5)\n",
        "\n",
        "\n",
        "# Function call\n",
        "vertical_stacking(arr1,arr2)"
      ],
      "metadata": {
        "id": "dhtnbSj6NP8z",
        "outputId": "42f1d03c-ef25-467c-f77f-11f5a9bdbfc8",
        "colab": {
          "base_uri": "https://localhost:8080/"
        }
      },
      "execution_count": 66,
      "outputs": [
        {
          "output_type": "execute_result",
          "data": {
            "text/plain": [
              "array([[19, 42, 12, 26, 65],\n",
              "       [ 4, 92, 69, 29, 21],\n",
              "       [21, 42, 28, 36, 70],\n",
              "       [83, 73, 52, 98,  4],\n",
              "       [34, 94, 65,  9, 11],\n",
              "       [ 5, 55, 29, 92, 56],\n",
              "       [47, 49, 13, 15, 94],\n",
              "       [66, 25, 14, 70, 10],\n",
              "       [46,  8, 76, 49, 81],\n",
              "       [93, 81, 39, 37, 60]])"
            ]
          },
          "metadata": {},
          "execution_count": 66
        }
      ]
    },
    {
      "cell_type": "markdown",
      "source": [
        "### `Q-13:` Dates\n",
        "\n",
        "Create a python function named **date_array** that accepts two dates as string format and returns a numpy array of dates between those 2 dates. The function only accept 2 strings, otherwise raise error. The date format should be like this only: `2022-12-6`. The end date should be included and for simplicity, choose dates from a same year.\n",
        "\n"
      ],
      "metadata": {
        "id": "3mk8T6CuC2DP"
      }
    },
    {
      "cell_type": "markdown",
      "source": [
        "**Example 1:**\n",
        "\n",
        "Input:\n",
        "```bash\n",
        "date_array(start = '2020-09-15', end = '2020-09-25')\n",
        "```\n",
        "\n",
        "Output:\n",
        "```bash\n",
        "['2020-09-15', '2020-09-16', '2020-09-17', '2020-09-18',\n",
        " '2020-09-19', '2020-09-20', '2020-09-21', '2020-09-22',\n",
        " '2020-09-23', '2020-09-24', '2020-09-25']\n",
        "```\n",
        "\n",
        "**Example 2:**\n",
        "\n",
        "Input:\n",
        "```bash\n",
        "date_array(start = '2022-12-01', end = '2022-12-06')\n",
        "```\n",
        "\n",
        "Output:\n",
        "```bash\n",
        "['2022-12-01', '2022-12-02', '2022-12-03', '2022-12-04', '2022-12-05', '2022-12-06']\n",
        "```\n",
        "\n",
        "**Example 3:**\n",
        "\n",
        "Input:\n",
        "```bash\n",
        "date_array(start = '2020-11-25', end = '2020-11-30')\n",
        "```\n",
        "\n",
        "Output:\n",
        "```bash\n",
        "['2020-11-25', '2020-11-26', '2020-11-27', '2020-11-28',\n",
        " '2020-11-29', '2020-11-30']\n",
        "```"
      ],
      "metadata": {
        "id": "E3IgjnTTNFEk"
      }
    },
    {
      "cell_type": "code",
      "source": [
        "# Creating function that will calculate all dates bw given dates\n",
        "def date_array(start_date , end_date):\n",
        "\n",
        "\n",
        "  # Converting input dates from string format to numpy datetime format\n",
        "  start_date = np.array(start_date,dtype=np.datetime64)\n",
        "  end_date = np.array(end_date,dtype=np.datetime64)\n",
        "\n",
        "\n",
        "  # Calculating dates b/w given dates\n",
        "  dates = start_date + np.arange((end_date - start_date) + 1)\n",
        "\n",
        "  # Returning dates\n",
        "  return dates\n",
        "\n",
        "\n",
        "# Function calls\n",
        "date_array('2024-09-02','2024-09-12')"
      ],
      "metadata": {
        "id": "Yj5PBfQQNTnL",
        "outputId": "d76d66c5-791f-4444-cf2a-7699d16b5b23",
        "colab": {
          "base_uri": "https://localhost:8080/"
        }
      },
      "execution_count": 80,
      "outputs": [
        {
          "output_type": "execute_result",
          "data": {
            "text/plain": [
              "array(['2024-09-02', '2024-09-03', '2024-09-04', '2024-09-05',\n",
              "       '2024-09-06', '2024-09-07', '2024-09-08', '2024-09-09',\n",
              "       '2024-09-10', '2024-09-11', '2024-09-12'], dtype='datetime64[D]')"
            ]
          },
          "metadata": {},
          "execution_count": 80
        }
      ]
    },
    {
      "cell_type": "markdown",
      "source": [
        "###`Q-14:` Subtract the mean of each row from a matrix."
      ],
      "metadata": {
        "id": "bcEp0wTWQijK"
      }
    },
    {
      "cell_type": "code",
      "source": [
        "# Creating input matrix\n",
        "matrix = np.random.randint(1,100,36).reshape(6,6)"
      ],
      "metadata": {
        "id": "rpILVGcgQzMo"
      },
      "execution_count": 78,
      "outputs": []
    },
    {
      "cell_type": "code",
      "source": [
        "# Printing matrix\n",
        "print(matrix)\n",
        "print('\\n\\n')\n",
        "\n",
        "# print rowise means\n",
        "print(np.mean(matrix,axis=1))\n",
        "print('\\n\\n')\n",
        "\n",
        "# Subtracting matrix rowise with roe mean\n",
        "matrix - np.mean(matrix,axis=1 , keepdims=True)"
      ],
      "metadata": {
        "id": "oiqc1wq-rvh6",
        "outputId": "34f0390d-6b31-4217-e2f4-98a6a0e4c14a",
        "colab": {
          "base_uri": "https://localhost:8080/"
        }
      },
      "execution_count": 64,
      "outputs": [
        {
          "output_type": "stream",
          "name": "stdout",
          "text": [
            "[[51 66 47 73 46 54]\n",
            " [31 93 62 95  7 32]\n",
            " [83 43 76 64 62 67]\n",
            " [29 71 23 45 74 65]\n",
            " [37 18 41 58 38 99]\n",
            " [ 2 93 96 59 39 52]]\n",
            "\n",
            "\n",
            "\n",
            "[56.16666667 53.33333333 65.83333333 51.16666667 48.5        56.83333333]\n",
            "\n",
            "\n",
            "\n"
          ]
        },
        {
          "output_type": "execute_result",
          "data": {
            "text/plain": [
              "array([[ -5.16666667,   9.83333333,  -9.16666667,  16.83333333,\n",
              "        -10.16666667,  -2.16666667],\n",
              "       [-22.33333333,  39.66666667,   8.66666667,  41.66666667,\n",
              "        -46.33333333, -21.33333333],\n",
              "       [ 17.16666667, -22.83333333,  10.16666667,  -1.83333333,\n",
              "         -3.83333333,   1.16666667],\n",
              "       [-22.16666667,  19.83333333, -28.16666667,  -6.16666667,\n",
              "         22.83333333,  13.83333333],\n",
              "       [-11.5       , -30.5       ,  -7.5       ,   9.5       ,\n",
              "        -10.5       ,  50.5       ],\n",
              "       [-54.83333333,  36.16666667,  39.16666667,   2.16666667,\n",
              "        -17.83333333,  -4.83333333]])"
            ]
          },
          "metadata": {},
          "execution_count": 64
        }
      ]
    },
    {
      "cell_type": "markdown",
      "source": [
        "###`Q-15:` Swap column-1 of array with column-2 in the array."
      ],
      "metadata": {
        "id": "A-dMVlPPSBTT"
      }
    },
    {
      "cell_type": "code",
      "source": [
        "# Creating input array\n",
        "array = np.random.randint(1,100,36).reshape(6,6)\n",
        "\n",
        "# Printing array before swap\n",
        "print(\"Array before columns swap \\n\\n\")\n",
        "print(array,'\\n\\n')\n",
        "\n",
        "# Swapping columns 0 and 1\n",
        "array[:,[0,1]] = array[:,[1,0]]\n",
        "\n",
        "# Print new array\n",
        "print(\"Array after columns swap\\n\\n\")\n",
        "print(array)"
      ],
      "metadata": {
        "id": "3RtngM9-Q6S7",
        "outputId": "f7f202dc-e975-4ab6-a0e4-33c60334fab5",
        "colab": {
          "base_uri": "https://localhost:8080/"
        }
      },
      "execution_count": 54,
      "outputs": [
        {
          "output_type": "stream",
          "name": "stdout",
          "text": [
            "Array before columns swap \n",
            "\n",
            "\n",
            "[[78 57 22 30  2 25]\n",
            " [36 77 75 73 10 52]\n",
            " [47 23 90  6  8 66]\n",
            " [16 15 28 75 77 46]\n",
            " [78 28 19 54 72 27]\n",
            " [70 24 70  8 26 43]] \n",
            "\n",
            "\n",
            "Array after columns swap\n",
            "\n",
            "\n",
            "[[57 78 22 30  2 25]\n",
            " [77 36 75 73 10 52]\n",
            " [23 47 90  6  8 66]\n",
            " [15 16 28 75 77 46]\n",
            " [28 78 19 54 72 27]\n",
            " [24 70 70  8 26 43]]\n"
          ]
        }
      ]
    },
    {
      "cell_type": "code",
      "source": [],
      "metadata": {
        "id": "48CwkbnVqRug"
      },
      "execution_count": null,
      "outputs": []
    },
    {
      "cell_type": "markdown",
      "source": [
        "###`Q-16:` Replace odd elements in arrays with -1."
      ],
      "metadata": {
        "id": "cB4VMexvS6Zi"
      }
    },
    {
      "cell_type": "code",
      "source": [
        "# Creating input array\n",
        "array = np.array([1,2,3,4,5,6,7,8,9,10])\n",
        "\n",
        "# Replacing odd elements with -1\n",
        "array = np.where(array%2 != 0,-1,array)\n",
        "\n",
        "# Printing updated array\n",
        "print(array)"
      ],
      "metadata": {
        "id": "Bt83nXEVS5O4",
        "outputId": "b5bfd4ca-e0f4-4a51-e399-b69b7ed3b1a0",
        "colab": {
          "base_uri": "https://localhost:8080/"
        }
      },
      "execution_count": 51,
      "outputs": [
        {
          "output_type": "stream",
          "name": "stdout",
          "text": [
            "[-1  2 -1  4 -1  6 -1  8 -1 10]\n"
          ]
        }
      ]
    },
    {
      "cell_type": "markdown",
      "source": [
        "###`Q-17:` Given two arrays of same shape make an array of max out of two arrays. (Numpy way)\n",
        "```\n",
        "a=np.array([6,3,1,5,8])\n",
        "b=np.array([3,2,1,7,2])\n",
        "\n",
        "Result-> [6 3 1 7 8]\n",
        "```"
      ],
      "metadata": {
        "id": "kf_qvmBxWIT_"
      }
    },
    {
      "cell_type": "code",
      "source": [
        "# Input arrays\n",
        "a=np.array([6,3,1,5,8])\n",
        "b=np.array([3,2,1,7,2])\n",
        "\n",
        "# Max element of both the arrays a and b indexwise\n",
        "ans = np.maximum(a,b)\n",
        "\n",
        "# Printing max elements of both the arrays a and b indexwise\n",
        "print(ans)"
      ],
      "metadata": {
        "id": "TB9ZvF-EZSfu",
        "outputId": "39742a56-6a97-4140-d44c-36aabc3f65ca",
        "colab": {
          "base_uri": "https://localhost:8080/"
        }
      },
      "execution_count": 48,
      "outputs": [
        {
          "output_type": "stream",
          "name": "stdout",
          "text": [
            "[6 3 1 7 8]\n"
          ]
        }
      ]
    },
    {
      "cell_type": "code",
      "source": [],
      "metadata": {
        "id": "D7ad-A6jZzCL"
      },
      "execution_count": null,
      "outputs": []
    },
    {
      "cell_type": "markdown",
      "source": [
        "###`Q-18` Answer below asked questions on given array:\n",
        "1. Fetch Every alternate column of the array\n",
        "2. Normalise the given array\n",
        "\n",
        "https://en.wikipedia.org/wiki/Normalization_(statistics)\n",
        "\n",
        "There are different form of normalisation for this question use below formula.\n",
        "\n",
        "$$\\large X_{normalized} = \\frac{X - X_{min}}{X_{max} - X_{min}}$$\n",
        "\n",
        "```python\n",
        "arr1=np.random.randint(low=1, high=10000, size=40).reshape(8,5)\n",
        "```\n"
      ],
      "metadata": {
        "id": "iOQLUIeGc3zA"
      }
    },
    {
      "cell_type": "code",
      "source": [
        "# Given\n",
        "arr1=np.random.randint(low=1, high=10000, size=40).reshape(8,5)\n",
        "arr1"
      ],
      "metadata": {
        "colab": {
          "base_uri": "https://localhost:8080/"
        },
        "id": "vjSm18k3d_1p",
        "outputId": "a8000a2f-5056-42af-d48f-6259b6111740"
      },
      "execution_count": 41,
      "outputs": [
        {
          "output_type": "execute_result",
          "data": {
            "text/plain": [
              "array([[8194, 1718, 3291, 7768, 5309],\n",
              "       [8464, 7462, 7868, 6318, 4257],\n",
              "       [6737, 4608, 2812, 5393,  920],\n",
              "       [7132, 6926, 3971, 7303, 1223],\n",
              "       [1803, 1240, 6375, 4913, 6651],\n",
              "       [3583, 8941, 2906, 5482, 5268],\n",
              "       [4187,  627, 2962, 3905, 1576],\n",
              "       [9073, 3068, 8369, 8359, 1970]])"
            ]
          },
          "metadata": {},
          "execution_count": 41
        }
      ]
    },
    {
      "cell_type": "code",
      "source": [
        "# Creating normalized array\n",
        "normalized_array = (arr1 - np.min(arr1)) / (np.max(arr1) - np.min(arr1))\n",
        "\n",
        "# Printing normalized array\n",
        "print(\"Normalized array\")\n",
        "print('\\n')\n",
        "print(normalized_array)"
      ],
      "metadata": {
        "id": "d7u8DB47eBfQ",
        "outputId": "0864b598-da89-43b8-f259-873efc9be78b",
        "colab": {
          "base_uri": "https://localhost:8080/"
        }
      },
      "execution_count": 42,
      "outputs": [
        {
          "output_type": "stream",
          "name": "stdout",
          "text": [
            "Normalized array\n",
            "\n",
            "\n",
            "[[0.89592707 0.12917357 0.31541558 0.84548899 0.55434525]\n",
            " [0.92789486 0.80925882 0.85732891 0.67381009 0.42978925]\n",
            " [0.72341937 0.47134738 0.25870234 0.56429079 0.03469098]\n",
            " [0.77018707 0.74579683 0.39592707 0.79043334 0.07056595]\n",
            " [0.13923751 0.07257874 0.68055884 0.50745915 0.71323704]\n",
            " [0.34998816 0.9843713  0.26983187 0.57482832 0.54949088]\n",
            " [0.4215013  0.         0.27646223 0.38811272 0.11236088]\n",
            " [1.         0.28901255 0.91664693 0.91546294 0.15901018]]\n"
          ]
        }
      ]
    },
    {
      "cell_type": "markdown",
      "source": [
        "###`Q-19:` Write a function which will accept 2 arguments.\n",
        "First: A 1D numpy array arr\n",
        "\n",
        "Second: An integer n {Please make sure n<=len(arr)}\n",
        "\n",
        "Output: The output should be the nth largest item out of the array\n",
        "```\n",
        "# Example1 : arr=(12,34,40,7,1,0) and n=3, the output should be 12\n",
        "# Example2 : arr=(12,34,40,7,1,0) and n=1, the output should be 40\n",
        "```"
      ],
      "metadata": {
        "id": "jCzsVEKLgGNo"
      }
    },
    {
      "cell_type": "code",
      "source": [
        "# creating function which will give nth largest element of the numpy array\n",
        "def nth_largest(array,index):\n",
        "\n",
        "  # Checking condition if index is within limits or not\n",
        "  if index > len(array):\n",
        "    print(\"Sorry but you are trying to access index that is out of bound\")\n",
        "\n",
        "  # Sorting the array\n",
        "  array = np.sort(array)[::-1]\n",
        "\n",
        "  # Returning the result\n",
        "  return array[index-1]\n",
        "\n",
        "\n",
        "# Input array and index\n",
        "array = np.array([6,8,4,6,24,4,75,32,325])\n",
        "index = 4\n",
        "\n",
        "# Function call\n",
        "nth_largest(array,index)"
      ],
      "metadata": {
        "id": "J4AzkDk7gXSG",
        "outputId": "a94aa7d4-5cc8-4f65-9656-34f230b394dc",
        "colab": {
          "base_uri": "https://localhost:8080/"
        }
      },
      "execution_count": 40,
      "outputs": [
        {
          "output_type": "execute_result",
          "data": {
            "text/plain": [
              "24"
            ]
          },
          "metadata": {},
          "execution_count": 40
        }
      ]
    },
    {
      "cell_type": "markdown",
      "source": [
        "###`Q-20:` Create the following pattern without hardcoding. Use only numpy functions and the below input array a.\n",
        "```\n",
        "# Input: a = np.array([1,2,3])\n",
        "# Output: array([1, 1, 1, 2, 2, 2, 3, 3, 3, 1, 2, 3, 1, 2, 3, 1, 2, 3])\n",
        "```"
      ],
      "metadata": {
        "id": "ja0xPCgjhBsg"
      }
    },
    {
      "cell_type": "code",
      "source": [
        "# Input array from which pattern will be made\n",
        "a = np.array([1,2,3])\n",
        "\n",
        "# Creating the pattern\n",
        "pattern = np.hstack((np.repeat(a,3),np.tile(a,3)))\n",
        "\n",
        "# Printing pattern\n",
        "print(pattern)"
      ],
      "metadata": {
        "id": "CndS8TTNhG0F",
        "outputId": "6fdc9527-2d98-43d4-e345-d76cac13a73b",
        "colab": {
          "base_uri": "https://localhost:8080/"
        }
      },
      "execution_count": 35,
      "outputs": [
        {
          "output_type": "stream",
          "name": "stdout",
          "text": [
            "[1 1 1 2 2 2 3 3 3 1 2 3 1 2 3 1 2 3]\n"
          ]
        }
      ]
    }
  ]
}