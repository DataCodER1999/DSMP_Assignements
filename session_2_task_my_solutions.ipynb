{
  "nbformat": 4,
  "nbformat_minor": 0,
  "metadata": {
    "colab": {
      "provenance": []
    },
    "kernelspec": {
      "name": "python3",
      "display_name": "Python 3"
    },
    "language_info": {
      "name": "python"
    }
  },
  "cells": [
    {
      "cell_type": "markdown",
      "source": [
        "### `Problem 1`: Write a program that will give you in hand monthly salary after deduction on CTC - HRA(10%), DA(5%), PF(3%) and taxes deduction as below:\n",
        "\n",
        "> Salary(Lakhs) : Tax(%)\n",
        "\n",
        "*   Below 5 : 0%\n",
        "*   5-10 : 10%\n",
        "*   10-20 : 20%\n",
        "*   aboove 20 : 30%"
      ],
      "metadata": {
        "id": "w6RlOAXV2PWh"
      }
    },
    {
      "cell_type": "code",
      "source": [
        "# Taking salaey as input from user in lacs\n",
        "salary = int(input(\"Enter your salary in lacs : \"))\n",
        "overall_deduction_percentage = 18\n",
        "\n",
        "# Running conditions for selecting tax percentage\n",
        "if salary < 0:\n",
        "  print(\"You have entered invalid salary\")\n",
        "else:\n",
        "  if salary < 5:\n",
        "    overall_deduction_percentage += 0\n",
        "\n",
        "  elif salary >=5 and salary < 10:\n",
        "    overall_deduction_percentage += 10\n",
        "\n",
        "  elif salary >=10 and salary < 20:\n",
        "    overall_deduction_percentage += 20\n",
        "\n",
        "  else:\n",
        "    overall_deduction_percentage += 30\n",
        "\n",
        "# Now calculating overall deduction in salary\n",
        "print(\"Overall deduction in salary will be -> \",round(((overall_deduction_percentage/100)*salary),2))"
      ],
      "metadata": {
        "id": "7tMHvKYO2etI",
        "outputId": "67204e39-cdcc-481a-e263-4426d02e147a",
        "colab": {
          "base_uri": "https://localhost:8080/"
        }
      },
      "execution_count": 3,
      "outputs": [
        {
          "output_type": "stream",
          "name": "stdout",
          "text": [
            "Enter your salary in lacs : 6\n",
            "Overall deduction in salary will be ->  1.68\n"
          ]
        }
      ]
    },
    {
      "cell_type": "markdown",
      "source": [
        "### `Problem 2`: Write a program that take a user input of three angles and will find out whether it can form a triangle or not."
      ],
      "metadata": {
        "id": "tYzCGqwl2hfN"
      }
    },
    {
      "cell_type": "code",
      "source": [
        "# Taking angles of triangle from user\n",
        "angle1 = int(input(\"Enter angle 1 : \"))\n",
        "angle2 = int(input(\"Enter angle 2 : \"))\n",
        "angle3 = int(input(\"Enter angle 3 : \"))\n",
        "\n",
        "# Valindating triangle\n",
        "if angle1 > 0 and angle2 > 0 and angle3 > 0 and (angle1 + angle2 + angle3 == 180):\n",
        "  print(\"This is a valid triangle\")\n",
        "else:\n",
        "  print(\"This is not a valid triangle\")"
      ],
      "metadata": {
        "id": "FYEqln-I2kxV",
        "outputId": "13689825-db9c-4912-cc2d-909e2f401547",
        "colab": {
          "base_uri": "https://localhost:8080/"
        }
      },
      "execution_count": 5,
      "outputs": [
        {
          "output_type": "stream",
          "name": "stdout",
          "text": [
            "Enter angle 1 : 23\n",
            "Enter angle 2 : 44\n",
            "Enter angle 3 : 2\n",
            "This is not a valid triangle\n"
          ]
        }
      ]
    },
    {
      "cell_type": "markdown",
      "source": [
        "### `Problem 3`: Write a program that will take user input of cost price and selling price and determines whether its a loss or a profit."
      ],
      "metadata": {
        "id": "5vEpPh8C2pE4"
      }
    },
    {
      "cell_type": "code",
      "source": [
        "# Taking user input of cost price and selling price\n",
        "cost_price = int(input(\"Enter cost price of product\"))\n",
        "selling_price = int(input(\"Enter selling price of product\"))\n",
        "print()\n",
        "\n",
        "# Checking profit or loss\n",
        "if selling_price - cost_price > 0:\n",
        "  print(\"Congratulations you have gained profit of \",selling_price - cost_price)\n",
        "\n",
        "else:\n",
        "  print(\"Sorry you are in loss of \",cost_price - selling_price)"
      ],
      "metadata": {
        "id": "jDwBXlkO2sfl",
        "outputId": "1b55c9c5-938b-4bef-b16a-ffcee6b2ee78",
        "colab": {
          "base_uri": "https://localhost:8080/"
        }
      },
      "execution_count": 8,
      "outputs": [
        {
          "output_type": "stream",
          "name": "stdout",
          "text": [
            "Enter cost price of product4500\n",
            "Enter selling price of product10000\n",
            "\n",
            "Congratulations you have gained profit of  5500\n"
          ]
        }
      ]
    },
    {
      "cell_type": "markdown",
      "source": [
        "### `Problem 4`: Write a menu-driven program -\n",
        "1. cm to ft\n",
        "2. km to miles\n",
        "3. USD to INR\n",
        "4. exit"
      ],
      "metadata": {
        "id": "J_FG_cJW2ugT"
      }
    },
    {
      "cell_type": "code",
      "source": [
        "# Creating menu and simultaneously taking input\n",
        "option = input(\"\"\"\n",
        "              Tell your conversion\n",
        "              1. cm to ft\n",
        "              2. km to miles\n",
        "              3. USD to INR\n",
        "              4. exit\n",
        "               \"\"\")\n",
        "\n",
        "# Doing calculations according to users choice\n",
        "if option == \"1\":\n",
        "  cm = float(input(\"Enter value in cm : \"))\n",
        "  print(\"value in ft is -> \",cm*0.03)\n",
        "\n",
        "elif option == \"2\":\n",
        "  km = float(input(\"Enter value in km : \"))\n",
        "  print(\"Value in miles is -> \",km*0.62)\n",
        "\n",
        "elif option == \"3\":\n",
        "  USD = float(input(\"Enter amount in USD : \"))\n",
        "  print(\"Value in INR is -> \",USD*82)\n",
        "else:\n",
        "  exit()"
      ],
      "metadata": {
        "id": "yBHhaCGQ2zpD",
        "outputId": "985f1f6d-4eea-45db-acb0-9453dd9f62ab",
        "colab": {
          "base_uri": "https://localhost:8080/"
        }
      },
      "execution_count": 9,
      "outputs": [
        {
          "output_type": "stream",
          "name": "stdout",
          "text": [
            "\n",
            "              Tell your conversion\n",
            "              1. cm to ft\n",
            "              2. km to miles\n",
            "              3. USD to INR\n",
            "              4. exit \n",
            "               3\n",
            "Enter amount in USD : 40000\n",
            "Value in INR is ->  3280000.0\n"
          ]
        }
      ]
    },
    {
      "cell_type": "markdown",
      "source": [
        "### `Problem 5` - Exercise 12: Display Fibonacci series up to 10 terms.\n",
        "\n",
        "*Note: The Fibonacci Sequence is a series of numbers. The next number is found by adding up the two numbers before it. The first two numbers are 0 and 1. For example, 0, 1, 1, 2, 3, 5, 8, 13, 21. The next number in this series above is 13+21 = 34*"
      ],
      "metadata": {
        "id": "LJJ30_Yw27ZU"
      }
    },
    {
      "cell_type": "code",
      "source": [
        "# Calculating Fibonacci Series\n",
        "a = 0\n",
        "b = 1\n",
        "print(a,end=\" \")\n",
        "print(b,end=\" \")\n",
        "for i in range(3,10):\n",
        "  a,b = b,a+b\n",
        "  print(b,end=\" \")"
      ],
      "metadata": {
        "id": "ae_1rpe52-5R",
        "outputId": "ceca648a-f52a-4b42-db9b-5dc21dd88ace",
        "colab": {
          "base_uri": "https://localhost:8080/"
        }
      },
      "execution_count": 13,
      "outputs": [
        {
          "output_type": "stream",
          "name": "stdout",
          "text": [
            "0 1 1 2 3 5 8 13 21 "
          ]
        }
      ]
    },
    {
      "cell_type": "markdown",
      "source": [
        "### `Problem 6` - Find the factorial of a given number.\n",
        "\n",
        "Write a program to use the loop to find the factorial of a given number.\n",
        "\n",
        "The factorial (symbol: `!`) means to multiply all whole numbers from the chosen number down to 1.\n",
        "\n",
        "For example: calculate the factorial of 5\n",
        "\n",
        "```bash\n",
        "5! = 5 × 4 × 3 × 2 × 1 = 120\n",
        "```\n",
        "\n",
        "Output:\n",
        "\n",
        "```bash\n",
        "120\n",
        "```"
      ],
      "metadata": {
        "id": "pk_I_S4m3PT5"
      }
    },
    {
      "cell_type": "code",
      "source": [
        "# Taking input of the number whose factorial is to be calculated\n",
        "n = int(input(\"Enter the value of n : \"))\n",
        "\n",
        "# Calculating factorial\n",
        "fact = 1\n",
        "for i in range(1,n+1):\n",
        "  fact*=i\n",
        "\n",
        "# Displaying factorial of n\n",
        "print(\"Factorial of n is -> \",fact)"
      ],
      "metadata": {
        "id": "lzXxHegx3Rkc",
        "outputId": "fdf2a43f-972a-447a-8ca9-fb90c54d1916",
        "colab": {
          "base_uri": "https://localhost:8080/"
        }
      },
      "execution_count": 14,
      "outputs": [
        {
          "output_type": "stream",
          "name": "stdout",
          "text": [
            "Enter the value of n : 6\n",
            "Factorial of n is ->  720\n"
          ]
        }
      ]
    },
    {
      "cell_type": "markdown",
      "source": [
        "### `Problem 7` - Reverse a given integer number.\n",
        "\n",
        "Example:\n",
        "\n",
        "`Input:`\n",
        "\n",
        "```bash\n",
        "76542\n",
        "```\n",
        "\n",
        "`Output:`\n",
        "\n",
        "```bash\n",
        "24567\n",
        "```"
      ],
      "metadata": {
        "id": "-17IOi-g3UpU"
      }
    },
    {
      "cell_type": "code",
      "source": [
        "# Taking number as input from user\n",
        "n = int(input(\"Enter the value of n : \"))\n",
        "rev = 0\n",
        "\n",
        "# Reversing number\n",
        "while n!=0:\n",
        "  a = n%10\n",
        "  rev = rev*10 + a\n",
        "  n//=10\n",
        "\n",
        "# Displaying reversed number\n",
        "print(\"Number after reverse is -> \",rev)"
      ],
      "metadata": {
        "id": "wJwLpKCr3aVA",
        "outputId": "88079740-7568-4e65-b4a4-61d5e577f2f8",
        "colab": {
          "base_uri": "https://localhost:8080/"
        }
      },
      "execution_count": 15,
      "outputs": [
        {
          "output_type": "stream",
          "name": "stdout",
          "text": [
            "Enter the value of n : 76542\n",
            "Number after reverse is ->  24567\n"
          ]
        }
      ]
    },
    {
      "cell_type": "markdown",
      "source": [
        "### `Problem 8`: Take a user input as integer N. Find out the sum from 1 to N. If any number if divisible by 5, then skip that number. And if the sum is greater than 300, don't need to calculate the sum further more. Print the final result. And don't use for loop to solve this problem.\n",
        "\n",
        "**Example 1:**\n",
        "\n",
        "`Input:`\n",
        "\n",
        "```bash\n",
        "30\n",
        "```\n",
        "\n",
        "`Output:`\n",
        "\n",
        "```bash\n",
        "276\n",
        "```"
      ],
      "metadata": {
        "id": "-t8PJQaY3sHf"
      }
    },
    {
      "cell_type": "code",
      "source": [
        "# Enter the value of N\n",
        "N = int(input(\"Enter the value of N : \"))\n",
        "sum = 0\n",
        "\n",
        "#Calculating Sum\n",
        "for i in range(1,N):\n",
        "  if i%5 == 0:\n",
        "    continue\n",
        "\n",
        "  sum+=i\n",
        "  if sum > 300:\n",
        "    break\n",
        "\n",
        "print(\"Sum is -> \",sum)"
      ],
      "metadata": {
        "id": "GZB6mGMP3ujT",
        "outputId": "e9bba414-8876-4e61-f804-3b29459c3bdd",
        "colab": {
          "base_uri": "https://localhost:8080/"
        }
      },
      "execution_count": 19,
      "outputs": [
        {
          "output_type": "stream",
          "name": "stdout",
          "text": [
            "Enter the value of N : 1\n",
            "Sum is ->  0\n"
          ]
        }
      ]
    },
    {
      "cell_type": "markdown",
      "source": [
        "### `Problem 9`: Write a program that keeps on accepting a number from the user until the user enters Zero. Display the sum and average of all the numbers."
      ],
      "metadata": {
        "id": "Q7ggImeA3xm4"
      }
    },
    {
      "cell_type": "code",
      "source": [
        "# Taking initial user input\n",
        "n = int(input(\"Enter a number : \"))\n",
        "sum = 0\n",
        "count = 0\n",
        "\n",
        "# Running the loop until user enters 0\n",
        "while n!=0:\n",
        "  sum+= n\n",
        "  count+=1\n",
        "  n = int(input(\"Enter number again : \"))\n",
        "\n",
        "#Displaying results\n",
        "print(\"Sum is -> \",sum)\n",
        "print(\"Average of sum is -> \",sum/count)"
      ],
      "metadata": {
        "id": "t_YDSZDe4Kdo",
        "outputId": "c061ae88-9c64-4c26-bfd5-e609d8bd5490",
        "colab": {
          "base_uri": "https://localhost:8080/"
        }
      },
      "execution_count": 20,
      "outputs": [
        {
          "output_type": "stream",
          "name": "stdout",
          "text": [
            "Enter a number : 25\n",
            "Enter number again : 56\n",
            "Enter number again : 34\n",
            "Enter number again : 22\n",
            "Enter number again : 12\n",
            "Enter number again : 0\n",
            "Sum is ->  149\n",
            "Average of sum is ->  29.8\n"
          ]
        }
      ]
    },
    {
      "cell_type": "markdown",
      "source": [
        "###`Problem 9`: Write a program which will find all such numbers which are divisible by 7 but are not a multiple of 5, between 2000 and 3200 (both included). The numbers obtained should be printed in a comma-separated sequence on a single line."
      ],
      "metadata": {
        "id": "6EhvEMvm4R7s"
      }
    },
    {
      "cell_type": "code",
      "source": [
        "# Calculating numbers\n",
        "for i in range(2000,3201):\n",
        "  if i%7 == 0 and i%5 !=0:\n",
        "    print(i,end=\",\")"
      ],
      "metadata": {
        "id": "d6RgP1B34T6c",
        "outputId": "0dcc3620-abd2-40e4-fe6b-3104071a0d3a",
        "colab": {
          "base_uri": "https://localhost:8080/"
        }
      },
      "execution_count": 21,
      "outputs": [
        {
          "output_type": "stream",
          "name": "stdout",
          "text": [
            "2002,2009,2016,2023,2037,2044,2051,2058,2072,2079,2086,2093,2107,2114,2121,2128,2142,2149,2156,2163,2177,2184,2191,2198,2212,2219,2226,2233,2247,2254,2261,2268,2282,2289,2296,2303,2317,2324,2331,2338,2352,2359,2366,2373,2387,2394,2401,2408,2422,2429,2436,2443,2457,2464,2471,2478,2492,2499,2506,2513,2527,2534,2541,2548,2562,2569,2576,2583,2597,2604,2611,2618,2632,2639,2646,2653,2667,2674,2681,2688,2702,2709,2716,2723,2737,2744,2751,2758,2772,2779,2786,2793,2807,2814,2821,2828,2842,2849,2856,2863,2877,2884,2891,2898,2912,2919,2926,2933,2947,2954,2961,2968,2982,2989,2996,3003,3017,3024,3031,3038,3052,3059,3066,3073,3087,3094,3101,3108,3122,3129,3136,3143,3157,3164,3171,3178,3192,3199,"
          ]
        }
      ]
    },
    {
      "cell_type": "markdown",
      "source": [
        "###`Problem 10`: Write a program, which will find all such numbers between 1000 and 3000 (both included) such that each digit of the number is an even number. The numbers obtained should be printed in a space-separated sequence on a single line.\n",
        "\n"
      ],
      "metadata": {
        "id": "tYvmRR-G4Vp4"
      }
    },
    {
      "cell_type": "code",
      "source": [
        "# Running loop from 1000 to 3000\n",
        "for i in range(1000,3001):\n",
        "\n",
        "  # Raise a flag value to check the desired output\n",
        "\n",
        "  flag = True\n",
        "  num = i\n",
        "\n",
        "  # Now for each no we will check that each individual number of a number is an even number or not\n",
        "  while i != 0:\n",
        "\n",
        "    n = i%10\n",
        "\n",
        "    if n%2 != 0:\n",
        "      flag = False\n",
        "      break\n",
        "\n",
        "    i//=10\n",
        "\n",
        "  # Checking whether the number is of the desired format or not\n",
        "  if flag == True:\n",
        "    print(num,end=\",\")"
      ],
      "metadata": {
        "id": "k6Gs1kIf4k19",
        "outputId": "9dba45a3-8842-49dd-fb5e-511b20e33fba",
        "colab": {
          "base_uri": "https://localhost:8080/"
        }
      },
      "execution_count": 24,
      "outputs": [
        {
          "output_type": "stream",
          "name": "stdout",
          "text": [
            "2000,2002,2004,2006,2008,2020,2022,2024,2026,2028,2040,2042,2044,2046,2048,2060,2062,2064,2066,2068,2080,2082,2084,2086,2088,2200,2202,2204,2206,2208,2220,2222,2224,2226,2228,2240,2242,2244,2246,2248,2260,2262,2264,2266,2268,2280,2282,2284,2286,2288,2400,2402,2404,2406,2408,2420,2422,2424,2426,2428,2440,2442,2444,2446,2448,2460,2462,2464,2466,2468,2480,2482,2484,2486,2488,2600,2602,2604,2606,2608,2620,2622,2624,2626,2628,2640,2642,2644,2646,2648,2660,2662,2664,2666,2668,2680,2682,2684,2686,2688,2800,2802,2804,2806,2808,2820,2822,2824,2826,2828,2840,2842,2844,2846,2848,2860,2862,2864,2866,2868,2880,2882,2884,2886,2888,"
          ]
        }
      ]
    },
    {
      "cell_type": "markdown",
      "source": [
        "###`Problem 11`: A robot moves in a plane starting from the original point (0,0). The robot can move toward UP, DOWN, LEFT and RIGHT with a given steps.\n",
        "The trace of robot movement is shown as the following:\n",
        "```\n",
        "UP 5\n",
        "DOWN 3\n",
        "LEFT 3\n",
        "RIGHT 2\n",
        "!\n",
        "```\n",
        "> The numbers after the direction are steps.\n",
        "\n",
        "> `!` means robot stop there.\n",
        "\n",
        "**Please write a program to compute the distance from current position after a sequence of movement and original point.**\n",
        "\n",
        "*If the distance is a float, then just print the nearest integer.*\n",
        "\n",
        "Example:\n",
        "\n",
        "`Input`:\n",
        "```\n",
        "UP 5\n",
        "DOWN 3\n",
        "LEFT 3\n",
        "RIGHT 2\n",
        "!\n",
        "```\n",
        "`Output`:\n",
        "```\n",
        "2\n",
        "```"
      ],
      "metadata": {
        "id": "GV18IINT4mf5"
      }
    },
    {
      "cell_type": "code",
      "source": [
        "# We assume that initially coordinates are (0,0)\n",
        "x = 0\n",
        "y = 0\n",
        "\n",
        "option = input(\"\"\"\n",
        "              1. UP\n",
        "              2. DOWN\n",
        "              3. LEFT\n",
        "              4. RIGHT\n",
        "              5. Press anything to exit\n",
        "               \"\"\")\n",
        "\n",
        "\n",
        "# Running loop so that user can takes multiple steps until user enters to stop\n",
        "while option != '5':\n",
        "\n",
        "  if option == '1':\n",
        "    inc = int(input(\"Enter UP distance : \"))\n",
        "    y+=inc\n",
        "\n",
        "  elif option == '2':\n",
        "    inc = int(input(\"Enter DOWN distance : \"))\n",
        "    y-=inc\n",
        "\n",
        "  elif option == '3':\n",
        "    inc = int(input(\"Enter LEFT distance : \"))\n",
        "    x-=inc\n",
        "\n",
        "  elif option == '4':\n",
        "    inc = int(input(\"Enter RIGHT distance : \"))\n",
        "    x+=inc\n",
        "\n",
        "  elif option == '5':\n",
        "    exit()\n",
        "\n",
        "  # Again we need to ask user to take another move\n",
        "  option = input(\"\"\"\n",
        "              1. UP\n",
        "              2. DOWN\n",
        "              3. LEFT\n",
        "              4. RIGHT\n",
        "              5. Press anything to exit\n",
        "               \"\"\")\n",
        "print(\"You are currently at ({},{})\".format(x,y))\n",
        ""
      ],
      "metadata": {
        "id": "6UNMC2aR4w5x",
        "outputId": "898b263a-b0d2-44b8-9edd-f8057db466e2",
        "colab": {
          "base_uri": "https://localhost:8080/"
        }
      },
      "execution_count": 30,
      "outputs": [
        {
          "output_type": "stream",
          "name": "stdout",
          "text": [
            "\n",
            "              1. UP\n",
            "              2. DOWN\n",
            "              3. LEFT\n",
            "              4. RIGHT\n",
            "              5. Press anything to exit\n",
            "               1\n",
            "Enter UP distance : 4\n",
            "\n",
            "              1. UP\n",
            "              2. DOWN\n",
            "              3. LEFT\n",
            "              4. RIGHT\n",
            "              5. Press anything to exit\n",
            "               3\n",
            "Enter LEFT distance : 4\n",
            "\n",
            "              1. UP\n",
            "              2. DOWN\n",
            "              3. LEFT\n",
            "              4. RIGHT\n",
            "              5. Press anything to exit\n",
            "               2\n",
            "Enter DOWN distance : 8\n",
            "\n",
            "              1. UP\n",
            "              2. DOWN\n",
            "              3. LEFT\n",
            "              4. RIGHT\n",
            "              5. Press anything to exit\n",
            "               4\n",
            "Enter RIGHT distance : 20\n",
            "\n",
            "              1. UP\n",
            "              2. DOWN\n",
            "              3. LEFT\n",
            "              4. RIGHT\n",
            "              5. Press anything to exit\n",
            "               5\n",
            "You are currently at (16,-4)\n"
          ]
        }
      ]
    },
    {
      "cell_type": "markdown",
      "source": [
        "###`Problem 12`:Write a program to print whether a given number is a prime number or not"
      ],
      "metadata": {
        "id": "3fsAIAhK5GYY"
      }
    },
    {
      "cell_type": "code",
      "source": [
        "# Taking number as input from user whose prime test we need to perform\n",
        "n = int(input(\"Enter a number : \"))\n",
        "\n",
        "# Running a loop in the range 2 to n-1 whether given number is divisible by any other number or not\n",
        "for i in range( 2 , n-1):\n",
        "\n",
        "  if n%i == 0:\n",
        "    print(\"Given Number is not prime number\")\n",
        "    break\n",
        "\n",
        "else:\n",
        "  print(\"Given number is a prime number\")\n"
      ],
      "metadata": {
        "id": "j6y91lxy5LZs",
        "outputId": "6e6eb8bd-7bbf-4936-dff2-b8ac919bbf87",
        "colab": {
          "base_uri": "https://localhost:8080/"
        }
      },
      "execution_count": 33,
      "outputs": [
        {
          "output_type": "stream",
          "name": "stdout",
          "text": [
            "Enter a number : 28\n",
            "Given Number is not prime number\n"
          ]
        }
      ]
    },
    {
      "cell_type": "markdown",
      "source": [
        "###`Problem 13`:Print all the Armstrong numbers in a given range.\n",
        "Range will be provided by the user<br>\n",
        "Armstrong number is a number that is equal to the sum of cubes of its digits. For example 0, 1, 153, 370, 371 and 407 are the Armstrong numbers."
      ],
      "metadata": {
        "id": "asAbmbK-5NHv"
      }
    },
    {
      "cell_type": "code",
      "source": [
        "# Taking range values from user as input\n",
        "lower_range = int(input(\"Enter range lower value : \"))\n",
        "upper_range = int(input(\"Enter range upper value : \"))\n",
        "\n",
        "# Calculating all armstrong numbers in the given range\n",
        "for i in range(lower_range,upper_range+1):\n",
        "\n",
        "  # For every value of i checking whether i is a armstrong number or not\n",
        "  number = i\n",
        "  sum = 0\n",
        "  while i != 0:\n",
        "    n = i%10\n",
        "    sum = sum + n**3\n",
        "    i//=10\n",
        "  if sum == number:\n",
        "    print(number,end=\" \")"
      ],
      "metadata": {
        "id": "PZuI67pm5jCT",
        "outputId": "a106fcb8-05f3-4170-d57b-c9d733cf7b08",
        "colab": {
          "base_uri": "https://localhost:8080/"
        }
      },
      "execution_count": 36,
      "outputs": [
        {
          "output_type": "stream",
          "name": "stdout",
          "text": [
            "Enter range lower value : 0\n",
            "Enter range upper value : 500\n",
            "0 1 153 370 371 407 "
          ]
        }
      ]
    },
    {
      "cell_type": "markdown",
      "source": [
        "###`Problem 14`:Calculate the angle between the hour hand and minute hand.\n",
        "\n",
        "Note: There can be two angles between hands; we need to print a minimum of two. Also, we need to print the floor of the final result angle. For example, if the final angle is 10.61, we need to print 10.\n",
        "\n",
        "Input:<br>\n",
        "H = 9 , M = 0<br>\n",
        "Output:<br>\n",
        "90<br>\n",
        "Explanation:<br>\n",
        "The minimum angle between hour and minute\n",
        "hand when the time is 9 is 90 degress."
      ],
      "metadata": {
        "id": "ClCQZMqT7gK0"
      }
    },
    {
      "cell_type": "code",
      "source": [
        "def calculate_clock_angle(hour, minutes):\n",
        "    # Validate the input\n",
        "    if hour < 0 or hour > 12 or minutes < 0 or minutes > 60:\n",
        "        raise ValueError(\"Invalid input. Hour should be between 0 and 12, and minutes between 0 and 60.\")\n",
        "\n",
        "    # Calculate the angle between the hour hand and minute hand\n",
        "    angle = abs((30 * hour - (11 / 2) * minutes) % 360)\n",
        "\n",
        "    # Return the angle\n",
        "    return angle\n",
        "\n",
        "# Test the function\n",
        "hour = int(input(\"Enter the hour (0 to 12): \"))\n",
        "minutes = int(input(\"Enter the minutes (0 to 60): \"))\n",
        "\n",
        "angle = calculate_clock_angle(hour, minutes)\n",
        "print(f\"The angle between the hour hand and minute hand is {angle} degrees.\")\n",
        "5"
      ],
      "metadata": {
        "id": "tNBTCZML7jy_",
        "outputId": "873d9a28-dd83-4a52-d40e-bb97adcc1df6",
        "colab": {
          "base_uri": "https://localhost:8080/"
        }
      },
      "execution_count": 38,
      "outputs": [
        {
          "output_type": "stream",
          "name": "stdout",
          "text": [
            "Enter the hour (0 to 12): 4\n",
            "Enter the minutes (0 to 60): 6\n",
            "The angle between the hour hand and minute hand is 87.0 degrees.\n"
          ]
        }
      ]
    },
    {
      "cell_type": "markdown",
      "source": [
        "###`Problem 15`:Given two rectangles, find if the given two rectangles overlap or not. A rectangle is denoted by providing the x and y coordinates of two points: the left top corner and the right bottom corner of the rectangle. Two rectangles sharing a side are considered overlapping. (L1 and R1 are the extreme points of the first rectangle and L2 and R2 are the extreme points of the second rectangle).\n",
        "\n",
        "Note: It may be assumed that the rectangles are parallel to the coordinate axis.\n",
        "\n",
        "<img src='https://www.geeksforgeeks.org/wp-content/uploads/rectanglesOverlap.png' width='300' height='200'>"
      ],
      "metadata": {
        "id": "GwacF9Co72Qc"
      }
    },
    {
      "cell_type": "code",
      "source": [
        "def do_rectangles_overlap(L1, R1, L2, R2):\n",
        "    # L1 and R1 are the extreme points of the first rectangle\n",
        "    # L2 and R2 are the extreme points of the second rectangle\n",
        "\n",
        "    # Check if either rectangle is to the left of the other\n",
        "    if R1[0] < L2[0] or R2[0] < L1[0]:\n",
        "        return False\n",
        "\n",
        "    # Check if one rectangle is completely above the other\n",
        "    if R1[1] > L2[1] or R2[1] > L1[1]:\n",
        "        return False\n",
        "\n",
        "    # If the rectangles are not separated by the above conditions, they overlap\n",
        "    return True\n",
        "\n",
        "# Test the function\n",
        "# Example: Rectangle 1: Top-left (1, 5), Bottom-right (7, 1)\n",
        "#          Rectangle 2: Top-left (4, 8), Bottom-right (10, 4)\n",
        "L1 = (1, 5)\n",
        "R1 = (7, 1)\n",
        "L2 = (4, 8)\n",
        "R2 = (10, 4)\n",
        "\n",
        "if do_rectangles_overlap(L1, R1, L2, R2):\n",
        "    print(\"The rectangles overlap.\")\n",
        "else:\n",
        "    print(\"The rectangles do not overlap.\")\n"
      ],
      "metadata": {
        "id": "6rrw_lpH78Rs",
        "outputId": "6c10a077-e6a2-4e12-f484-faad55271a2c",
        "colab": {
          "base_uri": "https://localhost:8080/"
        }
      },
      "execution_count": 39,
      "outputs": [
        {
          "output_type": "stream",
          "name": "stdout",
          "text": [
            "The rectangles overlap.\n"
          ]
        }
      ]
    }
  ]
}