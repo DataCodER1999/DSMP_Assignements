{
  "nbformat": 4,
  "nbformat_minor": 0,
  "metadata": {
    "colab": {
      "provenance": []
    },
    "kernelspec": {
      "name": "python3",
      "display_name": "Python 3"
    },
    "language_info": {
      "name": "python"
    }
  },
  "cells": [
    {
      "cell_type": "markdown",
      "source": [
        "###`Problem 1:` Combine two lists index-wise(columns wise)\n",
        "\n",
        "Write a program to add two lists index-wise. Create a new list that contains the 0th index item from both the list, then the 1st index item, and so on till the last element. any leftover items will get added at the end of the new list.\n",
        "\n",
        "`Given List:`\n",
        "```\n",
        "list1 = [\"M\", \"na\", \"i\", \"Kh\"]\n",
        "list2 = [\"y\", \"me\", \"s\", \"an\"]\n",
        "```\n",
        "\n",
        "`Output:`\n",
        "```\n",
        "[['M','y'], ['na', me'], ['i', 's'], ['Kh', 'an']]\n",
        "```"
      ],
      "metadata": {
        "id": "kLZ_vCeE0lsM"
      }
    },
    {
      "cell_type": "code",
      "source": [
        "# Lists from which we are going to create comprehensioned list\n",
        "list1 = [\"M\", \"na\", \"i\", \"Kh\"]\n",
        "list2 = [\"y\", \"me\", \"s\", \"an\"]\n",
        "\n",
        "#Applying list comprehension to get desired output\n",
        "ans = [[i,j] for i,j in zip(list1,list2)]\n",
        "\n",
        "# Print answer\n",
        "print(\"Desired output -> \",ans)"
      ],
      "metadata": {
        "id": "cDO3Yv6p0nnG",
        "outputId": "0bbb1004-36f9-451d-fd28-a8f76debb0fc",
        "colab": {
          "base_uri": "https://localhost:8080/"
        }
      },
      "execution_count": 1,
      "outputs": [
        {
          "output_type": "stream",
          "name": "stdout",
          "text": [
            "Desired output ->  [['M', 'y'], ['na', 'me'], ['i', 's'], ['Kh', 'an']]\n"
          ]
        }
      ]
    },
    {
      "cell_type": "markdown",
      "source": [
        "### `Problem 2:` Add new item to list after a specified item\n",
        "Write a program to add item 7000 after 6000 in the following Python List\n",
        "```\n",
        "list1 = [10, 20, [300, 400, [5000, 6000], 500], 30, 40]\n",
        "```\n",
        "`Output:`\n",
        "```\n",
        "[10, 20, [300, 400, [5000, 6000, 7000], 500], 30, 40]\n",
        "```"
      ],
      "metadata": {
        "id": "bnRwRgf_0qLu"
      }
    },
    {
      "cell_type": "code",
      "source": [
        "# List in which we need to make a change\n",
        "list1 = [10, 20, [300, 400, [5000, 6000], 500], 30, 40]\n",
        "\n",
        "# Applying change\n",
        "list1[2].append(7000)\n",
        "\n",
        "# Displaying change\n",
        "print(list1)"
      ],
      "metadata": {
        "id": "yW5lLPns00q9",
        "outputId": "845384a8-8a1a-4d9e-eba3-3102dd111504",
        "colab": {
          "base_uri": "https://localhost:8080/"
        }
      },
      "execution_count": 2,
      "outputs": [
        {
          "output_type": "stream",
          "name": "stdout",
          "text": [
            "[10, 20, [300, 400, [5000, 6000], 500, 7000], 30, 40]\n"
          ]
        }
      ]
    },
    {
      "cell_type": "markdown",
      "source": [
        "###`Problem 3:` Update no of items available\n",
        "\n",
        "Suppose you are given a list of candy and another list of same size representing no of items of respective candy.\n",
        "\n",
        "i.e -  \n",
        "```\n",
        "candy_list = ['Jelly Belly','Kit Kat','Double Bubble','Milky Way','Three Musketeers']\n",
        "no_of_items = [10,20,34,74,32]\n",
        "```\n",
        "\n",
        "Write a program to show no. of items of each candy type.\n",
        "\n",
        "`Output:`\n",
        "\n",
        "```\n",
        "Jelly Belly-10\n",
        "Kit Kat-20\n",
        "Double Bubble-34\n",
        "Milky Way-74\n",
        "Three Musketeers-32\n",
        "\n",
        "```"
      ],
      "metadata": {
        "id": "w7fC8oHk02fH"
      }
    },
    {
      "cell_type": "code",
      "source": [
        "# Lists from which we will create pattern of stock\n",
        "candy_list = ['Jelly Belly','Kit Kat','Double Bubble','Milky Way','Three Musketeers']\n",
        "no_of_items = [10,20,34,74,32]\n",
        "\n",
        "# Printing pattern\n",
        "for i,j in zip(candy_list,no_of_items):\n",
        "  print(i,\"-\",j)"
      ],
      "metadata": {
        "id": "gg5JEX1a09q8",
        "outputId": "4f23f8ac-84c8-416a-af99-634f0a785ee1",
        "colab": {
          "base_uri": "https://localhost:8080/"
        }
      },
      "execution_count": 3,
      "outputs": [
        {
          "output_type": "stream",
          "name": "stdout",
          "text": [
            "Jelly Belly - 10\n",
            "Kit Kat - 20\n",
            "Double Bubble - 34\n",
            "Milky Way - 74\n",
            "Three Musketeers - 32\n"
          ]
        }
      ]
    },
    {
      "cell_type": "markdown",
      "source": [
        "###`Problem 4:` Running Sum on list\n",
        "Write a program to print a list after performing running sum on it.\n",
        "\n",
        "i.e:\n",
        "\n",
        "`Input:`\n",
        "```\n",
        "list1 = [1,2,3,4,5,6]\n",
        "```\n",
        "`Output:`\n",
        "```\n",
        "[1,3,6,10,15,21]\n",
        "```"
      ],
      "metadata": {
        "id": "mFGZAvnB1D3N"
      }
    },
    {
      "cell_type": "code",
      "source": [
        "# List from which we are going to create running sum list\n",
        "ls = [1,2,3,4,5,6]\n",
        "sum = 0\n",
        "ans = []\n",
        "\n",
        "# Creating running sum list by looping through list\n",
        "for i in ls:\n",
        "  sum = sum + i\n",
        "  ans.append(sum)\n",
        "\n",
        "# Printing desired list\n",
        "print(ans)"
      ],
      "metadata": {
        "id": "8LPS6DaD1FTs",
        "outputId": "0108cb5b-00e0-4cf3-a896-25b393198acf",
        "colab": {
          "base_uri": "https://localhost:8080/"
        }
      },
      "execution_count": 4,
      "outputs": [
        {
          "output_type": "stream",
          "name": "stdout",
          "text": [
            "[1, 3, 6, 10, 15, 21]\n"
          ]
        }
      ]
    },
    {
      "cell_type": "markdown",
      "source": [
        "###`Problem 5:` You are given a list of integers. You are asked to make a list by running through elements of the list by adding all elements greater and itself.\n",
        "\n",
        "i.e. Say given list is `[2,4,6,10,1]`\n",
        "resultant list will be `[22,20,10,23]`.\n",
        "\n",
        "For 1st element `2` ->> these are greater `(4+6+10)` values and `2` itself so on adding becomes `22`.\n",
        "\n",
        "For 2nd element `4` ->> greater elements are `(6, 10)` and `4` itself, so on adding `20`\n",
        "\n",
        "like wise for all other elememts.\n",
        "\n",
        "`[2,4,6,10,1]`-->`[22,20,16,10,23]`\n",
        "\n",
        "\n"
      ],
      "metadata": {
        "id": "2ztcZ-EW1HEU"
      }
    },
    {
      "cell_type": "code",
      "source": [
        "# List from which we are going to create desires output\n",
        "ls = [2,4,6,10,1]\n",
        "\n",
        "# Initializing empty list for output ans\n",
        "ans = []\n",
        "\n",
        "# Running through loop for calculating sum for a particular index\n",
        "for i in range(len(ls)):\n",
        "\n",
        "  sum = ls[i]\n",
        "\n",
        "  # Running loop for ahead elements from ith index in outer loop\n",
        "  for j in range(i+1,len(ls)):\n",
        "    if ls[j] > ls[i]:\n",
        "      sum = sum + ls[j]\n",
        "\n",
        "  ans.append(sum)\n",
        "\n",
        "# Displaying final result\n",
        "print(\"Output -> \",ans)"
      ],
      "metadata": {
        "id": "UJuWqzj31UD2",
        "outputId": "cfdbc84d-1ce9-4f9d-a5a5-f35ee1f40445",
        "colab": {
          "base_uri": "https://localhost:8080/"
        }
      },
      "execution_count": 6,
      "outputs": [
        {
          "output_type": "stream",
          "name": "stdout",
          "text": [
            "Output ->  [22, 20, 16, 10, 1]\n"
          ]
        }
      ]
    },
    {
      "cell_type": "markdown",
      "source": [
        "###`Problem 6:` Find list of common unique items from two list. and show in increasing order\n",
        "\n",
        "`Input`\n",
        "\n",
        "```\n",
        "num1 = [23,45,67,78,89,34]\n",
        "num2 = [34,89,55,56,39,67]\n",
        "```\n",
        "\n",
        "`Output:`\n",
        "```\n",
        "[34, 67, 89]\n",
        "```\n"
      ],
      "metadata": {
        "id": "c9H6tYTx1ZYo"
      }
    },
    {
      "cell_type": "code",
      "source": [
        "# Lists from which we need to find commno items\n",
        "num1 = [23,45,67,78,89,34]\n",
        "num2 = [34,89,55,56,39,67]\n",
        "\n",
        "# Initializing empty list in which we will store out answers\n",
        "unique = []\n",
        "\n",
        "# Running loop in list1 to find common elements\n",
        "for i in num1:\n",
        "  if i in num2 and i not in unique:\n",
        "    unique.append(i)\n",
        "\n",
        "unique.sort()\n",
        "# Displaying the answer having common elements from both the list\n",
        "print(\"Common list -> \",unique)"
      ],
      "metadata": {
        "id": "dDxdi7eE1e1W",
        "outputId": "f9312b18-990b-4d7f-ae00-c218f1cac02f",
        "colab": {
          "base_uri": "https://localhost:8080/"
        }
      },
      "execution_count": 10,
      "outputs": [
        {
          "output_type": "stream",
          "name": "stdout",
          "text": [
            "Common list ->  [34, 67, 89]\n"
          ]
        }
      ]
    },
    {
      "cell_type": "markdown",
      "source": [
        "###`Problem 7:` Sort a list of alphanumeric strings based on product value of numeric character in it. If in any string there is no numeric character take it's product value as 1.\n",
        "\n",
        "`Input:`\n",
        "```\n",
        "['1ac21', '23fg', '456', '098d','1','kls']\n",
        "```\n",
        "\n",
        "`Output:`\n",
        "```\n",
        "['456', '23fg', '1ac21', '1', 'kls', '098d']\n",
        "\n",
        "```"
      ],
      "metadata": {
        "id": "i3Izok2i1gRD"
      }
    },
    {
      "cell_type": "code",
      "source": [
        "# List in which we need to perform custom sorting\n",
        "ls = ['1ac21', '23fg', '456', '098d','1','kls']\n",
        "\n",
        "# Creating multiplication list\n",
        "mul = []\n",
        "\n",
        "# Looping through each element to extract numeric elements and then multiplying them and storing them in mul list\n",
        "for i in ls:\n",
        "\n",
        "  value = 1\n",
        "\n",
        "  for j in i:\n",
        "    if j.isdigit():\n",
        "      value = value * int(j)\n",
        "\n",
        "  mul.append(value)\n",
        "\n",
        "# Arranging answer according to desired result\n",
        "ans = sorted(list(zip(ls,mul)),key=lambda x:x[1],reverse=True)\n",
        "ans = [i[0] for i in ans]\n",
        "# Printing result\n",
        "print(\"Ans -> \",ans)"
      ],
      "metadata": {
        "id": "eiXSanG11oq6",
        "outputId": "2b587919-4cd5-4d4a-95f1-bae24c9e9536",
        "colab": {
          "base_uri": "https://localhost:8080/"
        }
      },
      "execution_count": 18,
      "outputs": [
        {
          "output_type": "stream",
          "name": "stdout",
          "text": [
            "Ans ->  ['456', '23fg', '1ac21', '1', 'kls', '098d']\n"
          ]
        }
      ]
    },
    {
      "cell_type": "markdown",
      "source": [
        "`Problem 8:` Split String of list on K character.\n",
        "\n",
        "**Example :**\n",
        "\n",
        "Input:\n",
        "```bash\n",
        "['CampusX is a channel', 'for data-science', 'aspirants.']\n",
        "```\n",
        "\n",
        "Output:\n",
        "```bash\n",
        "['CampusX', 'is', 'a', 'channel', 'for', 'data-science', 'aspirants.']\n",
        "```"
      ],
      "metadata": {
        "id": "McMaNSpB1zJB"
      }
    },
    {
      "cell_type": "code",
      "source": [
        "# Input List\n",
        "ls = ['CampusX is a channel', 'for data-science', 'aspirants.']\n",
        "\n",
        "# Creating an empty list in which we will be storing our answer\n",
        "ans = []\n",
        "\n",
        "# Running a loop on ls so we can extend each element of ls to create out desired result\n",
        "for i in ls:\n",
        "  ans.extend(i.split())\n",
        "\n",
        "# Printing desired output\n",
        "print(ans)"
      ],
      "metadata": {
        "id": "rLg6AUhf14wI",
        "outputId": "823838e5-95ce-475a-9a80-06fc01504f0f",
        "colab": {
          "base_uri": "https://localhost:8080/"
        }
      },
      "execution_count": 21,
      "outputs": [
        {
          "output_type": "stream",
          "name": "stdout",
          "text": [
            "['CampusX', 'is', 'a', 'channel', 'for', 'data-science', 'aspirants.']\n"
          ]
        }
      ]
    },
    {
      "cell_type": "markdown",
      "source": [
        "### `Problem 9:` Convert Character Matrix to single String using string comprehension.\n",
        "\n",
        "**Example 1:**\n",
        "\n",
        "Input:\n",
        "```bash\n",
        "[['c', 'a', 'm', 'p', 'u', 'x'], ['i', 's'], ['b', 'e', 's', 't'], ['c', 'h', 'a', 'n', 'n', 'e', 'l']]\n",
        "```\n",
        "\n",
        "Output:\n",
        "```bash\n",
        "campux is best channel\n",
        "```"
      ],
      "metadata": {
        "id": "ebqIC0Xa16dG"
      }
    },
    {
      "cell_type": "code",
      "source": [
        "# List which needs to me merged\n",
        "ls = [['c', 'a', 'm', 'p', 'u', 'x'], ['i', 's'], ['b', 'e', 's', 't'], ['c', 'h', 'a', 'n', 'n', 'e', 'l']]\n",
        "\n",
        "# Creating our answer\n",
        "ans = \" \".join([\" \".join([\"\".join(i)]) for i in ls])\n",
        "\n",
        "# Printing the answer\n",
        "print(\"Desired output -> \",ans)"
      ],
      "metadata": {
        "id": "KLKxzyZf2BLr",
        "outputId": "fb5c01bb-293f-4100-d17f-4a6b40b4d742",
        "colab": {
          "base_uri": "https://localhost:8080/"
        }
      },
      "execution_count": 25,
      "outputs": [
        {
          "output_type": "stream",
          "name": "stdout",
          "text": [
            "Desired output ->  campux is best channel\n"
          ]
        }
      ]
    },
    {
      "cell_type": "markdown",
      "source": [
        "### `Problem 10:` Add Space between Potential Words.\n",
        "\n",
        "**Example:**\n",
        "\n",
        "Input:\n",
        "\n",
        "```bash\n",
        "['campusxIs', 'bestFor', 'dataScientist']\n",
        "```\n",
        "\n",
        "Output:\n",
        "```bash\n",
        "['campusx Is', 'best For', 'data Scientist']\n",
        "```"
      ],
      "metadata": {
        "id": "0v1Z3Snp2DAm"
      }
    },
    {
      "cell_type": "code",
      "source": [
        "# List in which we need to add spaces\n",
        "ls = ['campusxIs', 'bestFor', 'dataScientist']\n",
        "ans = []\n",
        "\n",
        "# Running a loop on ls\n",
        "for i in ls:\n",
        "\n",
        "  a = i[0]\n",
        "  for j in range(1,len(i)):\n",
        "\n",
        "    if i[j].isupper():\n",
        "      a = a + \" \"\n",
        "      a  = a +  i[j]\n",
        "\n",
        "    else:\n",
        "      a = a + i[j]\n",
        "  ans.append(a)\n",
        "\n",
        "# Printing answer\n",
        "print(\"Output -> \",ans)\n"
      ],
      "metadata": {
        "id": "pltvqSXa2IxP",
        "outputId": "4feebd3a-e4aa-4954-b2c6-353d82dfa3c1",
        "colab": {
          "base_uri": "https://localhost:8080/"
        }
      },
      "execution_count": 38,
      "outputs": [
        {
          "output_type": "stream",
          "name": "stdout",
          "text": [
            "Output ->  ['campusx Is', 'best For', 'data Scientist']\n"
          ]
        }
      ]
    },
    {
      "cell_type": "markdown",
      "source": [
        "### `Problem 11:` Write a program that can perform union operation on 2 lists\n",
        "\n",
        "**Example:**\n",
        "\n",
        "Input:\n",
        "\n",
        "```bash\n",
        "[1,2,3,4,5,1]\n",
        "[2,3,5,7,8]\n",
        "```\n",
        "\n",
        "Output:\n",
        "```bash\n",
        "[1,2,3,4,5,7,8]\n",
        "```"
      ],
      "metadata": {
        "id": "tnmBk1M52KXW"
      }
    },
    {
      "cell_type": "code",
      "source": [
        "# Lists from which we we will perform union operation\n",
        "ls1 = [1,2,3,4,5,1]\n",
        "ls2 = [2,3,5,7,8]\n",
        "\n",
        "# Initializing an empty list in which we are going to store our answer\n",
        "ans = []\n",
        "\n",
        "# Looping through first list\n",
        "for i in ls1:\n",
        "  if i not in ans:\n",
        "    ans.append(i)\n",
        "\n",
        "# Looping through second list\n",
        "for j in ls2:\n",
        "  if j not in ans:\n",
        "    ans.append(j)\n",
        "\n",
        "# Printing desired output\n",
        "print(\"Output -> \",ans)"
      ],
      "metadata": {
        "id": "u0AgIToU2-Ht",
        "outputId": "b9ec415c-f03a-4e5b-f3df-83b19a7b8d33",
        "colab": {
          "base_uri": "https://localhost:8080/"
        }
      },
      "execution_count": 26,
      "outputs": [
        {
          "output_type": "stream",
          "name": "stdout",
          "text": [
            "Output ->  [1, 2, 3, 4, 5, 7, 8]\n"
          ]
        }
      ]
    },
    {
      "cell_type": "markdown",
      "source": [
        "### `Problem 12:` Write a program that can find the max number of each row of a matrix\n",
        "\n",
        "**Example:**\n",
        "\n",
        "Input:\n",
        "\n",
        "```bash\n",
        "[[1,2,3],[4,5,6],[7,8,9]]\n",
        "```\n",
        "\n",
        "Output:\n",
        "```bash\n",
        "[3,6,9]\n",
        "```"
      ],
      "metadata": {
        "id": "Yt8x67Ch3Ow1"
      }
    },
    {
      "cell_type": "code",
      "source": [
        "# Input List\n",
        "ls = [[1,2,3],[4,5,6],[7,8,9]]\n",
        "\n",
        "# Creating output\n",
        "ans = [max(i) for i in ls]\n",
        "\n",
        "# Displaying answer\n",
        "print(\"Answer -> \",ans)"
      ],
      "metadata": {
        "id": "7QopAaAI3noh",
        "outputId": "eb8809ab-e994-4de6-ec96-563b304ed297",
        "colab": {
          "base_uri": "https://localhost:8080/"
        }
      },
      "execution_count": 27,
      "outputs": [
        {
          "output_type": "stream",
          "name": "stdout",
          "text": [
            "Answer ->  [3, 6, 9]\n"
          ]
        }
      ]
    },
    {
      "cell_type": "markdown",
      "source": [
        "### `Problem 13:` Write a list comprehension to print the following matrix\n",
        "\n",
        "[[0, 1, 2], [3, 4, 5], [6, 7, 8]]"
      ],
      "metadata": {
        "id": "DBZlUmnt3pGT"
      }
    },
    {
      "cell_type": "code",
      "source": [
        "# Creating [[0, 1, 2], [3, 4, 5], [6, 7, 8]] using list comprehension\n",
        "ans = [[i+j for j in range (3)] for i in range(0,7,3)]\n",
        "\n",
        "# Displaying output\n",
        "print(\"Output -> \",ans)"
      ],
      "metadata": {
        "id": "Ip4e8M-S356h",
        "outputId": "e248090d-cdb5-4922-abc7-0776d33b3de1",
        "colab": {
          "base_uri": "https://localhost:8080/"
        }
      },
      "execution_count": 34,
      "outputs": [
        {
          "output_type": "stream",
          "name": "stdout",
          "text": [
            "Output ->  [[0, 1, 2], [3, 4, 5], [6, 7, 8]]\n"
          ]
        }
      ]
    },
    {
      "cell_type": "markdown",
      "source": [
        "### `Problem 14:` Write a list comprehension that can transpose a given matrix\n",
        "\n",
        "matrix = [<br>\n",
        "  [1,2,3],<br>\n",
        "          [4,5,6],<br>\n",
        "          [7,8,9]<br>]<br>\n",
        "\n",
        "[1, 4, 7]<br>\n",
        "[2, 5, 8]<br>\n",
        "[3, 6, 9]<br>"
      ],
      "metadata": {
        "id": "j3vTuFC737kG"
      }
    },
    {
      "cell_type": "code",
      "source": [
        "# Matrix which needs to be transposed\n",
        "matrix = [\n",
        "[1,2,3],\n",
        "[4,5,6],\n",
        "[7,8,9]\n",
        "]\n",
        "\n",
        "# Creating answer\n",
        "ans = [[matrix[j][i] for j in range(3)] for i in range(3)]\n",
        "\n",
        "# Printing answer\n",
        "print(\"Output -> \",ans)"
      ],
      "metadata": {
        "id": "CcBNu0gk4XsR",
        "outputId": "dbdc456b-370c-4879-ed80-dce0a4fc9b65",
        "colab": {
          "base_uri": "https://localhost:8080/"
        }
      },
      "execution_count": 35,
      "outputs": [
        {
          "output_type": "stream",
          "name": "stdout",
          "text": [
            "Output ->  [[1, 4, 7], [2, 5, 8], [3, 6, 9]]\n"
          ]
        }
      ]
    },
    {
      "cell_type": "markdown",
      "source": [
        "### `Problem 15:` Write a list comprehension that can flatten a nested list\n",
        "\n",
        "Input<br>\n",
        "matrix = [<br>\n",
        "  [1,2,3],<br>\n",
        "          [4,5,6],<br>\n",
        "          [7,8,9]<br>]<br>\n",
        "\n",
        "Output:<br>\n",
        "[1, 2, 3, 4, 5, 6, 7, 8, 9]"
      ],
      "metadata": {
        "id": "wRkSWFb74eOt"
      }
    },
    {
      "cell_type": "code",
      "source": [
        "# Matrix which needs to be flattened\n",
        "matrix = [\n",
        "[1,2,3],\n",
        "[4,5,6],\n",
        "[7,8,9]\n",
        "]\n",
        "\n",
        "# Creating answer\n",
        "ans = [j for i in matrix for j in i]\n",
        "\n",
        "# Printing answer\n",
        "print(\"Output -> \",ans)"
      ],
      "metadata": {
        "id": "jZGQ5el25HFr",
        "outputId": "1bc32fd8-25c6-4ef3-e939-f154439eb5f8",
        "colab": {
          "base_uri": "https://localhost:8080/"
        }
      },
      "execution_count": 36,
      "outputs": [
        {
          "output_type": "stream",
          "name": "stdout",
          "text": [
            "Output ->  [1, 2, 3, 4, 5, 6, 7, 8, 9]\n"
          ]
        }
      ]
    }
  ]
}