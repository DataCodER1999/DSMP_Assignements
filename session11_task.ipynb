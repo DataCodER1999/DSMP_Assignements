{
  "nbformat": 4,
  "nbformat_minor": 0,
  "metadata": {
    "colab": {
      "provenance": []
    },
    "kernelspec": {
      "name": "python3",
      "display_name": "Python 3"
    },
    "language_info": {
      "name": "python"
    }
  },
  "cells": [
    {
      "cell_type": "markdown",
      "source": [
        "## Exception Handling\n"
      ],
      "metadata": {
        "id": "ajVfqio_GinI"
      }
    },
    {
      "cell_type": "markdown",
      "source": [
        "###`Q-1`: You are given a function definition. There might be several issues on execution of this function. You are asked to do exception handling for diffrent errors that this function goes in to `without altering this function`. And print error text.\n",
        "\n"
      ],
      "metadata": {
        "id": "0qnQkJtnGozz"
      }
    },
    {
      "cell_type": "markdown",
      "source": [
        "Function parameters `l -> list, s -> could be anything`\n",
        "\n",
        "```\n",
        "def function(l: list, s, **args):\n",
        "    last_element = l[-1]\n",
        "    \n",
        "    l[int(s)]=10\n",
        "    any_element = l[int(s)+10]\n",
        "    l[s]=10\n",
        "    \n",
        "    res = sum(l)\n",
        "    \n",
        "    p = args['p']\n",
        "    # print(p)\n",
        "    return res/last_element * p + any_element\n",
        "\n",
        "```\n",
        "Check for different function calls:-\n",
        "\n",
        "```\n",
        "function([1,2,1], 12)\n",
        "function([1,2,1]*9, '1-2')\n",
        "function([1,'2',1]*9, 12)\n",
        "function([1,'2',1]*9, 12)\n",
        "function([1,2,0]*9, 12  )\n",
        "function([1,2,1]*9, 12, p=None)\n",
        "function([1,2,0]*9, 12, p=10)\n",
        "```"
      ],
      "metadata": {
        "id": "2no_EB2fGyGq"
      }
    },
    {
      "cell_type": "code",
      "source": [
        "# This is a piece of code which has lots of errors\n",
        "def function(l: list, s, **args):\n",
        "    last_element = l[-1]\n",
        "\n",
        "    l[int(s)]=10\n",
        "    any_element = l[int(s)+10]\n",
        "    l[s]=10\n",
        "\n",
        "    res = sum(l)\n",
        "\n",
        "    p = args['p']\n",
        "    # print(p)\n",
        "    return res/last_element * p + any_element\n",
        "\n",
        "# These are the function calls for which we need to do exception handling\n",
        "\n",
        "# Defining the try block for all these function calls\n",
        "try:\n",
        "  function([1,2,1], 12)\n",
        "  function([1,2,1]*9, '1-2')\n",
        "  function([1,'2',1]*9, 12)\n",
        "  function([1,'2',1]*9, 12)\n",
        "  function([1,2,0]*9, 12  )\n",
        "  function([1,2,1]*9, 12, p=None)\n",
        "  function([1,2,0]*9, 12, p=10)\n",
        "\n",
        "# Handling errors using specific exceptions\n",
        "except IndexError as e:\n",
        "  print(e)\n",
        "\n",
        "except ValueError as e:\n",
        "  print(e)\n",
        "\n",
        "except TypeError as e:\n",
        "  print(e)\n",
        "\n",
        "except ZeroDivisionError as e:\n",
        "  print(e)\n",
        "\n",
        "except  Exception as e:\n",
        "  print(e)"
      ],
      "metadata": {
        "id": "VoaL4_9eGjFU",
        "outputId": "18f454a3-60b1-4940-dfd4-4729dca005f8",
        "colab": {
          "base_uri": "https://localhost:8080/"
        }
      },
      "execution_count": 28,
      "outputs": [
        {
          "output_type": "stream",
          "name": "stdout",
          "text": [
            "list assignment index out of range\n"
          ]
        }
      ]
    },
    {
      "cell_type": "markdown",
      "source": [
        "###`Q-2:` You are given a code snippet. There might be several issues on execution of this code. You are asked to do exception handling for diffrent errors, condition is what ever happens we need to execute last line printing correct result of `sum of elements`.\n",
        "\n",
        "List have elemnts as any no of  `key-pair dict with key as list index and value as any integer`, `integers` and `numeric-strings`. There is always only one element in the dict.\n",
        "\n",
        "\n",
        "```\n",
        "l = [{0:2},2,3,4,'5', {5:10}]\n",
        "# For calculating sum of above list\n",
        "s=0\n",
        "for i in range(len(l)):\n",
        "    #You can Edit code from here\n",
        "    s += l[i].get(i)\n",
        "    s += l[i]\n",
        "    s += int(l[i])\n",
        "\n",
        "\n",
        "print(s)\n",
        "```"
      ],
      "metadata": {
        "id": "HuLMy2fVG9sL"
      }
    },
    {
      "cell_type": "code",
      "source": [
        "# Code for which exception handling needs to be done\n",
        "l = [{0:2},2,3,4,'5', {5:10}]\n",
        "\n",
        "# For calculating sum of above list\n",
        "s=0\n",
        "\n",
        "for i in range(len(l)):\n",
        "\n",
        "    # Defining try block which initially has lots of errors\n",
        "    try:\n",
        "      s += l[i].get(i)\n",
        "      s += l[i]\n",
        "      s += int(l[i])\n",
        "\n",
        "    # Hanfling Exceptions that can occur during execution of program\n",
        "    except AttributeError as e:\n",
        "      print(e)\n",
        "\n",
        "    except TypeError as e:\n",
        "      print(e)\n",
        "\n",
        "    except Exception as e:\n",
        "      print(e)\n",
        "\n",
        "# Printing the answer\n",
        "print('\\n',s)"
      ],
      "metadata": {
        "id": "pEP8JU0qHAf8",
        "outputId": "c1dba7a2-6fec-4eb8-e04c-bc2942460789",
        "colab": {
          "base_uri": "https://localhost:8080/"
        }
      },
      "execution_count": 22,
      "outputs": [
        {
          "output_type": "stream",
          "name": "stdout",
          "text": [
            "unsupported operand type(s) for +=: 'int' and 'dict'\n",
            "'int' object has no attribute 'get'\n",
            "'int' object has no attribute 'get'\n",
            "'int' object has no attribute 'get'\n",
            "'str' object has no attribute 'get'\n",
            "unsupported operand type(s) for +=: 'int' and 'dict'\n",
            "\n",
            " 12\n"
          ]
        }
      ]
    },
    {
      "cell_type": "markdown",
      "source": [
        "### `Q-3:`: File Handling with Exception handling\n",
        "\n",
        "Write a program that opens a text file and write data to it as \"Hello, Good Morning!!!\". Handle exceptions that can be generated during the I/O operations. Do not show the success message on the main exception handling block (write inside the else block)."
      ],
      "metadata": {
        "id": "ohE2fDTXHIan"
      }
    },
    {
      "cell_type": "code",
      "source": [
        "# Writing program for handling file write operations and handling exceptions on the go\n",
        "\n",
        "\n",
        "# Writing try block code\n",
        "try:\n",
        "\n",
        "  # Opening file and writing content into it\n",
        "  f = open('sample.txt','w')\n",
        "  f.write('Hello, Good Morning!!!')\n",
        "\n",
        "# Handling Exceptions that can occur while file handling\n",
        "except FileNotFoundError as e:\n",
        "  print(e)\n",
        "\n",
        "except PermissionError as e:\n",
        "  print(e)\n",
        "\n",
        "except IOError as e:\n",
        "  print(e)\n",
        "\n",
        "# Writing else block code which will execute once try block gets executed successfully\n",
        "else:\n",
        "  print('File operation performed successfully')"
      ],
      "metadata": {
        "id": "iOeiWrcIHPlY",
        "outputId": "4aa973d6-cdec-4d38-932d-31071cd95309",
        "colab": {
          "base_uri": "https://localhost:8080/"
        }
      },
      "execution_count": 14,
      "outputs": [
        {
          "output_type": "stream",
          "name": "stdout",
          "text": [
            "File operation performed successfully\n"
          ]
        }
      ]
    },
    {
      "cell_type": "markdown",
      "source": [
        "### `Q-4`: Number game program.\n",
        "\n",
        "Write a number game program. Ask the user to enter a number. If the number is greater than number to be guessed, raise a **ValueTooLarge** exception. If the value is smaller the number to be guessed the, raise a **ValueTooSmall** exception and prompt the user to enter again. Quit the program only when the user enters the correct number. Also raise **GuessError** if user guess a number less than 1."
      ],
      "metadata": {
        "id": "ru8g8-_bHTUf"
      }
    },
    {
      "cell_type": "code",
      "source": [
        "# Defining ValueTooLarge Exception class\n",
        "class ValueTooLarge(Exception):\n",
        "\n",
        "  # Constructor Initialization\n",
        "  def __init__(self,message):\n",
        "    print(message)\n",
        "\n",
        "\n",
        "# Defining ValueTooSmall Exception class\n",
        "class ValueTooSmall(Exception):\n",
        "\n",
        "  # Constructor Initialization\n",
        "  def __init__(self,message):\n",
        "    print(message)\n",
        "\n",
        "# Defining GuessError Exception class\n",
        "class GuessError(Exception):\n",
        "\n",
        "  # Constructor Initialization\n",
        "  def __init__(self,message):\n",
        "    print(message)\n",
        "\n",
        "# Coding Number Game\n",
        "\n",
        "import random\n",
        "random_number = random.randint(1,100)\n",
        "\n",
        "# Taking initial number input from user\n",
        "\n",
        "number = int(input(\"Enter number for first time : \"))\n",
        "while number != random_number:\n",
        "\n",
        "  # Defining try block\n",
        "  try:\n",
        "\n",
        "    # Defining conditions failing upon which exceptions will be raised\n",
        "    if number > random_number:\n",
        "      raise ValueTooLarge(\"Please enter lower number\")\n",
        "\n",
        "    elif number < 1:\n",
        "      raise GuessError(\"You have entered value less than 1 .Enter value greater than 1\")\n",
        "\n",
        "    elif number < random_number:\n",
        "      raise ValueTooSmall(\"Please enter higher number\")\n",
        "\n",
        "  # Defining specific exceptions\n",
        "  except ValueTooLarge:\n",
        "    pass\n",
        "\n",
        "  except GuessError:\n",
        "    pass\n",
        "\n",
        "  except ValueTooSmall:\n",
        "    pass\n",
        "\n",
        "\n",
        "  print()\n",
        "  # Taking user input for number again after not correct guess made\n",
        "  number = int(input(\"Enter number again\"))"
      ],
      "metadata": {
        "id": "QftlN5LJHZSX",
        "outputId": "18acc724-656d-46e2-bd64-5de6ee66c314",
        "colab": {
          "base_uri": "https://localhost:8080/"
        }
      },
      "execution_count": 12,
      "outputs": [
        {
          "name": "stdout",
          "output_type": "stream",
          "text": [
            "Enter number for first time : 34\n",
            "Please enter higher number\n",
            "\n",
            "Enter number again56\n",
            "Please enter lower number\n",
            "\n",
            "Enter number again45\n",
            "Please enter higher number\n",
            "\n",
            "Enter number again50\n",
            "Please enter higher number\n",
            "\n",
            "Enter number again53\n",
            "Please enter lower number\n",
            "\n",
            "Enter number again52\n",
            "Please enter lower number\n",
            "\n",
            "Enter number again52\n",
            "Please enter lower number\n",
            "\n",
            "Enter number again51\n"
          ]
        }
      ]
    },
    {
      "cell_type": "markdown",
      "source": [
        "### `Q-5:` Cast vote\n",
        "\n",
        "Write a program that validate name and age as entered by the user to determine whether the person can cast vote or not. To handle the age, create **InvalidAge** exception and for name, create **InvalidName** exception. The name will be invalid when the string will be empty or name has only one word.\n",
        "\n",
        "Example 1:\n",
        "\n",
        "Input:\n",
        "\n",
        "```bash\n",
        "Enter the name:               goransh singh\n",
        "Enter the age: 25\n",
        "```\n",
        "\n",
        "Output:\n",
        "\n",
        "```bash\n",
        "Goransh Singh  Congratulation !!! You can vote.\n",
        "```"
      ],
      "metadata": {
        "id": "ZsGI_40fHcsd"
      }
    },
    {
      "cell_type": "code",
      "source": [
        "# Defining InvalidAge Exception class\n",
        "class InvalidAge(Exception):\n",
        "\n",
        "  # Constructor Initiation\n",
        "  def __init__(self,message):\n",
        "    print(message)\n",
        "\n",
        "# Defining InvalidName Exception class\n",
        "class InvalidName(Exception):\n",
        "\n",
        "  # Constructor Initiation\n",
        "  def __init__(self,message):\n",
        "    print(message)\n",
        "\n",
        "\n",
        "# Program for voting\n",
        "\n",
        "# Taking input of name and age from user\n",
        "name = input(\"Enter your name : \")\n",
        "age = int(input(\"Enter your age\"))\n",
        "\n",
        "# Defining try block\n",
        "try:\n",
        "\n",
        "  # Defining conditions that upon getting failed will lead to exception\n",
        "  if age < 18:\n",
        "    raise InvalidAge(\"Sorry but you are not old enough to vote\")\n",
        "\n",
        "  elif len(name) == 0 or len(name) == 1:\n",
        "    raise InvalidName(\"Please enter a valid name\")\n",
        "\n",
        "  print(\"Congratulations, you are eligible to vote\")\n",
        "\n",
        "# Defining particular exception and general exceptions\n",
        "except InvalidName:\n",
        "  pass\n",
        "\n",
        "except InvalidAge:\n",
        "  pass\n",
        "\n",
        "except Exception as e:\n",
        "  print(e)"
      ],
      "metadata": {
        "id": "OHL3UiS4Hi3U",
        "outputId": "f40f4b98-bbb3-4d60-f262-9190f6f78eeb",
        "colab": {
          "base_uri": "https://localhost:8080/"
        }
      },
      "execution_count": 9,
      "outputs": [
        {
          "output_type": "stream",
          "name": "stdout",
          "text": [
            "Enter your name : \n",
            "Enter your age34\n",
            "Please enter a valid name\n"
          ]
        }
      ]
    },
    {
      "cell_type": "markdown",
      "source": [
        "### `Q-6`: Write a python function which infinitely prints natural numbers in a single line. Raise the **StopIteration** exception after displaying first 20 numnbers to exit from the program."
      ],
      "metadata": {
        "id": "SCvs0QjgHlOG"
      }
    },
    {
      "cell_type": "code",
      "source": [
        "# Function Definition\n",
        "def natural_print():\n",
        "\n",
        "  # Defining try block\n",
        "  try:\n",
        "    i = 1\n",
        "    while True:\n",
        "      print(i,end=\" \")\n",
        "      i = i + 1\n",
        "      if i > 20:\n",
        "        raise StopIteration('You have reached limit')\n",
        "\n",
        "  # Defining except block\n",
        "  except StopIteration as e:\n",
        "    print(e)\n",
        "\n",
        "# Function call\n",
        "natural_print()"
      ],
      "metadata": {
        "id": "Lc5ilNgNHoSx",
        "outputId": "56458976-5491-474f-e2e2-a745fe9a743b",
        "colab": {
          "base_uri": "https://localhost:8080/"
        }
      },
      "execution_count": 4,
      "outputs": [
        {
          "output_type": "stream",
          "name": "stdout",
          "text": [
            "1 2 3 4 5 6 7 8 9 10 11 12 13 14 15 16 17 18 19 20 You have reached limit\n"
          ]
        }
      ]
    }
  ]
}