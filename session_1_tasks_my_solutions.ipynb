{
  "nbformat": 4,
  "nbformat_minor": 0,
  "metadata": {
    "colab": {
      "provenance": []
    },
    "kernelspec": {
      "name": "python3",
      "display_name": "Python 3"
    },
    "language_info": {
      "name": "python"
    }
  },
  "cells": [
    {
      "cell_type": "markdown",
      "source": [
        "# Task : Session 1\n",
        "Solve these questions own your own and try to test yourself what you have learned in the session.\n",
        "\n",
        "Happy Learning!"
      ],
      "metadata": {
        "id": "A05OG15VqOPF"
      }
    },
    {
      "cell_type": "markdown",
      "source": [
        "### Q1 :- Print the given strings as per stated format.\n",
        "\n",
        "**Given strings**:\n",
        "```\n",
        "\"Data\" \"Science\" \"Mentorship\" \"Program\"\n",
        "\"By\" \"CampusX\"\n",
        "```\n",
        "**Output**:\n",
        "```\n",
        "Data-Science-Mentorship-Program-started-By-CampusX\n",
        "```\n",
        "\n",
        "Concept- [Seperator and End]"
      ],
      "metadata": {
        "id": "2doIXf8bqe9_"
      }
    },
    {
      "cell_type": "code",
      "source": [
        "#Printing first set of values\n",
        "print(\"Data\",\"Science\",\"Mentorship\",\"Program\",end=\"-started-\",sep=\"-\")\n",
        "\n",
        "#Printing second set of values\n",
        "print(\"By\",\"CampusX\",sep=\"-\")"
      ],
      "metadata": {
        "id": "-em6d3KErDtp",
        "outputId": "e582c7f2-d0b7-44e8-f5ca-87ceec5a9965",
        "colab": {
          "base_uri": "https://localhost:8080/"
        }
      },
      "execution_count": 18,
      "outputs": [
        {
          "output_type": "stream",
          "name": "stdout",
          "text": [
            "Data-Science-Mentorship-Program-started-By-CampusX\n"
          ]
        }
      ]
    },
    {
      "cell_type": "markdown",
      "source": [
        "### Q2:- Write a program that will convert celsius value to fahrenheit."
      ],
      "metadata": {
        "id": "1KUpN7ZTrC3_"
      }
    },
    {
      "cell_type": "code",
      "source": [
        "# Taking user input in celcius\n",
        "celcius = int(input(\"Enter temperature in celcius : \"))\n",
        "\n",
        "# Formula to convert celcius to fahrenheit\n",
        "fahrenheit = ((9/5)*celcius) + 32\n",
        "\n",
        "# Showing valuein fahrenheit\n",
        "print(\"Value in fahrenheit is -> \",fahrenheit)"
      ],
      "metadata": {
        "id": "yxKYhYQiqWfj",
        "outputId": "5666fe82-1aaf-49bf-da68-523b36f9ce53",
        "colab": {
          "base_uri": "https://localhost:8080/"
        }
      },
      "execution_count": 7,
      "outputs": [
        {
          "output_type": "stream",
          "name": "stdout",
          "text": [
            "Enter temperature in celcius : 37\n",
            "Value in fahrenheit is ->  98.60000000000001\n"
          ]
        }
      ]
    },
    {
      "cell_type": "markdown",
      "source": [
        "### Q3:- Take 2 numbers as input from the user.Write a program to swap the numbers without using any special python syntax."
      ],
      "metadata": {
        "id": "RLrOBBJurLB2"
      }
    },
    {
      "cell_type": "code",
      "source": [
        "# Taking user input of a and b\n",
        "a = int(input(\"Enter the value of number 1 : \"))\n",
        "b = int(input(\"Enter the value of number 2 : \"))\n",
        "\n",
        "# Values before swap\n",
        "print(\"Value of a before swap = \",a)\n",
        "print(\"Value of b before swap = \",b)\n",
        "\n",
        "# Code to swap values of a and b\n",
        "temp = a\n",
        "a = b\n",
        "b = temp\n",
        "\n",
        "# Values after swap\n",
        "print(\"Value of a after swap = \",a)\n",
        "print(\"value of b after swap = \",b)"
      ],
      "metadata": {
        "id": "yPn7if0TrJ4F",
        "outputId": "ef16f887-56a6-4619-ae0a-2e2eeb4f60b0",
        "colab": {
          "base_uri": "https://localhost:8080/"
        }
      },
      "execution_count": 9,
      "outputs": [
        {
          "output_type": "stream",
          "name": "stdout",
          "text": [
            "Enter the value of number 1 : 16\n",
            "Enter the value of number 2 : 20\n",
            "Value of a before swap =  16\n",
            "Value of b before swap =  20\n",
            "Value of a after swap =  20\n",
            "value of b after swap =  16\n"
          ]
        }
      ]
    },
    {
      "cell_type": "markdown",
      "source": [
        "### Q4:- Write a program to find the euclidean distance between two coordinates.Take both the coordinates from the user as input."
      ],
      "metadata": {
        "id": "waLCP1bjr7ML"
      }
    },
    {
      "cell_type": "code",
      "source": [
        "# Taking user input of x and y coordinate values of both the points\n",
        "x1 = int(input(\"Enter x coordinate of point 1 : \"))\n",
        "y1 = int(input(\"Enter y coordinate of point 1 : \"))\n",
        "x2 = int(input(\"Enter x coordinate of point 2 : \"))\n",
        "y2 = int(input(\"Enter y coordinate of point 2 : \"))\n",
        "\n",
        "# Calculating Eucledian Distance\n",
        "eucledian_distance = ((y2-y1)**2 + (x2-x1)**2)**0.5\n",
        "\n",
        "#Displaying Eucledian Distance\n",
        "print(\"Eucledian Distance between points is -> \",eucledian_distance)"
      ],
      "metadata": {
        "id": "Pl1Sv-xnrxnH",
        "outputId": "5345a720-86e7-4864-a156-605b02fa0f81",
        "colab": {
          "base_uri": "https://localhost:8080/"
        }
      },
      "execution_count": 10,
      "outputs": [
        {
          "output_type": "stream",
          "name": "stdout",
          "text": [
            "Enter x coordinate of point 1 : 5\n",
            "Enter y coordinate of point 1 : 4\n",
            "Enter x coordinate of point 2 : 8\n",
            "Enter y coordinate of point 2 : 7\n",
            "Eucledian Distance between points is ->  4.242640687119285\n"
          ]
        }
      ]
    },
    {
      "cell_type": "markdown",
      "source": [
        "### Q5:- Write a program to find the simple interest when the value of principle,rate of interest and time period is provided by the user.\n"
      ],
      "metadata": {
        "id": "VLrhg-FRsHjR"
      }
    },
    {
      "cell_type": "code",
      "source": [
        "# Taking user input of all the required details to calculate simple_interest\n",
        "principal_amount = int(input(\"Enter principal amount : \"))\n",
        "rate = int(input(\"Enter rate value : \"))\n",
        "time = int(input(\"Enter time : \"))\n",
        "\n",
        "# Calculating Simple Interest\n",
        "simple_interest = (principal_amount * rate * time)/100\n",
        "\n",
        "print(\"Simple Interest is -> \",simple_interest)"
      ],
      "metadata": {
        "id": "s40DlReZsTmY",
        "outputId": "5a2d77e7-fafc-48ce-dbb9-ed8a3c55b1e0",
        "colab": {
          "base_uri": "https://localhost:8080/"
        }
      },
      "execution_count": 13,
      "outputs": [
        {
          "output_type": "stream",
          "name": "stdout",
          "text": [
            "Enter principal amount : 70000\n",
            "Enter rate value : 6\n",
            "Enter time : 2\n",
            "Simple Interest is ->  8400.0\n"
          ]
        }
      ]
    },
    {
      "cell_type": "markdown",
      "source": [
        "### Q6:- Write a program that will tell the number of dogs and chicken are there when the user will provide the value of total heads and legs.\n",
        "\n",
        "For example:\n",
        "Input:\n",
        "heads -> 4\n",
        "legs -> 12\n",
        "<br>\n",
        "Output:\n",
        "dogs -> 2\n",
        "chicken -> 2\n",
        "\n",
        "\n",
        "\n"
      ],
      "metadata": {
        "id": "LMy0BTUktYKa"
      }
    },
    {
      "cell_type": "code",
      "source": [
        "# taking user input for number of heads and legs\n",
        "heads = int(input(\"Enter total heads : \"))\n",
        "legs = int(input(\"Enter total legs : \"))\n",
        "chicken = 0\n",
        "dog = 0\n",
        "\n",
        "# Calculating no of dogs and chickens\n",
        "# Hint : First create a mathematical equation of heads and legs and then solve it -> for heads ->  (x + y = heads) -> for legs -> (2x + 4y = legs) and then solve these equations\n",
        "# and use these equations to solve the problem statement\n",
        "dog = (legs - (2*heads))//2\n",
        "chicken = heads - dog\n",
        "print(\"Total chickens are -> \",chicken)\n",
        "print(\"Total dogs are -> \",dog)"
      ],
      "metadata": {
        "id": "XSBvJoA4tXaG",
        "outputId": "ccc92667-82b5-4fcc-dba9-fdb790bb7f7b",
        "colab": {
          "base_uri": "https://localhost:8080/"
        }
      },
      "execution_count": 17,
      "outputs": [
        {
          "output_type": "stream",
          "name": "stdout",
          "text": [
            "Enter total heads : 4\n",
            "Enter total legs : 12\n",
            "Total chickens are ->  2\n",
            "Total dogs are ->  2\n"
          ]
        }
      ]
    },
    {
      "cell_type": "markdown",
      "source": [
        "### Q7:- Write a program to find the sum of squares of first n natural numbers where n will be provided by the user."
      ],
      "metadata": {
        "id": "gJ7C5kZYt4BP"
      }
    },
    {
      "cell_type": "code",
      "source": [
        "# Taking user input\n",
        "n = int(input(\"Enter the value of n : \"))\n",
        "sum = 0\n",
        "\n",
        "# using loop calculating sum of squares of n natural numbers\n",
        "for i in range(1,n):\n",
        "  sum = sum + (i**2)\n",
        "print(\"Squares of n natural numbers is -> \",sum)"
      ],
      "metadata": {
        "id": "_tHsmEHzt2nX",
        "outputId": "b0af5744-6202-45a5-9bde-150b69af7986",
        "colab": {
          "base_uri": "https://localhost:8080/"
        }
      },
      "execution_count": 15,
      "outputs": [
        {
          "output_type": "stream",
          "name": "stdout",
          "text": [
            "Enter the value of n : 56\n",
            "Squares of n natural numbers is ->  56980\n"
          ]
        }
      ]
    },
    {
      "cell_type": "markdown",
      "source": [
        "### Q8:- Given the first 2 terms of an Arithmetic Series.Find the Nth term of the series. Assume all inputs are provided by the user."
      ],
      "metadata": {
        "id": "FHrMM7g-yG1h"
      }
    },
    {
      "cell_type": "code",
      "source": [
        "# Taking user inputs\n",
        "first_number = int(input(\"Enter First number : \"))\n",
        "second_number = int(input(\"Enter second number : \"))\n",
        "n = int(input(\"Enter the value of n : \"))\n",
        "\n",
        "# We need to calculate difference for formula\n",
        "difference = second_number - first_number\n",
        "\n",
        "#Calculating n_th number\n",
        "n_th_number = first_number + (n-1)*difference\n",
        "\n",
        "print(\"Nth number is -> \",n_th_number)"
      ],
      "metadata": {
        "id": "go4_kmZmyVSx",
        "outputId": "4605a364-0fd8-41be-a070-9e6a5194456f",
        "colab": {
          "base_uri": "https://localhost:8080/"
        }
      },
      "execution_count": 20,
      "outputs": [
        {
          "output_type": "stream",
          "name": "stdout",
          "text": [
            "Enter First number : 2\n",
            "Enter second number : 4\n",
            "Enter the value of n : 6\n",
            "Nth number is ->  12\n"
          ]
        }
      ]
    },
    {
      "cell_type": "markdown",
      "source": [
        "\n",
        "### Q9:- Given 2 fractions, find the sum of those 2 fractions.Take the numerator and denominator values of the fractions from the user."
      ],
      "metadata": {
        "id": "QgyRX_es1oum"
      }
    },
    {
      "cell_type": "code",
      "source": [
        "#Taking user inputs\n",
        "fraction_1_numerator = int(input(\"Enter numerator of fraction 1 : \"))\n",
        "fraction_1_denominator = int(input(\"Enter denominator of fraction 1 : \"))\n",
        "fraction_2_numerator = int(input(\"Enter numerator fraction 2 : \"))\n",
        "fraction_2_denominator = int(input(\"Enter denominator of fraction 2 : \"))\n",
        "\n",
        "#Finding sum of fractions\n",
        "summation = (fraction_1_numerator/fraction_1_denominator) + (fraction_2_numerator/fraction_2_denominator)\n",
        "\n",
        "# Displaying sum of fractions\n",
        "print(\"Sum of both fractions is -> \",summation)"
      ],
      "metadata": {
        "id": "X05xqFS1yW16",
        "outputId": "f14a3273-2e0c-473d-bb1f-aa350ddf612e",
        "colab": {
          "base_uri": "https://localhost:8080/"
        }
      },
      "execution_count": 21,
      "outputs": [
        {
          "output_type": "stream",
          "name": "stdout",
          "text": [
            "Enter numerator of fraction 1 : 2\n",
            "Enter denominator of fraction 1 : 4\n",
            "Enter numerator fraction 2 : 3\n",
            "Enter denominator of fraction 2 : 6\n",
            "Sum of both fractions is ->  1.0\n"
          ]
        }
      ]
    },
    {
      "cell_type": "markdown",
      "source": [
        "### Q10:- Given the height, width and breadth of a milk tank, you have to find out how many glasses of milk can be obtained? Assume all the inputs are provided by the user.\n",
        "\n",
        "\n",
        "\n",
        "Input:<br>\n",
        "Dimensions of the milk tank<br>\n",
        "H = 20cm, L = 20cm, B = 20cm\n",
        "<br><br>\n",
        "Dimensions of the glass<br>\n",
        "h = 3cm, r = 1cm"
      ],
      "metadata": {
        "id": "eaql38ln13u7"
      }
    },
    {
      "cell_type": "code",
      "source": [
        "# Taking user input for tank dimentions\n",
        "tank_height = int(input(\"Enter tank height : \"))\n",
        "tank_length = int(input(\"Enter tank length : \"))\n",
        "tank_breadth = int(input(\"Enter tank breadth : \"))\n",
        "\n",
        "# Taking user input for glass\n",
        "glass_height = int(input(\"Enter height of glass height : \"))\n",
        "glass_radius = int(input(\"Enter radius of glass top rim : \"))\n",
        "\n",
        "# Calculating tank volume\n",
        "tank_volume = tank_height * tank_length * tank_breadth\n",
        "\n",
        "#Calculating glass volume\n",
        "glass_volume = 3.14*(glass_radius**2)*glass_height\n",
        "\n",
        "# Total no of glasses that can be filled out of tank\n",
        "no_of_glasses = tank_volume//glass_volume\n",
        "\n",
        "#Displaying total no of glasses\n",
        "print(\"Total no of glasses that can be taken out of tank are -> \",no_of_glasses)"
      ],
      "metadata": {
        "id": "FePZqno74eWv",
        "outputId": "f8b5b0c7-0baa-447f-918a-8e9c0d576f9c",
        "colab": {
          "base_uri": "https://localhost:8080/"
        }
      },
      "execution_count": 22,
      "outputs": [
        {
          "output_type": "stream",
          "name": "stdout",
          "text": [
            "Enter tank height : 20\n",
            "Enter tank length : 20\n",
            "Enter tank breadth : 20\n",
            "Enter height of glass height : 3\n",
            "Enter radius of glass top rim : 1\n",
            "Total no of glasses that can be taken out of tank are ->  849.0\n"
          ]
        }
      ]
    }
  ]
}