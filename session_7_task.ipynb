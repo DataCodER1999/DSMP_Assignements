{
  "nbformat": 4,
  "nbformat_minor": 0,
  "metadata": {
    "colab": {
      "provenance": []
    },
    "kernelspec": {
      "name": "python3",
      "display_name": "Python 3"
    },
    "language_info": {
      "name": "python"
    }
  },
  "cells": [
    {
      "cell_type": "markdown",
      "source": [
        "##`Q-1:` Rectangle Class\n",
        "1. Write a Rectangle class in Python language, allowing you to build a rectangle with length and width attributes.\n",
        "\n",
        "2. Create a Perimeter() method to calculate the perimeter of the rectangle and a Area() method to calculate the area of ​​the rectangle.\n",
        "\n",
        "3. Create a method display() that display the length, width, perimeter and area of an object created using an instantiation on rectangle class."
      ],
      "metadata": {
        "id": "FyUJ3PRAsPr4"
      }
    },
    {
      "cell_type": "markdown",
      "source": [
        "Eg.\n",
        "After making above classes and methods, on executing below code:-\n",
        "```\n",
        "my_rectangle = Rectangle(3 , 4)\n",
        "my_rectangle.display()\n",
        "```\n",
        "\n",
        "`Output:`\n",
        "```\n",
        "The length of rectangle is:  3\n",
        "The width of rectangle is:  4\n",
        "The perimeter of rectangle is:  14\n",
        "The area of rectangle is:  12\n",
        "```\n"
      ],
      "metadata": {
        "id": "GxUtOqJfssFK"
      }
    },
    {
      "cell_type": "code",
      "source": [
        "# Class for Rectangle\n",
        "class Rectangle:\n",
        "\n",
        "  # Initializing constructor\n",
        "  def __init__(self,length,breadth):\n",
        "\n",
        "    # Assigning instance variable user given values\n",
        "    self.__length = length\n",
        "    self.__breadth = breadth\n",
        "\n",
        "  # Method to calculate area of rectangle\n",
        "  def __area(self):\n",
        "\n",
        "    return self.__length * self.__breadth\n",
        "\n",
        "  # Method to calculate perimeter\n",
        "  def __perimeter(self):\n",
        "\n",
        "    return 2*self.__length + 2*self.__breadth\n",
        "\n",
        "  # Method to show details regarding rectangle\n",
        "  def display(self):\n",
        "\n",
        "    print(\"Length : \",self.__length)\n",
        "    print(\"Breadth : \",self.__breadth)\n",
        "    print(\"Area : \",self.__area())\n",
        "    print(\"Perimeter : \",self.__perimeter())"
      ],
      "metadata": {
        "id": "92_QT-Uj6NBg"
      },
      "execution_count": 3,
      "outputs": []
    },
    {
      "cell_type": "code",
      "source": [
        "rec = Rectangle(10,20)\n",
        "rec.display()"
      ],
      "metadata": {
        "id": "VilAJif-VW6X",
        "outputId": "96322bed-f4df-4a29-f60e-23d94a4982a7",
        "colab": {
          "base_uri": "https://localhost:8080/"
        }
      },
      "execution_count": 4,
      "outputs": [
        {
          "output_type": "stream",
          "name": "stdout",
          "text": [
            "Length :  10\n",
            "Breadth :  20\n",
            "Area :  200\n",
            "Perimeter :  60\n"
          ]
        }
      ]
    },
    {
      "cell_type": "markdown",
      "source": [
        "##`Q-2: Bank Class`\n",
        "\n",
        "1. Create a Python class called `BankAccount` which represents a bank account, having as attributes: `accountNumber` (numeric type), `name` (name of the account owner as string type), `balance`.\n",
        "2. Create a constructor with parameters: `accountNumber, name, balance`.\n",
        "3. Create a `Deposit()` method which manages the deposit actions.\n",
        "4. Create a `Withdrawal()` method  which manages withdrawals actions.\n",
        "5. Create an `bankFees()` method to apply the bank fees with a percentage of 5% of the balance account.\n",
        "6. Create a `display()` method to display account details.\n",
        "Give the complete code for the  BankAccount class."
      ],
      "metadata": {
        "id": "r_GxrS0Vrdom"
      }
    },
    {
      "cell_type": "code",
      "source": [
        "# Class to creating Banking application\n",
        "class Bank:\n",
        "\n",
        "  # Initializing constructor\n",
        "  def __init__(self,account_number,name,balance):\n",
        "\n",
        "    # Assigning instance variable user given values\n",
        "    self.__account_number = account_number\n",
        "    self.__name = name\n",
        "    self.__balance = balance\n",
        "\n",
        "  # Method to perform deposit functionality\n",
        "  def deposit(self):\n",
        "\n",
        "    # Asking amount to be deposited from user\n",
        "    amount = int(input(\"Enter amount to be deposited : \"))\n",
        "    self.__balance = self.__balance + amount\n",
        "\n",
        "    print(\"Money deposited successfully\")\n",
        "\n",
        "  # Method to perform withdrawl function\n",
        "  def withdrawl(self):\n",
        "\n",
        "    # Asking amount from user to be withdrawn\n",
        "    amount = int(input(\"Enter amount to be withdrawn : \"))\n",
        "\n",
        "    # Checking whether amount can be withdrawn or not\n",
        "    if amount >= 0 and amount <= self.__balance:\n",
        "      self.__balance = self.__balance - amount\n",
        "      print(\"{} amount withdrawn\".format(amount))\n",
        "\n",
        "    else:\n",
        "      print(\"invalid amount\")\n",
        "\n",
        "  # Method to calculate bankFees\n",
        "  def bankFees(self):\n",
        "\n",
        "    return \"Your current bank fees is : {}\".format(0.05*self.__balance)\n",
        "\n",
        "  # Method to show bank details\n",
        "  def display(self):\n",
        "\n",
        "    print(\"Name - \",self.__name)\n",
        "    print(\"Acc.no - \",self.__account_number)\n",
        "    print(\"Current Balance - \",self.__balance)\n",
        "    print(self.bankFees())"
      ],
      "metadata": {
        "id": "UzvQ0zmGVigz"
      },
      "execution_count": 11,
      "outputs": []
    },
    {
      "cell_type": "code",
      "source": [
        "obj = Bank(12345,'nitin',900000000)\n",
        "obj.display()"
      ],
      "metadata": {
        "id": "bgseyLrBYIQv",
        "outputId": "80ff404c-1b7f-40f0-a21b-095cf90f7a34",
        "colab": {
          "base_uri": "https://localhost:8080/"
        }
      },
      "execution_count": 12,
      "outputs": [
        {
          "output_type": "stream",
          "name": "stdout",
          "text": [
            "Name -  nitin\n",
            "Acc.no -  12345\n",
            "Current Balance -  900000000\n",
            "Your current bank fees is : 45000000.0\n"
          ]
        }
      ]
    },
    {
      "cell_type": "code",
      "source": [
        "bnk = Bank(123,'kittu',9000000000000)"
      ],
      "metadata": {
        "id": "ZN_e0IShYaXd"
      },
      "execution_count": 13,
      "outputs": []
    },
    {
      "cell_type": "code",
      "source": [
        "bnk.deposit()"
      ],
      "metadata": {
        "id": "zdLPdc8vYh30",
        "outputId": "f3d94986-5c23-43f2-c755-1b1c54fcfcf9",
        "colab": {
          "base_uri": "https://localhost:8080/"
        }
      },
      "execution_count": 14,
      "outputs": [
        {
          "output_type": "stream",
          "name": "stdout",
          "text": [
            "Enter amount to be deposited : 1234532\n",
            "Money deposited successfully\n"
          ]
        }
      ]
    },
    {
      "cell_type": "code",
      "source": [
        "bnk.withdrawl()"
      ],
      "metadata": {
        "id": "s70IQAwkYh6R",
        "outputId": "529f4273-786e-411f-95fc-9bc0faf1a64b",
        "colab": {
          "base_uri": "https://localhost:8080/"
        }
      },
      "execution_count": 15,
      "outputs": [
        {
          "output_type": "stream",
          "name": "stdout",
          "text": [
            "Enter amount to be withdrawn : 2364456\n",
            "2364456 amount withdrawn\n"
          ]
        }
      ]
    },
    {
      "cell_type": "code",
      "source": [
        "bnk.bankFees()"
      ],
      "metadata": {
        "id": "0QOR6pIvYtyE",
        "outputId": "9659b269-7f31-4873-dc5b-3ae8ec380f16",
        "colab": {
          "base_uri": "https://localhost:8080/",
          "height": 36
        }
      },
      "execution_count": 16,
      "outputs": [
        {
          "output_type": "execute_result",
          "data": {
            "text/plain": [
              "'Your current bank fees is : 449999943503.80005'"
            ],
            "application/vnd.google.colaboratory.intrinsic+json": {
              "type": "string"
            }
          },
          "metadata": {},
          "execution_count": 16
        }
      ]
    },
    {
      "cell_type": "markdown",
      "source": [
        "Eg.\n",
        "After making above classes and methods, on executing below code:-\n",
        "```\n",
        "newAccount = BankAccount(2178514584, \"Mandy\" , 2800)\n",
        "\n",
        "newAccount.Withdrawal(700)\n",
        "\n",
        "newAccount.Deposit(1000)\n",
        "\n",
        "newAccount.display()\n",
        "```\n",
        "\n",
        "`Output:`\n",
        "```\n",
        "Account Number :  2178514584\n",
        "Account Name :  Mandy\n",
        "Account Balance :  3100 ₹\n",
        "```"
      ],
      "metadata": {
        "id": "qvVkOUJgvTV_"
      }
    },
    {
      "cell_type": "markdown",
      "source": [
        "##`Q-3:Computation class`\n",
        "\n",
        "1. Create a `Computation` class with a default constructor (without parameters) allowing to perform various calculations on integers numbers.\n",
        "2. Create a method called `Factorial()` which allows to calculate the factorial of an integer n. Integer n as parameter for this method\n",
        "\n",
        "3. Create a method called `naturalSum()` allowing to calculate the sum of the first n integers 1 + 2 + 3 + .. + n. Integer n as parameter for this method.\n",
        "\n",
        "4. Create a method called `testPrime()` in  the Calculation class to test the primality of a given integer n, n is Prime or Not? Integer n as parameter for this method.\n",
        "\n",
        "5. Create  a method called `testPrims()` allowing to test if two numbers are prime between them. Two integers are prime to one another if they have only `1` as their common divisor. Eg. 4 and 9 are prime to each other.\n",
        "\n",
        "5. Create a `tableMult()` method which creates and displays the multiplication table of a given integer. Then create an `allTablesMult()` method to display all the integer multiplication tables 1, 2, 3, ..., 9.\n",
        "\n",
        "6. Create a static `listDiv()` method that gets all the divisors of a given integer on new list called  Ldiv. Create another `listDivPrim()` method that gets all the prime divisors of a given integer."
      ],
      "metadata": {
        "id": "QovcQAZTrgGU"
      }
    },
    {
      "cell_type": "code",
      "source": [
        "# Class to create Mathematical shortcuts\n",
        "class Computation:\n",
        "\n",
        "\n",
        "\n",
        "\n",
        "  # Method to calculate Factorial\n",
        "  def factorial(self):\n",
        "    num = int(input(\"Enter number whose factorial needs to be calculated : \"))\n",
        "    fact = 1\n",
        "\n",
        "    # Calculating factorial\n",
        "    for i in range(1,num+1):\n",
        "      fact = fact * i\n",
        "\n",
        "    # Displaying factorial\n",
        "    print(\"Factorial of {} is {}\".format(num,fact))\n",
        "\n",
        "\n",
        "\n",
        "\n",
        "\n",
        "  # Method to calculate naturalSum\n",
        "  def naturalSum(self):\n",
        "\n",
        "    # Taking the value of n upto which sum needs to be calculated\n",
        "    n = int(input(\"Enter the value of n : \"))\n",
        "    sum = 0\n",
        "\n",
        "    # Calculating natural sum\n",
        "    for i in range(1,n+1):\n",
        "      sum = sum + i\n",
        "\n",
        "    # Displaying sum\n",
        "    print(\"Natural Sum is -> \",sum)\n",
        "\n",
        "\n",
        "\n",
        "\n",
        "  # Method to check whether a number is prime or not\n",
        "  def testPrime(self,n):\n",
        "\n",
        "    # Checking prime or not\n",
        "    for i in range(2,n):\n",
        "      if n%i == 0:\n",
        "        return 0\n",
        "\n",
        "    else:\n",
        "      return 1\n",
        "\n",
        "\n",
        "\n",
        "\n",
        "\n",
        "  # Method to check whether two numbers are prime to each other or not\n",
        "  def testPrims(self):\n",
        "\n",
        "    # Taking user inputs\n",
        "    a = int(input(\"Enter the value of a : \"))\n",
        "    b = int(input(\"Enter the value of b : \"))\n",
        "\n",
        "    a_divisors = []\n",
        "    b_divisors = []\n",
        "\n",
        "    # Calculating a divisors\n",
        "    for i in range(1,a):\n",
        "      if a%i == 0:\n",
        "        a_divisors.append(i)\n",
        "\n",
        "    # Calculating b divisors\n",
        "    for i in range(1,b):\n",
        "      if b%i == 0:\n",
        "        b_divisors.append(i)\n",
        "\n",
        "    # Checking if the numbers are testPrims or not\n",
        "    if len(set(a_divisors) & set(b_divisors)) and (1 in (set(a_divisors) & set(b_divisors))):\n",
        "      print(\"Numbers are prime to each other\")\n",
        "\n",
        "    else:\n",
        "      print(\"Numbers are not prime to each other\")\n",
        "\n",
        "\n",
        "\n",
        "\n",
        "  # Method to print multiplication table of given number\n",
        "  def tableMult(self,n):\n",
        "\n",
        "    # Printing table for the arguemrnt value\n",
        "    for i in range(1,11):\n",
        "      print(\"{} x {} = {}\".format(n,i,n*i))\n",
        "\n",
        "\n",
        "\n",
        "\n",
        "\n",
        "  # Method to print multiple tables\n",
        "  def allTableMult(self):\n",
        "\n",
        "    # taking user inputs for range\n",
        "    lower = int(input(\"Enter lower range : \"))\n",
        "    upper = int(input(\"Enter upper range : \"))\n",
        "\n",
        "    # Calculating Multiplication Tables\n",
        "    for i in range(lower,upper+1):\n",
        "\n",
        "      # Loop for printing table for each value of outer loop\n",
        "      for j in range(1,11):\n",
        "        print('{} x {} = {}'.format(i,j,i*j))\n",
        "\n",
        "\n",
        "\n",
        "\n",
        "\n",
        "  # Method to find all the divisors of a number\n",
        "  def listDiv(self,n):\n",
        "\n",
        "    divisors = []\n",
        "\n",
        "    # Finding all divisors\n",
        "    for i in range(1,n+1):\n",
        "      if n%i == 0:\n",
        "        divisors.append(i)\n",
        "\n",
        "    return divisors\n",
        "\n",
        "\n",
        "\n",
        "\n",
        "  # Method to find all the prime divisors\n",
        "  def listDivPrim(self):\n",
        "\n",
        "    # Number whose all the prime divisors is to be found\n",
        "    num = int(input(\"Enter the value of num : \"))\n",
        "\n",
        "    # Calling listDiv() method to get all the divisors\n",
        "    div = self.listDiv(num)\n",
        "    prime_divisors = []\n",
        "\n",
        "    # Checking which num is prime or not\n",
        "    for i in div:\n",
        "      if self.testPrime(i):\n",
        "        prime_divisors.append(i)\n",
        "\n",
        "    return prime_divisors"
      ],
      "metadata": {
        "id": "YEkPH70l6Z-o"
      },
      "execution_count": 49,
      "outputs": []
    },
    {
      "cell_type": "code",
      "source": [
        "obj = Computation()"
      ],
      "metadata": {
        "id": "bsYkUqgqkQMA"
      },
      "execution_count": 50,
      "outputs": []
    },
    {
      "cell_type": "code",
      "source": [
        "obj.factorial()"
      ],
      "metadata": {
        "id": "qxcN2Nw0i6jC",
        "outputId": "271777fc-7cb1-4bb2-ef7a-47135e4be312",
        "colab": {
          "base_uri": "https://localhost:8080/"
        }
      },
      "execution_count": 25,
      "outputs": [
        {
          "output_type": "stream",
          "name": "stdout",
          "text": [
            "Enter number whose factorial needs to be calculated : 3\n",
            "Factorial of 3 is 6\n"
          ]
        }
      ]
    },
    {
      "cell_type": "code",
      "source": [
        "obj.naturalSum()"
      ],
      "metadata": {
        "id": "57e52h0ajIMw",
        "outputId": "3a563b18-ffb5-4054-afd7-c6f94fc5f2e1",
        "colab": {
          "base_uri": "https://localhost:8080/"
        }
      },
      "execution_count": 20,
      "outputs": [
        {
          "output_type": "stream",
          "name": "stdout",
          "text": [
            "Enter the value of n : 20\n",
            "Natural Sum is ->  210\n"
          ]
        }
      ]
    },
    {
      "cell_type": "code",
      "source": [
        "obj.testPrime(31)"
      ],
      "metadata": {
        "id": "NAPQE82ojIP0",
        "outputId": "769f5af0-4eff-44e3-ac22-daa85c767198",
        "colab": {
          "base_uri": "https://localhost:8080/"
        }
      },
      "execution_count": 26,
      "outputs": [
        {
          "output_type": "execute_result",
          "data": {
            "text/plain": [
              "1"
            ]
          },
          "metadata": {},
          "execution_count": 26
        }
      ]
    },
    {
      "cell_type": "code",
      "source": [
        "obj.testPrims()"
      ],
      "metadata": {
        "id": "Vc_w1sLOjISW",
        "outputId": "de96b2bc-63c3-4bda-8ef2-45c94b724e13",
        "colab": {
          "base_uri": "https://localhost:8080/"
        }
      },
      "execution_count": 40,
      "outputs": [
        {
          "output_type": "stream",
          "name": "stdout",
          "text": [
            "Enter the value of a : 21\n",
            "Enter the value of b : 22\n",
            "Numbers are prime to each other\n"
          ]
        }
      ]
    },
    {
      "cell_type": "code",
      "source": [
        "obj.tableMult(3)"
      ],
      "metadata": {
        "id": "ZMY9z_UPmHmj",
        "outputId": "368c28c4-7861-4448-b2d9-a972dc0eb5d7",
        "colab": {
          "base_uri": "https://localhost:8080/"
        }
      },
      "execution_count": 42,
      "outputs": [
        {
          "output_type": "stream",
          "name": "stdout",
          "text": [
            "3 x 1 = 3\n",
            "3 x 2 = 6\n",
            "3 x 3 = 9\n",
            "3 x 4 = 12\n",
            "3 x 5 = 15\n",
            "3 x 6 = 18\n",
            "3 x 7 = 21\n",
            "3 x 8 = 24\n",
            "3 x 9 = 27\n",
            "3 x 10 = 30\n"
          ]
        }
      ]
    },
    {
      "cell_type": "code",
      "source": [
        "obj.allTableMult()"
      ],
      "metadata": {
        "id": "4J0xvjOpmJ0W",
        "outputId": "2e318749-06dd-4fea-adba-0c08368707fa",
        "colab": {
          "base_uri": "https://localhost:8080/"
        }
      },
      "execution_count": 43,
      "outputs": [
        {
          "output_type": "stream",
          "name": "stdout",
          "text": [
            "Enter lower range : 5\n",
            "Enter upper range : 20\n",
            "5 x 1 = 5\n",
            "5 x 2 = 10\n",
            "5 x 3 = 15\n",
            "5 x 4 = 20\n",
            "5 x 5 = 25\n",
            "5 x 6 = 30\n",
            "5 x 7 = 35\n",
            "5 x 8 = 40\n",
            "5 x 9 = 45\n",
            "5 x 10 = 50\n",
            "6 x 1 = 6\n",
            "6 x 2 = 12\n",
            "6 x 3 = 18\n",
            "6 x 4 = 24\n",
            "6 x 5 = 30\n",
            "6 x 6 = 36\n",
            "6 x 7 = 42\n",
            "6 x 8 = 48\n",
            "6 x 9 = 54\n",
            "6 x 10 = 60\n",
            "7 x 1 = 7\n",
            "7 x 2 = 14\n",
            "7 x 3 = 21\n",
            "7 x 4 = 28\n",
            "7 x 5 = 35\n",
            "7 x 6 = 42\n",
            "7 x 7 = 49\n",
            "7 x 8 = 56\n",
            "7 x 9 = 63\n",
            "7 x 10 = 70\n",
            "8 x 1 = 8\n",
            "8 x 2 = 16\n",
            "8 x 3 = 24\n",
            "8 x 4 = 32\n",
            "8 x 5 = 40\n",
            "8 x 6 = 48\n",
            "8 x 7 = 56\n",
            "8 x 8 = 64\n",
            "8 x 9 = 72\n",
            "8 x 10 = 80\n",
            "9 x 1 = 9\n",
            "9 x 2 = 18\n",
            "9 x 3 = 27\n",
            "9 x 4 = 36\n",
            "9 x 5 = 45\n",
            "9 x 6 = 54\n",
            "9 x 7 = 63\n",
            "9 x 8 = 72\n",
            "9 x 9 = 81\n",
            "9 x 10 = 90\n",
            "10 x 1 = 10\n",
            "10 x 2 = 20\n",
            "10 x 3 = 30\n",
            "10 x 4 = 40\n",
            "10 x 5 = 50\n",
            "10 x 6 = 60\n",
            "10 x 7 = 70\n",
            "10 x 8 = 80\n",
            "10 x 9 = 90\n",
            "10 x 10 = 100\n",
            "11 x 1 = 11\n",
            "11 x 2 = 22\n",
            "11 x 3 = 33\n",
            "11 x 4 = 44\n",
            "11 x 5 = 55\n",
            "11 x 6 = 66\n",
            "11 x 7 = 77\n",
            "11 x 8 = 88\n",
            "11 x 9 = 99\n",
            "11 x 10 = 110\n",
            "12 x 1 = 12\n",
            "12 x 2 = 24\n",
            "12 x 3 = 36\n",
            "12 x 4 = 48\n",
            "12 x 5 = 60\n",
            "12 x 6 = 72\n",
            "12 x 7 = 84\n",
            "12 x 8 = 96\n",
            "12 x 9 = 108\n",
            "12 x 10 = 120\n",
            "13 x 1 = 13\n",
            "13 x 2 = 26\n",
            "13 x 3 = 39\n",
            "13 x 4 = 52\n",
            "13 x 5 = 65\n",
            "13 x 6 = 78\n",
            "13 x 7 = 91\n",
            "13 x 8 = 104\n",
            "13 x 9 = 117\n",
            "13 x 10 = 130\n",
            "14 x 1 = 14\n",
            "14 x 2 = 28\n",
            "14 x 3 = 42\n",
            "14 x 4 = 56\n",
            "14 x 5 = 70\n",
            "14 x 6 = 84\n",
            "14 x 7 = 98\n",
            "14 x 8 = 112\n",
            "14 x 9 = 126\n",
            "14 x 10 = 140\n",
            "15 x 1 = 15\n",
            "15 x 2 = 30\n",
            "15 x 3 = 45\n",
            "15 x 4 = 60\n",
            "15 x 5 = 75\n",
            "15 x 6 = 90\n",
            "15 x 7 = 105\n",
            "15 x 8 = 120\n",
            "15 x 9 = 135\n",
            "15 x 10 = 150\n",
            "16 x 1 = 16\n",
            "16 x 2 = 32\n",
            "16 x 3 = 48\n",
            "16 x 4 = 64\n",
            "16 x 5 = 80\n",
            "16 x 6 = 96\n",
            "16 x 7 = 112\n",
            "16 x 8 = 128\n",
            "16 x 9 = 144\n",
            "16 x 10 = 160\n",
            "17 x 1 = 17\n",
            "17 x 2 = 34\n",
            "17 x 3 = 51\n",
            "17 x 4 = 68\n",
            "17 x 5 = 85\n",
            "17 x 6 = 102\n",
            "17 x 7 = 119\n",
            "17 x 8 = 136\n",
            "17 x 9 = 153\n",
            "17 x 10 = 170\n",
            "18 x 1 = 18\n",
            "18 x 2 = 36\n",
            "18 x 3 = 54\n",
            "18 x 4 = 72\n",
            "18 x 5 = 90\n",
            "18 x 6 = 108\n",
            "18 x 7 = 126\n",
            "18 x 8 = 144\n",
            "18 x 9 = 162\n",
            "18 x 10 = 180\n",
            "19 x 1 = 19\n",
            "19 x 2 = 38\n",
            "19 x 3 = 57\n",
            "19 x 4 = 76\n",
            "19 x 5 = 95\n",
            "19 x 6 = 114\n",
            "19 x 7 = 133\n",
            "19 x 8 = 152\n",
            "19 x 9 = 171\n",
            "19 x 10 = 190\n",
            "20 x 1 = 20\n",
            "20 x 2 = 40\n",
            "20 x 3 = 60\n",
            "20 x 4 = 80\n",
            "20 x 5 = 100\n",
            "20 x 6 = 120\n",
            "20 x 7 = 140\n",
            "20 x 8 = 160\n",
            "20 x 9 = 180\n",
            "20 x 10 = 200\n"
          ]
        }
      ]
    },
    {
      "cell_type": "code",
      "source": [
        "obj.listDiv(45)"
      ],
      "metadata": {
        "id": "MsbdywVWmcig",
        "outputId": "3338636b-c409-4831-9efd-806b8c98a130",
        "colab": {
          "base_uri": "https://localhost:8080/"
        }
      },
      "execution_count": 52,
      "outputs": [
        {
          "output_type": "execute_result",
          "data": {
            "text/plain": [
              "[1, 3, 5, 9, 15, 45]"
            ]
          },
          "metadata": {},
          "execution_count": 52
        }
      ]
    },
    {
      "cell_type": "code",
      "source": [
        "obj.listDivPrim()"
      ],
      "metadata": {
        "id": "PuLCAJL9mclR",
        "outputId": "6ef00921-e0a3-4a66-8399-d672a96dcff8",
        "colab": {
          "base_uri": "https://localhost:8080/"
        }
      },
      "execution_count": 53,
      "outputs": [
        {
          "name": "stdout",
          "output_type": "stream",
          "text": [
            "Enter the value of num : 45\n"
          ]
        },
        {
          "output_type": "execute_result",
          "data": {
            "text/plain": [
              "[1, 3, 5]"
            ]
          },
          "metadata": {},
          "execution_count": 53
        }
      ]
    },
    {
      "cell_type": "markdown",
      "source": [
        "##`Q-4`: Build flashcard using class in Python.\n",
        "\n",
        "Build a flashcard using class in python. A flashcard is a card having information on both sides, which can be used as an aid in memoization. Flashcards usually have a question on one side and an answer on the other.\n",
        "\n",
        "**Example 1:**\n",
        "\n",
        "Approach:\n",
        "\n",
        "- Create a class named FlashCard.\n",
        "- Initialize dictionary fruits using __init__() method. Here you have to define fruit name as key and it's color as value. E.g., {\"Banana\": \"yellow\", \"Strawberries\": \"pink\"}\n",
        "- Now randomly choose a pair from fruits by using _random_ module and store the key in variable _fruit_ and _value_ in variable color.\n",
        "- Now prompt the user to answer the color of the randomly chosen fruit.\n",
        "- If correct print correct else print wrong.\n",
        "\n",
        "Output:\n",
        "```bash\n",
        "welcome to fruit quiz\n",
        "What is the color of Strawberries\n",
        "pink\n",
        "Correct answer\n",
        "Enter 0, if you want to play again: 0\n",
        "What is the color of watermelon\n",
        "green\n",
        "Correct answer\n",
        "Enter 0, if you want to play again: 1\n",
        "```"
      ],
      "metadata": {
        "id": "0yn23_oEriXa"
      }
    },
    {
      "cell_type": "code",
      "source": [
        "# Creating Flashcard class\n",
        "class FlashCard:\n",
        "\n",
        "  # Initializing constructor\n",
        "  def __init__(self):\n",
        "    self.fruits = {'banana':'yellow','strawberry':'pink','grapes':'green','pineapple':'greenyellow'}\n",
        "\n",
        "\n",
        "  # Method to play the game\n",
        "  def play(self):\n",
        "\n",
        "    import random\n",
        "    fruit = random.choice(list(self.fruits.keys()))\n",
        "    colour = self.fruits[fruit]\n",
        "\n",
        "    print(\"Guess the colour of the fruit : \",fruit)\n",
        "\n",
        "    # Taking user input for guessing colour for the randomly chosen fruit\n",
        "    clr = input(\"Guess the colour for the fruit : \")\n",
        "\n",
        "    if clr == colour:\n",
        "      print(\"correct guess\")\n",
        "\n",
        "    else:\n",
        "      print(\"Incorrect guess\")\n",
        "\n",
        "    # Asking user choice whether user wants to play another time or not\n",
        "    choice = input(\"Press 1 to continue or press 0 to exit\")\n",
        "\n",
        "    if choice == '1':\n",
        "      self.play()\n",
        "\n",
        "    elif choice == '0':\n",
        "      exit()"
      ],
      "metadata": {
        "id": "vCrUF6VU6l6w"
      },
      "execution_count": 54,
      "outputs": []
    },
    {
      "cell_type": "code",
      "source": [
        "obj = FlashCard()\n",
        "obj.play()"
      ],
      "metadata": {
        "id": "7L4oeKOJpnlZ",
        "outputId": "61995beb-7392-46ab-ab37-436b322da0ce",
        "colab": {
          "base_uri": "https://localhost:8080/"
        }
      },
      "execution_count": 57,
      "outputs": [
        {
          "name": "stdout",
          "output_type": "stream",
          "text": [
            "Guess the colour of the fruit :  pineapple\n",
            "Guess the colour for the fruit : yellowgreen\n",
            "Incorrect guess\n",
            "Press 1 to continue or press 0 to exit1\n",
            "Guess the colour of the fruit :  strawberry\n",
            "Guess the colour for the fruit : pink\n",
            "correct guess\n",
            "Press 1 to continue or press 0 to exit1\n",
            "Guess the colour of the fruit :  banana\n",
            "Guess the colour for the fruit : yellow\n",
            "correct guess\n",
            "Press 1 to continue or press 0 to exit0\n"
          ]
        }
      ]
    },
    {
      "cell_type": "markdown",
      "source": [
        "## `Q-5:` Problem 5 based on OOP Python.\n",
        "\n",
        "TechWorld, a technology training center, wants to allocate courses for instructors. An instructor is identified by name, technology skills, experience and average feedback. An instructor is allocated a course, if he/she satisfies the below two conditions:\n",
        "- eligibility criteria:\n",
        "    - if experience is more than 3 years, average feedback should be 4.5 or more\n",
        "    - if experience is 3 years or less, average feedback should be 4 or more\n",
        "- he/she should posses the technology skill for the course\n",
        "\n",
        "Identify the class name and attributes to represent instructors. Write a Python program to implement the class chosen with its attributes and methods.\n",
        "\n",
        "**Note:**\n",
        "- Consider all instance variables to be private and methods to be public.\n",
        "- An instructor may have multiple technology skills, so consider instance variable, technology_skill to be a list.\n",
        "- *check_eligibility()*: Return true if eligibility criteria is satisfied by the instructor. Else, return false\n",
        "- *allocate_course(technology)*: Return true if the course which requires the given technology can be allocated to the instructor. Else, return false.\n",
        "\n",
        "Represent a few objects of the class, initialize instance variables using setter methods, invoke\n",
        "appropriate methods and test your program."
      ],
      "metadata": {
        "id": "GN2r0jbRewYr"
      }
    },
    {
      "cell_type": "code",
      "source": [
        "from prompt_toolkit.shortcuts.prompt import E\n",
        "# Instructor class\n",
        "class Instructor:\n",
        "\n",
        "  # Initializing constructor\n",
        "  def __init__(self,name,experience,average_feedback,*technology_skills):\n",
        "    self.__name = name\n",
        "    self.__experience = experience\n",
        "    self.__average_feedback = average_feedback\n",
        "    self.__tech_skills = technology_skills\n",
        "\n",
        "  # getter for name\n",
        "  def get_name(self):\n",
        "    return self.__name\n",
        "\n",
        "\n",
        "  # getter for experience\n",
        "  def get_experience(self):\n",
        "    return self.__experience\n",
        "\n",
        "\n",
        "  # getter for average_feedback\n",
        "  def get_average_feedback(self):\n",
        "    return self.__average_feedback\n",
        "\n",
        "\n",
        "  # getter for tech_skills\n",
        "  def get_tech_skills(self):\n",
        "    return self.__tech_skills\n",
        "\n",
        "\n",
        "\n",
        "# Creating Techworld class\n",
        "class TechWorld:\n",
        "\n",
        "\n",
        "    # Initializing constructor\n",
        "    def __init__(self):\n",
        "      self.__courses = {'DataScientist':['Python','EDA','DataWrangling','Statistics','MachineLearning'],'WebDevelopment':['HTML','CSS','JavaScript','ReactJS']}\n",
        "\n",
        "\n",
        "\n",
        "    # Method to check whether a\n",
        "    def check_eligibility(self,instructor,course):\n",
        "\n",
        "      # Checking whether eligible or not\n",
        "      if course in self.__courses:\n",
        "        if (instructor.get_experience() > 3 and instructor.get_average_feedback() >= 4.5) or (self.get_experience < 3 and instructor.get_average_feedback > 4):\n",
        "          for i in self.__courses[course]:\n",
        "            if i in instructor.get_tech_skills():\n",
        "              continue\n",
        "\n",
        "            else:\n",
        "              break\n",
        "          else:\n",
        "            return 1\n",
        "\n",
        "          return 0\n",
        "\n",
        "        else:\n",
        "          return 0\n",
        "\n",
        "      else:\n",
        "\n",
        "        return 2\n",
        "\n",
        "\n",
        "\n",
        "    # Method to allocate course\n",
        "    def allocate_course(self,instructor,course):\n",
        "      if self.check_eligibility(instructor,course) == 1:\n",
        "        print(\"Course allocated\")\n",
        "\n",
        "      elif self.check_eligibility(instructor,course) == 0:\n",
        "        print(\"Sorry you can't be allocated course because you are not eligible\")\n",
        "\n",
        "      elif self.check_eligibility(instructor,course) == 2:\n",
        "        print(\"Sorry This course is not in out techstack\")"
      ],
      "metadata": {
        "id": "pdMFuVFnlvKL"
      },
      "execution_count": 18,
      "outputs": []
    },
    {
      "cell_type": "code",
      "source": [
        "# Initializing instances for instructors\n",
        "instructor1 = Instructor('nitin',7,9.5,'Python','EDA','DataWrangling','Statistics','MachineLearning','DeepLearning')\n",
        "instructor2 = Instructor('keshav',5,8.3,'HTML','CSS','JavaScript','ReactJS')\n",
        "\n",
        "# Initializing instance for TechWorld\n",
        "tech = TechWorld()\n",
        "\n",
        "# Checking allocation of a course to instructor\n",
        "tech.check_eligibility(instructor1,'DataScientist')\n",
        "tech.allocate_course(instructor1,'DataScientist')"
      ],
      "metadata": {
        "id": "sSkKFumVxBkQ",
        "outputId": "f97b7691-7ff5-4bf0-ee80-695bef3f95aa",
        "colab": {
          "base_uri": "https://localhost:8080/"
        }
      },
      "execution_count": 20,
      "outputs": [
        {
          "output_type": "stream",
          "name": "stdout",
          "text": [
            "Course allocated\n"
          ]
        }
      ]
    }
  ]
}