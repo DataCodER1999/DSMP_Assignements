{
  "nbformat": 4,
  "nbformat_minor": 0,
  "metadata": {
    "colab": {
      "provenance": []
    },
    "kernelspec": {
      "name": "python3",
      "display_name": "Python 3"
    },
    "language_info": {
      "name": "python"
    }
  },
  "cells": [
    {
      "cell_type": "markdown",
      "source": [
        "### `Problem 1`: Write a program that will give you in hand monthly salary after deduction on CTC - HRA(10%), DA(5%), PF(3%) and taxes deduction as below:\n",
        "\n",
        "> Salary(Lakhs) : Tax(%)\n",
        "\n",
        "*   Below 5 : 0%\n",
        "*   5-10 : 10%\n",
        "*   10-20 : 20%\n",
        "*   aboove 20 : 30%"
      ],
      "metadata": {
        "id": "w6RlOAXV2PWh"
      }
    },
    {
      "cell_type": "code",
      "source": [
        "# Taking salary as input\n",
        "salary = int(input(\"Enter the salary of user : \"))\n",
        "tax = None\n",
        "\n",
        "# Calculating tax % according salary\n",
        "if salary < 5:\n",
        "  tax = 0\n",
        "elif salary >= 5 and salary < 10:\n",
        "  tax = 10\n",
        "elif salary >= 10 and salary < 20:\n",
        "  tax = 20\n",
        "else:\n",
        "  tax = 30\n",
        "\n",
        "# Printing total inhand salary\n",
        "print(\"Your total inhand salary would be -> \",round(salary - ((18+tax)/100 * salary),2))"
      ],
      "metadata": {
        "id": "7tMHvKYO2etI",
        "outputId": "9c7a61c1-7bbb-4d44-b1d9-651150fcfa2b",
        "colab": {
          "base_uri": "https://localhost:8080/"
        }
      },
      "execution_count": 4,
      "outputs": [
        {
          "output_type": "stream",
          "name": "stdout",
          "text": [
            "Enter the salary of user : 87\n",
            "Your total inhand salary would be ->  45.24\n"
          ]
        }
      ]
    },
    {
      "cell_type": "markdown",
      "source": [
        "### `Problem 2`: Write a program that take a user input of three angles and will find out whether it can form a triangle or not."
      ],
      "metadata": {
        "id": "tYzCGqwl2hfN"
      }
    },
    {
      "cell_type": "code",
      "source": [
        "# Taking user input for angles\n",
        "angle1 = int(input(\"Enter angle 1 : \"))\n",
        "angle2 = int(input(\"Enter angle 2 : \"))\n",
        "angle3 = int(input(\"Enter angle 3 : \"))\n",
        "\n",
        "# Checking whether valid triangle or not\n",
        "if angle1 > 0 and angle2 > 0 and angle3 > 0 and (angle1 + angle2 + angle3)  == 180:\n",
        "  print(\"This is a valid triangle\")\n",
        "else:\n",
        "  print(\"This is not a valid triangle\")"
      ],
      "metadata": {
        "id": "FYEqln-I2kxV",
        "outputId": "2734cb7d-8b13-48a0-dbab-8e43d6c159b2",
        "colab": {
          "base_uri": "https://localhost:8080/"
        }
      },
      "execution_count": 5,
      "outputs": [
        {
          "output_type": "stream",
          "name": "stdout",
          "text": [
            "Enter angle 1 : 45\n",
            "Enter angle 2 : 45\n",
            "Enter angle 3 : 90\n",
            "This is a valid triangle\n"
          ]
        }
      ]
    },
    {
      "cell_type": "markdown",
      "source": [
        "### `Problem 3`: Write a program that will take user input of cost price and selling price and determines whether its a loss or a profit."
      ],
      "metadata": {
        "id": "5vEpPh8C2pE4"
      }
    },
    {
      "cell_type": "code",
      "source": [
        "# Taking cost_price and selling_price as input from user\n",
        "cost_price = int(input(\"Enter cost_price : \"))\n",
        "selling_price = int(input(\"Enter selling_price : \"))\n",
        "\n",
        "# Checking for loss or profit\n",
        "if selling_price - cost_price > 0:\n",
        "  print(\"Profit\")\n",
        "elif selling_price - cost_price < 0:\n",
        "  print(\"Loss\")\n",
        "else:\n",
        "  print(\"Neither Loss Nor Profit\")"
      ],
      "metadata": {
        "id": "jDwBXlkO2sfl",
        "outputId": "f6425579-c1ac-411f-f714-97b5692fb05f",
        "colab": {
          "base_uri": "https://localhost:8080/"
        }
      },
      "execution_count": 6,
      "outputs": [
        {
          "output_type": "stream",
          "name": "stdout",
          "text": [
            "Enter cost_price : 45\n",
            "Enter selling_price : 90\n",
            "Profit\n"
          ]
        }
      ]
    },
    {
      "cell_type": "markdown",
      "source": [
        "### `Problem 4`: Write a menu-driven program -\n",
        "1. cm to ft\n",
        "2. km to miles\n",
        "3. USD to INR\n",
        "4. exit"
      ],
      "metadata": {
        "id": "J_FG_cJW2ugT"
      }
    },
    {
      "cell_type": "code",
      "source": [
        "# Writing a menu driven code\n",
        "choice = input(\"\"\"\n",
        "              1. cm to ft\n",
        "              2. km to miles\n",
        "              3. USD to INR\n",
        "              4. exit\n",
        "               \"\"\")\n",
        "\n",
        "# Coding if/else to meet user choice\n",
        "if choice == '1':\n",
        "  cm = int(input(\"Enter value in cm : \"))\n",
        "  print(\"Value in ft is : \",cm*0.06)\n",
        "\n",
        "elif choice == '2':\n",
        "  km = int(input(\"Enter value in km : \"))\n",
        "  print(\"Value in miles is : \",km*0.6)\n",
        "\n",
        "elif choice == '3':\n",
        "  usd = int(input(\"Enter value in USD : \"))\n",
        "  print(\"Value in INR is : \",usd*82)\n",
        "\n",
        "elif choice == '4':\n",
        "  exit()"
      ],
      "metadata": {
        "id": "yBHhaCGQ2zpD",
        "outputId": "ff66a714-fa5c-4f0b-fe18-dcaf0e3766cc",
        "colab": {
          "base_uri": "https://localhost:8080/"
        }
      },
      "execution_count": 7,
      "outputs": [
        {
          "output_type": "stream",
          "name": "stdout",
          "text": [
            "\n",
            "              1. cm to ft\n",
            "              2. km to miles\n",
            "              3. USD to INR\n",
            "              4. exit\n",
            "               2\n",
            "Enter value in km : 45\n",
            "Value in miles is :  27.0\n"
          ]
        }
      ]
    },
    {
      "cell_type": "markdown",
      "source": [
        "### `Problem 5` - Exercise 12: Display Fibonacci series up to 10 terms.\n",
        "\n",
        "*Note: The Fibonacci Sequence is a series of numbers. The next number is found by adding up the two numbers before it. The first two numbers are 0 and 1. For example, 0, 1, 1, 2, 3, 5, 8, 13, 21. The next number in this series above is 13+21 = 34*"
      ],
      "metadata": {
        "id": "LJJ30_Yw27ZU"
      }
    },
    {
      "cell_type": "code",
      "source": [
        "# Coding Fibonacci Series\n",
        "# Initializing first two values from which series will be made\n",
        "a = 0\n",
        "b = 1\n",
        "\n",
        "# Taking user input till what element index user wants to print fibonacci series\n",
        "n = int(input(\"Enter the value of n : \"))\n",
        "\n",
        "# Printing initial elements\n",
        "print(a,end=\" \")\n",
        "print(b,end=\" \")\n",
        "\n",
        "# Running a loop to print rest of the elements of fibonacci series\n",
        "for i in range(2,n+1):\n",
        "  a,b = b,a+b\n",
        "  print(b,end=\" \")"
      ],
      "metadata": {
        "id": "ae_1rpe52-5R",
        "outputId": "8f5d1dab-5944-45de-e5d9-6467da63b7b6",
        "colab": {
          "base_uri": "https://localhost:8080/"
        }
      },
      "execution_count": 9,
      "outputs": [
        {
          "output_type": "stream",
          "name": "stdout",
          "text": [
            "Enter the value of n : 10\n",
            "0 1 1 2 3 5 8 13 21 34 55 "
          ]
        }
      ]
    },
    {
      "cell_type": "markdown",
      "source": [
        "### `Problem 6` - Find the factorial of a given number.\n",
        "\n",
        "Write a program to use the loop to find the factorial of a given number.\n",
        "\n",
        "The factorial (symbol: `!`) means to multiply all whole numbers from the chosen number down to 1.\n",
        "\n",
        "For example: calculate the factorial of 5\n",
        "\n",
        "```bash\n",
        "5! = 5 × 4 × 3 × 2 × 1 = 120\n",
        "```\n",
        "\n",
        "Output:\n",
        "\n",
        "```bash\n",
        "120\n",
        "```"
      ],
      "metadata": {
        "id": "pk_I_S4m3PT5"
      }
    },
    {
      "cell_type": "code",
      "source": [
        "# Taking user input for which factorial needs to be calculated\n",
        "n = int(input(\"Enter the number -> \"))\n",
        "fact = 1\n",
        "\n",
        "# Running a loop to find factorial\n",
        "for i in range(1,n+1):\n",
        "  fact = fact * i\n",
        "\n",
        "# Displaying the factorial\n",
        "print(fact)"
      ],
      "metadata": {
        "id": "lzXxHegx3Rkc",
        "outputId": "a064b91d-7978-448d-db46-8b202c666885",
        "colab": {
          "base_uri": "https://localhost:8080/"
        }
      },
      "execution_count": 12,
      "outputs": [
        {
          "output_type": "stream",
          "name": "stdout",
          "text": [
            "Enter the number -> 20\n",
            "2432902008176640000\n"
          ]
        }
      ]
    },
    {
      "cell_type": "markdown",
      "source": [
        "### `Problem 7` - Reverse a given integer number.\n",
        "\n",
        "Example:\n",
        "\n",
        "`Input:`\n",
        "\n",
        "```bash\n",
        "76542\n",
        "```\n",
        "\n",
        "`Output:`\n",
        "\n",
        "```bash\n",
        "24567\n",
        "```"
      ],
      "metadata": {
        "id": "-17IOi-g3UpU"
      }
    },
    {
      "cell_type": "code",
      "source": [
        "# Taking number as user_input\n",
        "num = int(input(\"Enter number : \"))\n",
        "rev = 0\n",
        "\n",
        "# Reversing number through running loop\n",
        "while num != 0:\n",
        "  n = num%10\n",
        "  rev = rev*10 + n\n",
        "  num = num // 10\n",
        "\n",
        "# Displaying the reversed number\n",
        "print(\"Reversed number -> \",rev)"
      ],
      "metadata": {
        "id": "wJwLpKCr3aVA",
        "outputId": "e6ffb812-50a7-4a25-da99-7b4eed7d1261",
        "colab": {
          "base_uri": "https://localhost:8080/"
        }
      },
      "execution_count": 14,
      "outputs": [
        {
          "output_type": "stream",
          "name": "stdout",
          "text": [
            "Enter number : 97531\n",
            "Reversed number ->  13579\n"
          ]
        }
      ]
    },
    {
      "cell_type": "markdown",
      "source": [
        "### `Problem 8`: Take a user input as integer N. Find out the sum from 1 to N. If any number if divisible by 5, then skip that number. And if the sum is greater than 300, don't need to calculate the sum further more. Print the final result. And don't use for loop to solve this problem.\n",
        "\n",
        "**Example 1:**\n",
        "\n",
        "`Input:`\n",
        "\n",
        "```bash\n",
        "30\n",
        "```\n",
        "\n",
        "`Output:`\n",
        "\n",
        "```bash\n",
        "276\n",
        "```"
      ],
      "metadata": {
        "id": "-t8PJQaY3sHf"
      }
    },
    {
      "cell_type": "code",
      "source": [
        "# Taking user input for value of N\n",
        "n = int(input(\"Enter the value of n -> \"))\n",
        "sum =  0\n",
        "\n",
        "# Running loop to calculate sum\n",
        "for i in range(1,n+1):\n",
        "  if i%5 == 0:\n",
        "    continue\n",
        "\n",
        "  sum = sum + i\n",
        "\n",
        "  if sum > 300:\n",
        "    break\n",
        "\n",
        "# Displaying Sum\n",
        "print(\"Sum -> \",sum)"
      ],
      "metadata": {
        "id": "GZB6mGMP3ujT",
        "outputId": "0e2e59f1-e2cf-48e1-d1d1-695a4ed11df1",
        "colab": {
          "base_uri": "https://localhost:8080/"
        }
      },
      "execution_count": 15,
      "outputs": [
        {
          "output_type": "stream",
          "name": "stdout",
          "text": [
            "Enter the value of n -> 89\n",
            "Sum ->  303\n"
          ]
        }
      ]
    },
    {
      "cell_type": "markdown",
      "source": [
        "### `Problem 9`: Write a program that keeps on accepting a number from the user until the user enters Zero. Display the sum and average of all the numbers."
      ],
      "metadata": {
        "id": "Q7ggImeA3xm4"
      }
    },
    {
      "cell_type": "code",
      "source": [
        "# Initializing sum and count variables\n",
        "sum = 0\n",
        "count = 0\n",
        "\n",
        "# Taking initial element as input from user\n",
        "n = int(input(\"Enter initial number -> \"))\n",
        "\n",
        "# Running a loop until user enters zero to find sum and average\n",
        "while n != 0:\n",
        "\n",
        "  sum = sum + n\n",
        "  count = count + 1\n",
        "\n",
        "  n = int(input(\"Enter number another time -> \"))\n",
        "\n",
        "# Displaying overall sum and average\n",
        "print(\"Sum -> \",sum)\n",
        "print(\"Average -> \",sum/count)"
      ],
      "metadata": {
        "id": "t_YDSZDe4Kdo",
        "outputId": "b2d08622-53d6-4a2b-beef-aca2d694fba3",
        "colab": {
          "base_uri": "https://localhost:8080/"
        }
      },
      "execution_count": 18,
      "outputs": [
        {
          "output_type": "stream",
          "name": "stdout",
          "text": [
            "Enter initial number -> 34\n",
            "Enter number another time -> 54\n",
            "Enter number another time -> 65\n",
            "Enter number another time -> 87\n",
            "Enter number another time -> 34\n",
            "Enter number another time -> 2\n",
            "Enter number another time -> 75\n",
            "Enter number another time -> 43\n",
            "Enter number another time -> 0\n",
            "Sum ->  394\n",
            "Average ->  49.25\n"
          ]
        }
      ]
    },
    {
      "cell_type": "markdown",
      "source": [
        "###`Problem 9`: Write a program which will find all such numbers which are divisible by 7 but are not a multiple of 5, between 2000 and 3200 (both included). The numbers obtained should be printed in a comma-separated sequence on a single line."
      ],
      "metadata": {
        "id": "6EhvEMvm4R7s"
      }
    },
    {
      "cell_type": "code",
      "source": [
        "# Running a loop from 2000 to 3200 and simultenously printing numbers meeting criteria comma separated\n",
        "for i in range(2000,3201):\n",
        "  if i%7 == 0 and i%5 != 0:\n",
        "    print(i,end=\",\")"
      ],
      "metadata": {
        "id": "d6RgP1B34T6c",
        "outputId": "93ccdbef-f5dc-4118-9175-3fb5d46db826",
        "colab": {
          "base_uri": "https://localhost:8080/"
        }
      },
      "execution_count": 20,
      "outputs": [
        {
          "output_type": "stream",
          "name": "stdout",
          "text": [
            "2002,2009,2016,2023,2037,2044,2051,2058,2072,2079,2086,2093,2107,2114,2121,2128,2142,2149,2156,2163,2177,2184,2191,2198,2212,2219,2226,2233,2247,2254,2261,2268,2282,2289,2296,2303,2317,2324,2331,2338,2352,2359,2366,2373,2387,2394,2401,2408,2422,2429,2436,2443,2457,2464,2471,2478,2492,2499,2506,2513,2527,2534,2541,2548,2562,2569,2576,2583,2597,2604,2611,2618,2632,2639,2646,2653,2667,2674,2681,2688,2702,2709,2716,2723,2737,2744,2751,2758,2772,2779,2786,2793,2807,2814,2821,2828,2842,2849,2856,2863,2877,2884,2891,2898,2912,2919,2926,2933,2947,2954,2961,2968,2982,2989,2996,3003,3017,3024,3031,3038,3052,3059,3066,3073,3087,3094,3101,3108,3122,3129,3136,3143,3157,3164,3171,3178,3192,3199,"
          ]
        }
      ]
    },
    {
      "cell_type": "markdown",
      "source": [
        "###`Problem 10`: Write a program, which will find all such numbers between 1000 and 3000 (both included) such that each digit of the number is an even number. The numbers obtained should be printed in a space-separated sequence on a single line.\n",
        "\n"
      ],
      "metadata": {
        "id": "tYvmRR-G4Vp4"
      }
    },
    {
      "cell_type": "code",
      "source": [
        "# Running a loop b/w 1000 to 3000 to check elements with all digits even\n",
        "for i in range(1000,3001):\n",
        "\n",
        "  num = i\n",
        "  # Running another loop to check whether all elements of this number are even or not\n",
        "  while num != 0:\n",
        "    n = num%10\n",
        "    if n%2 != 0:\n",
        "      break\n",
        "    num = num // 10\n",
        "\n",
        "  else:\n",
        "    print(i,end=\" \")"
      ],
      "metadata": {
        "id": "k6Gs1kIf4k19",
        "outputId": "1551b38b-f293-44b3-e4d4-f9cbbbc802ec",
        "colab": {
          "base_uri": "https://localhost:8080/"
        }
      },
      "execution_count": 22,
      "outputs": [
        {
          "output_type": "stream",
          "name": "stdout",
          "text": [
            "2000 2002 2004 2006 2008 2020 2022 2024 2026 2028 2040 2042 2044 2046 2048 2060 2062 2064 2066 2068 2080 2082 2084 2086 2088 2200 2202 2204 2206 2208 2220 2222 2224 2226 2228 2240 2242 2244 2246 2248 2260 2262 2264 2266 2268 2280 2282 2284 2286 2288 2400 2402 2404 2406 2408 2420 2422 2424 2426 2428 2440 2442 2444 2446 2448 2460 2462 2464 2466 2468 2480 2482 2484 2486 2488 2600 2602 2604 2606 2608 2620 2622 2624 2626 2628 2640 2642 2644 2646 2648 2660 2662 2664 2666 2668 2680 2682 2684 2686 2688 2800 2802 2804 2806 2808 2820 2822 2824 2826 2828 2840 2842 2844 2846 2848 2860 2862 2864 2866 2868 2880 2882 2884 2886 2888 "
          ]
        }
      ]
    },
    {
      "cell_type": "markdown",
      "source": [
        "###`Problem 11`: A robot moves in a plane starting from the original point (0,0). The robot can move toward UP, DOWN, LEFT and RIGHT with a given steps.\n",
        "The trace of robot movement is shown as the following:\n",
        "```\n",
        "UP 5\n",
        "DOWN 3\n",
        "LEFT 3\n",
        "RIGHT 2\n",
        "!\n",
        "```\n",
        "> The numbers after the direction are steps.\n",
        "\n",
        "> `!` means robot stop there.\n",
        "\n",
        "**Please write a program to compute the distance from current position after a sequence of movement and original point.**\n",
        "\n",
        "*If the distance is a float, then just print the nearest integer.*\n",
        "\n",
        "Example:\n",
        "\n",
        "`Input`:\n",
        "```\n",
        "UP 5\n",
        "DOWN 3\n",
        "LEFT 3\n",
        "RIGHT 2\n",
        "!\n",
        "```\n",
        "`Output`:\n",
        "```\n",
        "2\n",
        "```"
      ],
      "metadata": {
        "id": "GV18IINT4mf5"
      }
    },
    {
      "cell_type": "code",
      "source": [
        "# Initially our robot is at origin so its x and y cordinates are also 0\n",
        "x = 0\n",
        "y = 0\n",
        "\n",
        "# Taking user first move\n",
        "move = input(\"\"\"\n",
        "              1. UP\n",
        "              2. DOWN\n",
        "              3. LEFT\n",
        "              4. RIGHT\n",
        "              5. exit\n",
        "             \"\"\")\n",
        "# Running a loop until user enters 5 to exit\n",
        "while move != '5':\n",
        "\n",
        "  if move == '1':\n",
        "    up = int(input(\"Enter UP distance : \"))\n",
        "    y = y + up\n",
        "\n",
        "  elif move == '2':\n",
        "    down = int(input(\"Enter DOWN distance : \"))\n",
        "    y = y - down\n",
        "\n",
        "  elif move == '3':\n",
        "    left = int(input(\"Enter LEFT distance : \"))\n",
        "    x = x - left\n",
        "\n",
        "  elif move == '4':\n",
        "    right = int(input(\"Enter RIGHT distance : \"))\n",
        "    x = x + right\n",
        "\n",
        "  # Again asking the user move\n",
        "  move = input(\"\"\"\n",
        "              1. UP\n",
        "              2. DOWN\n",
        "              3. LEFT\n",
        "              4. RIGHT\n",
        "              5. exit\n",
        "             \"\"\")\n",
        "# Displaying robot current position after all the moves\n",
        "\n",
        "print(\"After moving all the moves the current position of robot is -> ({x,y})\",x,y)"
      ],
      "metadata": {
        "id": "6UNMC2aR4w5x",
        "outputId": "d79022fe-d3e8-4635-c480-21651edb495b",
        "colab": {
          "base_uri": "https://localhost:8080/"
        }
      },
      "execution_count": 27,
      "outputs": [
        {
          "output_type": "stream",
          "name": "stdout",
          "text": [
            "\n",
            "              1. UP\n",
            "              2. DOWN\n",
            "              3. LEFT\n",
            "              4. RIGHT\n",
            "              5. exit\n",
            "             2\n",
            "Enter DOWN distance : 2\n",
            "\n",
            "              1. UP\n",
            "              2. DOWN\n",
            "              3. LEFT\n",
            "              4. RIGHT\n",
            "              5. exit\n",
            "             88\n",
            "\n",
            "              1. UP\n",
            "              2. DOWN\n",
            "              3. LEFT\n",
            "              4. RIGHT\n",
            "              5. exit\n",
            "             4\n",
            "Enter RIGHT distance : 78\n",
            "\n",
            "              1. UP\n",
            "              2. DOWN\n",
            "              3. LEFT\n",
            "              4. RIGHT\n",
            "              5. exit\n",
            "             5\n",
            "After moving all the moves the current position of robot is -> ({x,y}) 78 -2\n"
          ]
        }
      ]
    },
    {
      "cell_type": "markdown",
      "source": [
        "###`Problem 12`:Write a program to print whether a given number is a prime number or not"
      ],
      "metadata": {
        "id": "3fsAIAhK5GYY"
      }
    },
    {
      "cell_type": "code",
      "source": [
        "# Taking number as input from user\n",
        "n = int(input(\"Enter the value of n : \"))\n",
        "\n",
        "# Running a loop to check whether it is a prime number or not\n",
        "for i in range(2,n):\n",
        "  if n%i == 0:\n",
        "    print(\"Non Prime Number\")\n",
        "    break\n",
        "\n",
        "else:\n",
        "  print(\"Prime number\")"
      ],
      "metadata": {
        "id": "j6y91lxy5LZs",
        "outputId": "c482991c-657e-4f99-e54f-84854a7bdfda",
        "colab": {
          "base_uri": "https://localhost:8080/"
        }
      },
      "execution_count": 28,
      "outputs": [
        {
          "output_type": "stream",
          "name": "stdout",
          "text": [
            "Enter the value of n : 31\n",
            "Prime number\n"
          ]
        }
      ]
    },
    {
      "cell_type": "markdown",
      "source": [
        "###`Problem 13`:Print all the Armstrong numbers in a given range.\n",
        "Range will be provided by the user<br>\n",
        "Armstrong number is a number that is equal to the sum of cubes of its digits. For example 0, 1, 153, 370, 371 and 407 are the Armstrong numbers."
      ],
      "metadata": {
        "id": "asAbmbK-5NHv"
      }
    },
    {
      "cell_type": "code",
      "source": [
        "# Taking lower and upper range values\n",
        "lower_range = int(input(\"Enter the lower range value : \"))\n",
        "upper_range = int(input(\"Enter the upper range value : \"))\n",
        "\n",
        "# Running for loop to find all the armstrong numbers in the given range\n",
        "for i in range(lower_range,upper_range+1):\n",
        "\n",
        "  # Running another loop to check whether a particular number inside loop is armstrong number or not\n",
        "  sum = 0\n",
        "  num = i\n",
        "  while num!=0:\n",
        "    n = num % 10\n",
        "    sum = sum + n**3\n",
        "    num = num // 10\n",
        "\n",
        "  if i == sum:\n",
        "    print(i,end=\" \")"
      ],
      "metadata": {
        "id": "PZuI67pm5jCT",
        "outputId": "17e46fb4-38b4-4dc4-b541-91f70e337b81",
        "colab": {
          "base_uri": "https://localhost:8080/"
        }
      },
      "execution_count": 30,
      "outputs": [
        {
          "output_type": "stream",
          "name": "stdout",
          "text": [
            "Enter the lower range value : 0\n",
            "Enter the upper range value : 1000\n",
            "0 1 153 370 371 407 "
          ]
        }
      ]
    },
    {
      "cell_type": "markdown",
      "source": [
        "###`Problem 14`:Calculate the angle between the hour hand and minute hand.\n",
        "\n",
        "Note: There can be two angles between hands; we need to print a minimum of two. Also, we need to print the floor of the final result angle. For example, if the final angle is 10.61, we need to print 10.\n",
        "\n",
        "Input:<br>\n",
        "H = 9 , M = 0<br>\n",
        "Output:<br>\n",
        "90<br>\n",
        "Explanation:<br>\n",
        "The minimum angle between hour and minute\n",
        "hand when the time is 9 is 90 degress."
      ],
      "metadata": {
        "id": "ClCQZMqT7gK0"
      }
    },
    {
      "cell_type": "code",
      "source": [
        "# Taking user input for hour value and minute value\n",
        "hour = int(input(\"Enter hour value -> \"))\n",
        "minute = int(input(\"Enter minute value -> \"))\n",
        "\n",
        "# Calculating angle b/w hour and minute hand using direct formula\n",
        "angle = (30*hour) - (11/2)*minute\n",
        "\n",
        "# Displaying angle b/w hour and minute hand\n",
        "print(\"Angle b/w hour and minute hand is -> \",angle)"
      ],
      "metadata": {
        "id": "tNBTCZML7jy_",
        "outputId": "573ce214-375d-4b75-8d55-b02c4add5e2e",
        "colab": {
          "base_uri": "https://localhost:8080/"
        }
      },
      "execution_count": 31,
      "outputs": [
        {
          "output_type": "stream",
          "name": "stdout",
          "text": [
            "Enter hour value -> 5\n",
            "Enter minute value -> 12\n",
            "Angle b/w hour and minute hand is ->  84.0\n"
          ]
        }
      ]
    },
    {
      "cell_type": "markdown",
      "source": [
        "###`Problem 15`:Given two rectangles, find if the given two rectangles overlap or not. A rectangle is denoted by providing the x and y coordinates of two points: the left top corner and the right bottom corner of the rectangle. Two rectangles sharing a side are considered overlapping. (L1 and R1 are the extreme points of the first rectangle and L2 and R2 are the extreme points of the second rectangle).\n",
        "\n",
        "Note: It may be assumed that the rectangles are parallel to the coordinate axis.\n",
        "\n",
        "<img src='https://www.geeksforgeeks.org/wp-content/uploads/rectanglesOverlap.png' width='300' height='200'>"
      ],
      "metadata": {
        "id": "GwacF9Co72Qc"
      }
    },
    {
      "cell_type": "code",
      "source": [
        "# Getting the coordinate value for extreme ends of both the triangles\n",
        "l1_x = int(input(\"Enter the value of l1_x\"))\n",
        "l1_y = int(input(\"Enter the value of l1_y\"))\n",
        "r1_x = int(input(\"Enter the value of r1_x\"))\n",
        "r1_y = int(input(\"Enter the value of r1_y\"))\n",
        "l2_x = int(input(\"Enter the value of l2_x\"))\n",
        "l2_y = int(input(\"Enter the value of l2_y\"))\n",
        "r2_x = int(input(\"Enter the value of r2_x\"))\n",
        "r2_y = int(input(\"Enter the value of r2_y\"))\n",
        "\n",
        "# Checking if the rectangles overlap or not\n",
        "if r1_y > l2_y or r2_y > l1_y:\n",
        "  print(\"Not overlapping\")\n",
        "\n",
        "elif r1_x < l2_x or r2_x < l1_x:\n",
        "  print(\"Not overlapping\")\n",
        "\n",
        "else:\n",
        "  print(\"Overlapping\")"
      ],
      "metadata": {
        "id": "6rrw_lpH78Rs",
        "outputId": "96e7a0b9-8956-49cb-fa05-81cbac9c5011",
        "colab": {
          "base_uri": "https://localhost:8080/"
        }
      },
      "execution_count": 32,
      "outputs": [
        {
          "output_type": "stream",
          "name": "stdout",
          "text": [
            "Enter the value of l1_x23\n",
            "Enter the value of l1_y34\n",
            "Enter the value of r1_x12\n",
            "Enter the value of r1_y13\n",
            "Enter the value of l2_x15\n",
            "Enter the value of l2_y3\n",
            "Enter the value of r2_x56\n",
            "Enter the value of r2_y54\n",
            "Not overlapping\n"
          ]
        }
      ]
    }
  ]
}