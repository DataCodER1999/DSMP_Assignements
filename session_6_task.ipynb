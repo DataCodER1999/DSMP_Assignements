{
  "nbformat": 4,
  "nbformat_minor": 0,
  "metadata": {
    "colab": {
      "provenance": []
    },
    "kernelspec": {
      "name": "python3",
      "display_name": "Python 3"
    },
    "language_info": {
      "name": "python"
    }
  },
  "cells": [
    {
      "cell_type": "markdown",
      "source": [
        "### **`Problem-1:`** Write a Python function that takes a list and returns a new list with unique elements of the first list.\n",
        "\n",
        "**Exercise 1:**\n",
        "\n",
        "Input:\n",
        "\n",
        "```bash\n",
        "[1,2,3,3,3,3,4,5]\n",
        "```\n",
        "\n",
        "Output:\n",
        "\n",
        "```bash\n",
        "[1, 2, 3, 4, 5]\n",
        "```"
      ],
      "metadata": {
        "id": "h6dDSW5XGZFi"
      }
    },
    {
      "cell_type": "code",
      "source": [
        "# Input Parameter\n",
        "ls = [1,2,3,3,3,3,4,5]\n",
        "\n",
        "# Function Definition\n",
        "def unique(ls):\n",
        "  \"\"\"\n",
        "  This function returns unique elements list from input list\n",
        "  \"\"\"\n",
        "\n",
        "  return list(set(ls))\n",
        "\n",
        "# Function call\n",
        "unique(ls)"
      ],
      "metadata": {
        "id": "R5pq1C9LGe1y",
        "outputId": "2e43853c-1366-40e2-81ad-adb224e06ab8",
        "colab": {
          "base_uri": "https://localhost:8080/"
        }
      },
      "execution_count": 2,
      "outputs": [
        {
          "output_type": "execute_result",
          "data": {
            "text/plain": [
              "[1, 2, 3, 4, 5]"
            ]
          },
          "metadata": {},
          "execution_count": 2
        }
      ]
    },
    {
      "cell_type": "markdown",
      "source": [
        "### **`Problem-2:`** Write a Python function that accepts a hyphen-separated sequence of words as parameter and returns the words in a hyphen-separated sequence after sorting them alphabetically.\n",
        "\n",
        "**Example 1:**\n",
        "\n",
        "Input:\n",
        "```bash\n",
        "green-red-yellow-black-white\n",
        "```\n",
        "\n",
        "Output:\n",
        "```bash\n",
        "black-green-red-white-yellow\n",
        "```"
      ],
      "metadata": {
        "id": "UxQ_VoyJGwHj"
      }
    },
    {
      "cell_type": "code",
      "source": [
        "# Input Parameter\n",
        "s = \"green-red-yellow-black-white\"\n",
        "\n",
        "# Function definition\n",
        "def sorted_string(s):\n",
        "\n",
        "  \"\"\"\n",
        "  This function returns sorted words in a hyphen separated string\n",
        "  \"\"\"\n",
        "  # Sorting words in s\n",
        "  s = sorted(s.split('-'))\n",
        "\n",
        "  return \"-\".join(s)\n",
        "\n",
        "# Function call\n",
        "sorted_string(s)"
      ],
      "metadata": {
        "id": "AAts2m5zGwiQ",
        "outputId": "24701274-e468-4272-dd87-da8970aee119",
        "colab": {
          "base_uri": "https://localhost:8080/",
          "height": 36
        }
      },
      "execution_count": 4,
      "outputs": [
        {
          "output_type": "execute_result",
          "data": {
            "text/plain": [
              "'black-green-red-white-yellow'"
            ],
            "application/vnd.google.colaboratory.intrinsic+json": {
              "type": "string"
            }
          },
          "metadata": {},
          "execution_count": 4
        }
      ]
    },
    {
      "cell_type": "markdown",
      "source": [
        "### **`Problem 3:`** Write a Python function that accepts a string and calculate the number of upper case letters and lower case letters.\n",
        "\n",
        "```\n",
        "Sample String : 'CampusX is an Online Mentorship Program fOr EnginEering studentS.'\n",
        "Expected Output :\n",
        "No. of Upper case characters :  9\n",
        "No. of Lower case Characters :  47\n",
        "```"
      ],
      "metadata": {
        "id": "IRGH62S7Gx_n"
      }
    },
    {
      "cell_type": "code",
      "source": [
        "# Input Parameter\n",
        "s = 'CampusX is an Online Mentorship Program fOr EnginEering students'\n",
        "\n",
        "def case_count(s):\n",
        "\n",
        "  \"\"\"\n",
        "  This function counts all uppercase letters and all lowercase letters in a given string\n",
        "  \"\"\"\n",
        "  upper = 0\n",
        "  lower = 0\n",
        "\n",
        "  # Loop to count uppercase letters\n",
        "  for i in s:\n",
        "    if i.isupper():\n",
        "      upper = upper + 1\n",
        "\n",
        "  # Loop to count lowercase letters\n",
        "  for i in s:\n",
        "    if i.islower():\n",
        "      lower = lower + 1\n",
        "\n",
        "  print(\"No of Upper case characters : \",upper)\n",
        "  print(\"No of Lower case characters : \",lower)\n",
        "\n",
        "# Function call\n",
        "case_count(s)"
      ],
      "metadata": {
        "id": "OaUrD8vVG5o8",
        "outputId": "a6812f33-fc26-4a02-aacd-04c1b1330519",
        "colab": {
          "base_uri": "https://localhost:8080/"
        }
      },
      "execution_count": 5,
      "outputs": [
        {
          "output_type": "stream",
          "name": "stdout",
          "text": [
            "No of Upper case characters :  8\n",
            "No of Lower case characters :  48\n"
          ]
        }
      ]
    },
    {
      "cell_type": "markdown",
      "source": [
        "### **`Problem 4:`** Write a Python program to print the even numbers from a given list.\n",
        "```\n",
        "Sample List : [1, 2, 3, 4, 5, 6, 7, 8, 9]\n",
        "Expected Result : [2, 4, 6, 8]\n",
        "```"
      ],
      "metadata": {
        "id": "V1BFFdYQG7Sn"
      }
    },
    {
      "cell_type": "code",
      "source": [
        "# Input parameter\n",
        "s = [1,2,3,4,5,6,7,8,9]\n",
        "\n",
        "# Function Definition\n",
        "def even_list(s):\n",
        "\n",
        "  \"\"\"\n",
        "  This function returns all even numbers from given list as arguement\n",
        "  \"\"\"\n",
        "  ans = []\n",
        "\n",
        "  # Running a loop on list to find which elements are even\n",
        "  for i in s:\n",
        "    if i%2 == 0:\n",
        "      ans.append(i)\n",
        "\n",
        "  return ans\n",
        "\n",
        "# Function call\n",
        "even_list(s)"
      ],
      "metadata": {
        "id": "VvAReLoDG_Z3",
        "outputId": "62de10af-82f4-4b8f-b0f6-9cef56f82d0d",
        "colab": {
          "base_uri": "https://localhost:8080/"
        }
      },
      "execution_count": 6,
      "outputs": [
        {
          "output_type": "execute_result",
          "data": {
            "text/plain": [
              "[2, 4, 6, 8]"
            ]
          },
          "metadata": {},
          "execution_count": 6
        }
      ]
    },
    {
      "cell_type": "markdown",
      "source": [
        "### **`Problem 5:`** Write a Python function to check whether a number is perfect or not.\n",
        "\n",
        "A Perfect number is a number that is half the sum of all of its positive divisors (including itself).\n",
        "\n",
        "Example :\n",
        "\n",
        "```\n",
        "The first perfect number is 6, because 1, 2, and 3 are its proper positive divisors, and 1 + 2 + 3 = 6.\n",
        "Equivalently, the number 6 is equal to half the sum of all its positive divisors: ( 1 + 2 + 3 + 6 ) / 2 = 6.\n",
        "\n",
        "The next perfect number is 28 = 1 + 2 + 4 + 7 + 14. This is followed by the perfect numbers 496 and 8128.\n",
        "```\n"
      ],
      "metadata": {
        "id": "qrK39Gn-HHb4"
      }
    },
    {
      "cell_type": "code",
      "source": [
        "# Input parameter as input from user\n",
        "n = int(input(\"Enter an input number for perfection test -> \"))\n",
        "\n",
        "# Fucntion definition\n",
        "def perfect_number(s):\n",
        "  \"\"\"\n",
        "  This number tells whether a number is perfect or not . A number is perfect when sum of all of its divisors is the the number itself\n",
        "  \"\"\"\n",
        "\n",
        "  divisors_list = []\n",
        "\n",
        "  # Running a loop to find all the divisors\n",
        "  for i in range(1,s):\n",
        "\n",
        "    if s%i == 0:\n",
        "      divisors_list.append(i)\n",
        "\n",
        "  # Doing perfection test\n",
        "  if sum(divisors_list) == s and (sum(divisors_list) + s)//2 == s:\n",
        "    print(\"Perfect Number\")\n",
        "\n",
        "  else:\n",
        "    print(\"Not Perfect Number\")\n",
        "\n",
        "# Function call\n",
        "perfect_number(n)"
      ],
      "metadata": {
        "id": "P-OI7H78HICs",
        "outputId": "542565ae-b066-46cd-e189-3883ce2a7c89",
        "colab": {
          "base_uri": "https://localhost:8080/"
        }
      },
      "execution_count": 10,
      "outputs": [
        {
          "output_type": "stream",
          "name": "stdout",
          "text": [
            "Enter an input number for perfection test -> 45\n",
            "Not Perfect Number\n"
          ]
        }
      ]
    },
    {
      "cell_type": "markdown",
      "source": [
        "### **`Problem-6:`** Write a Python function to concatenate any no of dictionaries to create a new one.\n",
        "\n",
        "```\n",
        "Sample Dictionary :\n",
        "dic1={1:10, 2:20}\n",
        "dic2={3:30, 4:40}\n",
        "dic3={5:50,6:60}\n",
        "Expected Result : {1: 10, 2: 20, 3: 30, 4: 40, 5: 50, 6: 60}\n",
        "```"
      ],
      "metadata": {
        "id": "oZdpcG77HO-6"
      }
    },
    {
      "cell_type": "code",
      "source": [
        "# Input parameters as dictionary\n",
        "dic1={1:10, 2:20}\n",
        "dic2={3:30, 4:40}\n",
        "dic3={5:50,6:60}\n",
        "\n",
        "# Function definition\n",
        "def dictionary_concatenation(*args):\n",
        "\n",
        "  \"\"\"\n",
        "  This function returns a concatenated dictionary made from arguement dictionaries\n",
        "  \"\"\"\n",
        "\n",
        "  d = {}\n",
        "\n",
        "  # Running a loop to update arguement dictionaries with d\n",
        "  for i in args:\n",
        "    if type(i) == dict:\n",
        "      d.update(i)\n",
        "\n",
        "  return d\n",
        "\n",
        "# Function call\n",
        "dictionary_concatenation(dic1,dic2,dic3)"
      ],
      "metadata": {
        "id": "LQgfAY4ZHPhj",
        "outputId": "4630a1c7-ff4e-44b2-ad70-e01fe32f2893",
        "colab": {
          "base_uri": "https://localhost:8080/"
        }
      },
      "execution_count": 11,
      "outputs": [
        {
          "output_type": "execute_result",
          "data": {
            "text/plain": [
              "{1: 10, 2: 20, 3: 30, 4: 40, 5: 50, 6: 60}"
            ]
          },
          "metadata": {},
          "execution_count": 11
        }
      ]
    },
    {
      "cell_type": "markdown",
      "source": [
        "`Problem-7` Write a python function that accepts a string as input and returns the word with most occurence.\n",
        "\n",
        "```\n",
        "Input:\n",
        "hello how are you i am fine thank you\n",
        "```\n",
        "\n",
        "```\n",
        "Output\n",
        "you -> 2\n",
        "```"
      ],
      "metadata": {
        "id": "jQ6SzbCkHRd0"
      }
    },
    {
      "cell_type": "code",
      "source": [
        "# Input parameter\n",
        "s = 'hello how are you i am fine thank you'\n",
        "\n",
        "# Function definition\n",
        "def most_occurence(s):\n",
        "\n",
        "  \"\"\"\n",
        "  This function returns most occuring element in given list\n",
        "  \"\"\"\n",
        "\n",
        "  d = {}\n",
        "  for i in s.split():\n",
        "\n",
        "    if i != ' ':\n",
        "      if i not in d:\n",
        "        d[i] = 1\n",
        "      else:\n",
        "        d[i] = d[i] + 1\n",
        "\n",
        "  answer = sorted(d,key=lambda x:d[x],reverse=True)[0]\n",
        "  print(answer,'->',d[answer])\n",
        "\n",
        "# Function call\n",
        "most_occurence(s)"
      ],
      "metadata": {
        "id": "Lh04JHLzIW7Z",
        "outputId": "a6061212-2657-4139-e5d1-a4f7e1b1c445",
        "colab": {
          "base_uri": "https://localhost:8080/"
        }
      },
      "execution_count": 17,
      "outputs": [
        {
          "output_type": "stream",
          "name": "stdout",
          "text": [
            "you -> 2\n"
          ]
        }
      ]
    },
    {
      "cell_type": "markdown",
      "source": [
        "`Problem-8` Write a python function that receives a list of integers and prints out a histogram of bin size 10\n",
        "\n",
        "```\n",
        "Input:\n",
        "[13,42,15,37,22,39,41,50]\n",
        "```\n",
        "\n",
        "```\n",
        "Output:\n",
        "{11-20:2,21-30:1,31-40:2,41-50:3}\n",
        "```"
      ],
      "metadata": {
        "id": "1r8SpVntI-IW"
      }
    },
    {
      "cell_type": "code",
      "source": [
        "# Input List\n",
        "s = [13,42,15,37,22,39,41,50]\n",
        "\n",
        "def hist(s):\n",
        "  import math\n",
        "  min_bin = math.floor(min(s)/10)*10\n",
        "  max_bin = math.ceil(max(s)/10)* 10\n",
        "\n",
        "  # Initializing an empty dictionary for creating histogram\n",
        "  histogram = {}\n",
        "\n",
        "  # Running a loop on list to find which element belongs to which bin\n",
        "  for i in range(min_bin,max_bin,10):\n",
        "\n",
        "    # Frequency count for each variable\n",
        "    count = 0\n",
        "    for j in s:\n",
        "      if j > i+1 and j < i+10:\n",
        "        count = count +1\n",
        "\n",
        "    histogram[str(i+1) + '-' + str(i+10)] = count\n",
        "\n",
        "  # Displaying the histogram\n",
        "  print(histogram)\n",
        "\n",
        "# Function call\n",
        "hist(s)"
      ],
      "metadata": {
        "id": "7W0J8rUjJovg",
        "outputId": "8958f62e-f160-45df-d7c7-c546d3a03cb9",
        "colab": {
          "base_uri": "https://localhost:8080/"
        }
      },
      "execution_count": 61,
      "outputs": [
        {
          "output_type": "stream",
          "name": "stdout",
          "text": [
            "{'11-20': 2, '21-30': 1, '31-40': 2, '41-50': 1}\n"
          ]
        }
      ]
    },
    {
      "cell_type": "markdown",
      "source": [
        "`Problem-9` Write a python function that accepts a list of 2D co-ordinates and a query point, and then finds the the co-ordinate which is closest in terms of distance from the query point.\n",
        "\n",
        "```\n",
        "List of Coordinates\n",
        "[(1,1),(2,2),(3,3),(4,4)]\n",
        "Query Point\n",
        "(0,0)\n",
        "```\n",
        "\n",
        "```\n",
        "Output\n",
        "Nearest to (0,0) is (1,1)\n",
        "```"
      ],
      "metadata": {
        "id": "1P2-rbgXKE53"
      }
    },
    {
      "cell_type": "code",
      "source": [
        "# Input Parameter\n",
        "s = [(1,1),(2,2),(3,3),(4,4)]\n",
        "point = (0,0)\n",
        "\n",
        "# Function Definition\n",
        "def closest_point(s,point):\n",
        "\n",
        "  \"\"\"\n",
        "  This point returns closest point from the given point from a list of points\n",
        "  \"\"\"\n",
        "\n",
        "  # Initializing an empty list which will contain all the distances\n",
        "  distances = []\n",
        "\n",
        "  # Running a loop to find out distances\n",
        "  for i in s:\n",
        "    distances.append(((i[1]-point[1])**2 + (i[0]-point[0])**2)**0.5)\n",
        "\n",
        "  distances = list(enumerate(distances))\n",
        "\n",
        "  p = s[sorted(distances,key=lambda x:x[1])[0][0]]\n",
        "\n",
        "  # Returning point\n",
        "  return p\n",
        "\n",
        "# Function call\n",
        "closest_point(s,point)"
      ],
      "metadata": {
        "id": "zjn7vSTIJ81G",
        "outputId": "65cd8ae2-9fd0-483a-b63a-8745ab9746ff",
        "colab": {
          "base_uri": "https://localhost:8080/"
        }
      },
      "execution_count": 22,
      "outputs": [
        {
          "output_type": "execute_result",
          "data": {
            "text/plain": [
              "(1, 1)"
            ]
          },
          "metadata": {},
          "execution_count": 22
        }
      ]
    },
    {
      "cell_type": "markdown",
      "source": [
        "`Problem-10`:Write a python program that receives a list of strings and performs bag of word operation on those strings\n",
        "\n",
        "https://en.wikipedia.org/wiki/Bag-of-words_model"
      ],
      "metadata": {
        "id": "i-B6igmyK9hB"
      }
    },
    {
      "cell_type": "code",
      "source": [
        "# Input parameters\n",
        "s1 = 'krishna is true love'\n",
        "s2 = 'krishna bkahti is best in this world'\n",
        "\n",
        "# Function Definition\n",
        "def bag_of_words(*args):\n",
        "\n",
        "  \"\"\"\n",
        "  This function creates a bag of words list from given sentences\n",
        "  \"\"\"\n",
        "\n",
        "  bag_of_words_list = []\n",
        "\n",
        "  for i in args:\n",
        "    for j in i.split():\n",
        "      if j not in bag_of_words_list:\n",
        "        bag_of_words_list.append(j)\n",
        "\n",
        "\n",
        "  # Returning bag_of_words_list\n",
        "  return bag_of_words_list\n",
        "\n",
        "# Function call\n",
        "bag_of_words(s1,s2)"
      ],
      "metadata": {
        "id": "N2l1_AWULT-z",
        "outputId": "ea0bed59-ed9a-4c74-cc36-5846a21bbb66",
        "colab": {
          "base_uri": "https://localhost:8080/"
        }
      },
      "execution_count": 23,
      "outputs": [
        {
          "output_type": "execute_result",
          "data": {
            "text/plain": [
              "['krishna', 'is', 'true', 'love', 'bkahti', 'best', 'in', 'this', 'world']"
            ]
          },
          "metadata": {},
          "execution_count": 23
        }
      ]
    },
    {
      "cell_type": "markdown",
      "source": [
        "###`Problem 11:` Write a Python program to add three given lists using Python map and lambda."
      ],
      "metadata": {
        "id": "dHTRKb-DqMLw"
      }
    },
    {
      "cell_type": "code",
      "source": [
        "# Input Lists\n",
        "l1 = [1,2,3]\n",
        "l2 = [4,5,6]\n",
        "l3 = [7,8,9]\n",
        "\n",
        "# Function Definition\n",
        "list(map(lambda x,y,z : x+y+z, l1,l2,l3))"
      ],
      "metadata": {
        "id": "NfJdzyNZqNW-",
        "outputId": "bd3606ae-a221-4527-b4a0-9e6308f6520d",
        "colab": {
          "base_uri": "https://localhost:8080/"
        }
      },
      "execution_count": 63,
      "outputs": [
        {
          "output_type": "execute_result",
          "data": {
            "text/plain": [
              "[12, 15, 18]"
            ]
          },
          "metadata": {},
          "execution_count": 63
        }
      ]
    },
    {
      "cell_type": "markdown",
      "source": [
        "###`Problem-12:`Write a Python program to create a list containing the power of said number in bases raised to the corresponding number in the index using Python map.\n",
        "`Input:`\n",
        "```\n",
        "list1 = [1,2,3,4,5,6]\n",
        "```\n",
        "`Output:`\n",
        "```\n",
        "[1,2,9,64,625,-]\n",
        "```\n"
      ],
      "metadata": {
        "id": "MgHP7mbUqO8l"
      }
    },
    {
      "cell_type": "code",
      "source": [
        "# Input List as arguement\n",
        "list1 = [1,2,3,4,5,6]\n",
        "\n",
        "# Using enumerate to convert list in required format\n",
        "list1 = enumerate(list1)\n",
        "\n",
        "# Using list comprehension to create list\n",
        "ans = list(map(lambda x:x[1]**x[0],list1))\n",
        "\n",
        "# Displaying result\n",
        "print(ans)"
      ],
      "metadata": {
        "id": "gG3Dc6N3qbvN",
        "outputId": "a8d22282-b90d-4a88-f649-52b01469e580",
        "colab": {
          "base_uri": "https://localhost:8080/"
        }
      },
      "execution_count": 50,
      "outputs": [
        {
          "output_type": "stream",
          "name": "stdout",
          "text": [
            "[1, 2, 9, 64, 625, 7776]\n"
          ]
        }
      ]
    },
    {
      "cell_type": "markdown",
      "source": [
        "###`Problem-13` Using filter() and list() functions and .lower() method filter all the vowels in a given string.\n",
        "\n"
      ],
      "metadata": {
        "id": "G26SYq6vqdLN"
      }
    },
    {
      "cell_type": "code",
      "source": [
        "# Input string\n",
        "s = 'krishna is true love'\n",
        "\n",
        "# Coding filter function to get all the vowels\n",
        "list(filter(lambda x:x.lower() in 'aeiou',s))"
      ],
      "metadata": {
        "id": "zurga3DIqmEx",
        "outputId": "68259f94-f38d-4942-edd3-4e2320e46d6d",
        "colab": {
          "base_uri": "https://localhost:8080/"
        }
      },
      "execution_count": 47,
      "outputs": [
        {
          "output_type": "execute_result",
          "data": {
            "text/plain": [
              "['i', 'a', 'i', 'u', 'e', 'o', 'e']"
            ]
          },
          "metadata": {},
          "execution_count": 47
        }
      ]
    },
    {
      "cell_type": "markdown",
      "source": [
        "`Problem-14`: Use reduce to convert a 2D list to 1D"
      ],
      "metadata": {
        "id": "uQrsunZSqoYu"
      }
    },
    {
      "cell_type": "code",
      "source": [
        "# Input 2D list\n",
        "s = [[1,2,3],\n",
        "     [4,5,6],\n",
        "     [7,8,9]]\n",
        "\n",
        "# Importing functools to use reduce function\n",
        "import functools\n",
        "functools.reduce(lambda x,y:x+y,s)"
      ],
      "metadata": {
        "id": "E1YUwnfgqnka",
        "outputId": "f1e1055c-52f1-4b7f-ea84-65c14449a485",
        "colab": {
          "base_uri": "https://localhost:8080/"
        }
      },
      "execution_count": 46,
      "outputs": [
        {
          "output_type": "execute_result",
          "data": {
            "text/plain": [
              "[1, 2, 3, 4, 5, 6, 7, 8, 9]"
            ]
          },
          "metadata": {},
          "execution_count": 46
        }
      ]
    },
    {
      "cell_type": "markdown",
      "source": [
        "`Problem 15`- A dictionary contains following information about 5 employees:\n",
        "- First name\n",
        "- Last name\n",
        "- Age\n",
        "- Grade(Skilled,Semi-skilled,Highly skilled)<br>\n",
        "Write a program using map/filter/reduce to a list of employees(first name + last name) who are highly skilled"
      ],
      "metadata": {
        "id": "8-DLQEawt-_t"
      }
    },
    {
      "cell_type": "code",
      "source": [
        "# Write code here\n",
        "employees = [\n",
        "    {\n",
        "        'fname':'Nitish',\n",
        "        'lname':'Singh',\n",
        "        'age' : 33,\n",
        "        'grade':'skilled'\n",
        "    },\n",
        "    {\n",
        "        'fname':'Ankit',\n",
        "        'lname':'Verma',\n",
        "        'age' : 34,\n",
        "        'grade':'semi-skilled'\n",
        "    },\n",
        "    {\n",
        "        'fname':'Neha',\n",
        "        'lname':'Singh',\n",
        "        'age' : 35,\n",
        "        'grade':'highly-skilled'\n",
        "    },\n",
        "    {\n",
        "        'fname':'Anurag',\n",
        "        'lname':'Kumar',\n",
        "        'age' : 30,\n",
        "        'grade':'skilled'\n",
        "    },\n",
        "    {\n",
        "        'fname':'Abhinav',\n",
        "        'lname':'Sharma',\n",
        "        'age' : 37,\n",
        "        'grade':'highly-skilled'\n",
        "    }\n",
        "\n",
        "]"
      ],
      "metadata": {
        "id": "OLvptttLs6OU"
      },
      "execution_count": 41,
      "outputs": []
    },
    {
      "cell_type": "code",
      "source": [
        "# Function definition\n",
        "list(map(lambda x:x['fname'] + '-' + x['lname'],list(filter(lambda x:x['grade'] == 'highly-skilled',employees))))"
      ],
      "metadata": {
        "id": "vLX0FAQkui3y",
        "colab": {
          "base_uri": "https://localhost:8080/"
        },
        "outputId": "5fd469b6-5da0-4cd5-9cca-110ab82988d8"
      },
      "execution_count": 45,
      "outputs": [
        {
          "output_type": "execute_result",
          "data": {
            "text/plain": [
              "['Neha-Singh', 'Abhinav-Sharma']"
            ]
          },
          "metadata": {},
          "execution_count": 45
        }
      ]
    }
  ]
}