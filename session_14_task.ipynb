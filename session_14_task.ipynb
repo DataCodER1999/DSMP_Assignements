{
  "nbformat": 4,
  "nbformat_minor": 0,
  "metadata": {
    "colab": {
      "provenance": []
    },
    "kernelspec": {
      "name": "python3",
      "display_name": "Python 3"
    },
    "language_info": {
      "name": "python"
    }
  },
  "cells": [
    {
      "cell_type": "markdown",
      "source": [
        "###`Q-1:` Find the nearest element in the array to a given integer.\n",
        "```\n",
        "Ex:-\n",
        "a=23 and array - [10 17 24 31 38 45 52 59].\n",
        "Nearest element is 24\n",
        "```\n",
        "Hint: Read about this function `argmin()`"
      ],
      "metadata": {
        "id": "1uamk9vAix0o"
      }
    },
    {
      "cell_type": "code",
      "source": [
        "import numpy as np"
      ],
      "metadata": {
        "id": "ifabLNLNS362"
      },
      "execution_count": 1,
      "outputs": []
    },
    {
      "cell_type": "code",
      "source": [
        "# Array from which search needs to be dome\n",
        "array = np.array([10,17,24,31,38,45,52,59])\n",
        "\n",
        "# element that needs to be searched\n",
        "num = 23\n",
        "\n",
        "# Finding the index of nearest element\n",
        "index = np.argmin(abs(array - num))\n",
        "\n",
        "# Telling the number nearest to the asked number\n",
        "print('Nearest element - ',array[index])"
      ],
      "metadata": {
        "id": "ddkpbpR6iySZ",
        "outputId": "f4b5a000-a3e3-4b21-83e2-62cfcbb0c1ad",
        "colab": {
          "base_uri": "https://localhost:8080/"
        }
      },
      "execution_count": null,
      "outputs": [
        {
          "output_type": "stream",
          "name": "stdout",
          "text": [
            "Nearest element -  24\n"
          ]
        }
      ]
    },
    {
      "cell_type": "markdown",
      "source": [
        "###`Q-2:` Replace multiples of 3 or 5 as 0 in the given array.\n",
        "```\n",
        "arr=[1 2 3 4 5 6 7 9]\n",
        "\n",
        "result-> [1 2 0 4 0 0 7 0]\n",
        "```"
      ],
      "metadata": {
        "id": "Y1QkHyPpizyp"
      }
    },
    {
      "cell_type": "code",
      "source": [
        "# Given array\n",
        "array = np.array([1,2,3,4,5,6,7,8,9])\n",
        "\n",
        "# Replacing multiples of 3 and 5 with 0\n",
        "array = np.where(array%3 == 0, 0, array)\n",
        "array = np.where(array%5 == 0, 0, array)\n",
        "\n",
        "# Printing resultant array\n",
        "print(array)"
      ],
      "metadata": {
        "id": "JjtxMlhWi25l",
        "outputId": "7eedef35-3b9c-438c-b41a-54cdcc1345a6",
        "colab": {
          "base_uri": "https://localhost:8080/"
        }
      },
      "execution_count": null,
      "outputs": [
        {
          "output_type": "stream",
          "name": "stdout",
          "text": [
            "[1 2 0 4 0 0 7 8 0]\n"
          ]
        }
      ]
    },
    {
      "cell_type": "markdown",
      "source": [
        "###`Q-3:` Use Fancy Indexing.\n",
        "1. Double the array elements at  given indexes\n",
        "```\n",
        "arr = np.arrange(10)\n",
        "indexes = [0,3,4,9]\n",
        "```\n",
        "Result -> `[ 0  1  2  6  8  5  6  7  8 18]`\n",
        "\n",
        "2. Using a given array make a different array as in below example\n",
        "```\n",
        "array = [1,2,3]\n",
        "result array -> [1 1 1 2 2 2 3 3 3]\n",
        "```\n",
        "* Internal-repetion should be as length of the array.\n",
        "\n",
        "Hint:\n",
        "```\n",
        "if a is an array\n",
        "a = [2,4]\n",
        "a[[1,1,0,1]] will result in-> [4 4 2 4]\n",
        "```"
      ],
      "metadata": {
        "id": "Pi_dZSwTi4OI"
      }
    },
    {
      "cell_type": "code",
      "source": [
        "# Given array\n",
        "arr = np.arange(10)\n",
        "\n",
        "# Using fancy indexing changing numbers\n",
        "arr[[0,3,4,9]] = arr[[0,3,4,9]]*2\n",
        "\n",
        "# Printing resultant_array\n",
        "print(arr)"
      ],
      "metadata": {
        "id": "SHYuyuovi66N",
        "outputId": "91d4457f-e995-4b4e-f7ff-1e484c5eab1e",
        "colab": {
          "base_uri": "https://localhost:8080/"
        }
      },
      "execution_count": null,
      "outputs": [
        {
          "output_type": "stream",
          "name": "stdout",
          "text": [
            "[ 0  1  2  6  8  5  6  7  8 18]\n"
          ]
        }
      ]
    },
    {
      "cell_type": "markdown",
      "source": [
        "###`Q-4:` Your are given an array which is havig some nan value. You job is to fill those nan values with most common element in the array.\n",
        "```\n",
        "arr=np.array([[1,2,np.nan],[4,2,6],[np.nan,np.nan,5]])\n",
        "\n",
        "```"
      ],
      "metadata": {
        "id": "UDehG0tFi89i"
      }
    },
    {
      "cell_type": "code",
      "source": [
        "# Array which needs to be corrected\n",
        "arr=np.array([[1,2,np.nan],[4,2,6],[np.nan,np.nan,5]])\n",
        "\n",
        "# Importing liabrary to calculate mode\n",
        "from scipy.stats import mode\n",
        "most_common = mode(arr, nan_policy='omit').mode[0]\n",
        "\n",
        "# Replacing nan with most common element\n",
        "arr = np.nan_to_num(arr,nan=most_common)\n",
        "\n",
        "# Printing the resultant array\n",
        "print(arr)"
      ],
      "metadata": {
        "id": "YH13A6w9jEyu",
        "colab": {
          "base_uri": "https://localhost:8080/"
        },
        "outputId": "5d33e6cd-fdd2-410d-e2d3-66e0721c239f"
      },
      "execution_count": 9,
      "outputs": [
        {
          "output_type": "stream",
          "name": "stdout",
          "text": [
            "[[1. 2. 5.]\n",
            " [4. 2. 6.]\n",
            " [1. 2. 5.]]\n"
          ]
        },
        {
          "output_type": "stream",
          "name": "stderr",
          "text": [
            "<ipython-input-9-cb156bf55c6e>:6: FutureWarning: Unlike other reduction functions (e.g. `skew`, `kurtosis`), the default behavior of `mode` typically preserves the axis it acts along. In SciPy 1.11.0, this behavior will change: the default value of `keepdims` will become False, the `axis` over which the statistic is taken will be eliminated, and the value None will no longer be accepted. Set `keepdims` to True or False to avoid this warning.\n",
            "  most_common = mode(arr, nan_policy='omit').mode[0]\n"
          ]
        }
      ]
    },
    {
      "cell_type": "markdown",
      "source": [
        "### `Q-5:` Write a NumPy program\n",
        "\n",
        "- to find the missing data in a given array. Return a boolean matrix.\n",
        "- also try to fill those missing values with 0. For that, you can use `np.nan_to_num(a)`\n",
        "\n",
        "```python\n",
        "import numpy as np\n",
        "\n",
        "np.array([[3, 2, np.nan, 1],\n",
        "          [10, 12, 10, 9],\n",
        "          [5, np.nan, 1, np.nan]])\n",
        "```"
      ],
      "metadata": {
        "id": "Tk2JnioUjJ_t"
      }
    },
    {
      "cell_type": "code",
      "source": [
        "# Function to find missing data\n",
        "def missing_data(x):\n",
        "\n",
        "  # Finding all the missing data in array\n",
        "  missing = x[np.isnan(x)]\n",
        "\n",
        "  # returning data\n",
        "  return missing\n",
        "\n",
        "# Input array\n",
        "arr = np.array([[3,2,np.nan,1],\n",
        "                [10,12,10,9],\n",
        "                [5,np.nan,1,np.nan]])\n",
        "\n",
        "\n",
        "# Function call\n",
        "ans = missing_data(arr)\n",
        "print(ans)\n",
        "\n",
        "# Filling missing values\n",
        "arr = np.nan_to_num(arr,nan=0)\n",
        "\n",
        "# Printing the resultant array\n",
        "print(arr)"
      ],
      "metadata": {
        "id": "nPEBTQJ_jJZe",
        "colab": {
          "base_uri": "https://localhost:8080/"
        },
        "outputId": "866ffd57-55b8-40b1-88f7-abf5aaa50315"
      },
      "execution_count": 11,
      "outputs": [
        {
          "output_type": "stream",
          "name": "stdout",
          "text": [
            "[nan nan nan]\n",
            "[[ 3.  2.  0.  1.]\n",
            " [10. 12. 10.  9.]\n",
            " [ 5.  0.  1.  0.]]\n"
          ]
        }
      ]
    },
    {
      "cell_type": "markdown",
      "source": [
        "###`Q-6:` Given two arrays, X and Y, construct the Cauchy matrix C.\n",
        "`Cij =1/(xi - yj)`\n",
        "\n",
        "http://en.wikipedia.org/wiki/Cauchy_matrix\n",
        "```\n",
        "x = numpy.array([1,2,3,4]).reshape((-1, 1)\n",
        "y = numpy.array([5,6,7])\n",
        "```"
      ],
      "metadata": {
        "id": "FFUnZtG7jNBH"
      }
    },
    {
      "cell_type": "code",
      "source": [
        "# Matrices from which cauchy matrix will be made\n",
        "x = np.array([1,2,3,4]).reshape((-1, 1))\n",
        "y = np.array([5,6,7])\n",
        "\n",
        "# Creating cauchy matrix\n",
        "cauchy_matrix = 1 / (x[:, np.newaxis] - y)\n",
        "\n",
        "# Printing cauchy_matrix\n",
        "print(cauchy_matrix)"
      ],
      "metadata": {
        "id": "pQXHa38TjVEh",
        "colab": {
          "base_uri": "https://localhost:8080/"
        },
        "outputId": "67fd27a9-4d12-41d8-cabe-221ce9980dd4"
      },
      "execution_count": 18,
      "outputs": [
        {
          "output_type": "stream",
          "name": "stdout",
          "text": [
            "[[[-0.25       -0.2        -0.16666667]]\n",
            "\n",
            " [[-0.33333333 -0.25       -0.2       ]]\n",
            "\n",
            " [[-0.5        -0.33333333 -0.25      ]]\n",
            "\n",
            " [[-1.         -0.5        -0.33333333]]]\n"
          ]
        }
      ]
    },
    {
      "cell_type": "markdown",
      "source": [
        "###`Q-7:` Plot this below equation.\n",
        "\n",
        "$$\\large y = \\frac{e^x - e^{-x}}{e^x + e^{-x}}$$\n",
        "\n",
        "**Note: This equation is called tanh activation function. In deep learning, many times this function is used. If you find some difference between the sigmoid function and this tanh function, note that to your notebook.**"
      ],
      "metadata": {
        "id": "EbkHZCF1jWNc"
      }
    },
    {
      "cell_type": "code",
      "source": [
        "# Declaring feature on x-axis\n",
        "x = np.linspace(-10,10,1000)\n",
        "\n",
        "# Deriving formula values using x\n",
        "y = (np.exp(x) - np.exp(-x)) / (np.exp(x) + np.exp(-x))\n",
        "\n",
        "# Importing plotting liabrary\n",
        "import matplotlib.pyplot as plt\n",
        "\n",
        "# Plotting Function\n",
        "plt.plot(x,y)"
      ],
      "metadata": {
        "id": "n6OcN--FjbLC",
        "colab": {
          "base_uri": "https://localhost:8080/",
          "height": 447
        },
        "outputId": "dee4427e-a978-484e-e3f6-d0e69acb5175"
      },
      "execution_count": 3,
      "outputs": [
        {
          "output_type": "execute_result",
          "data": {
            "text/plain": [
              "[<matplotlib.lines.Line2D at 0x7be12cf2d4e0>]"
            ]
          },
          "metadata": {},
          "execution_count": 3
        },
        {
          "output_type": "display_data",
          "data": {
            "text/plain": [
              "<Figure size 640x480 with 1 Axes>"
            ],
            "image/png": "[encoded data removed]"
          },
          "metadata": {}
        }
      ]
    },
    {
      "cell_type": "markdown",
      "source": [
        "### `Q-8:` Plot the below equation.\n",
        "\n",
        "$$\\large y = \\sqrt{36 - (x - 4)^2} + 2$$\n",
        "\n",
        "The range of x should be between -2 to 10. $x ∈ [-2, 10]$\n",
        "\n"
      ],
      "metadata": {
        "id": "xujS-pu4jciH"
      }
    },
    {
      "cell_type": "code",
      "source": [
        "# Declaring x variable\n",
        "x = np.linspace(-2,10,1000)\n",
        "\n",
        "# Deriving y from x\n",
        "y = np.sqrt(36 - (x-4)**2) + 2\n",
        "\n",
        "# Plotting Function\n",
        "plt.plot(x,y)"
      ],
      "metadata": {
        "id": "7CagwKP_jhIQ",
        "colab": {
          "base_uri": "https://localhost:8080/",
          "height": 447
        },
        "outputId": "541c49bd-5f81-462c-db69-b5a2b533ced6"
      },
      "execution_count": 4,
      "outputs": [
        {
          "output_type": "execute_result",
          "data": {
            "text/plain": [
              "[<matplotlib.lines.Line2D at 0x7be12cc9fee0>]"
            ]
          },
          "metadata": {},
          "execution_count": 4
        },
        {
          "output_type": "display_data",
          "data": {
            "text/plain": [
              "<Figure size 640x480 with 1 Axes>"
            ],
            "image/png": "[encoded data removed]"
          },
          "metadata": {}
        }
      ]
    },
    {
      "cell_type": "markdown",
      "source": [
        "### `Q-9:` Write a program implement Boradcasting Rule to check if two array can be added or not.\n",
        "Given tuples of shapes.\n",
        "```\n",
        "shape of a- (3,2,2)\n",
        "shape of b- (2,2)\n",
        "\n",
        "check_broadcast(a, b) -> return Boolean (True if can broadcasted, False other wise.)\n",
        "```"
      ],
      "metadata": {
        "id": "Jf14pxCfjiX1"
      }
    },
    {
      "cell_type": "code",
      "source": [
        "# Function to check if broadcasting is possible or not\n",
        "def check_broadcast(a,b):\n",
        "\n",
        "  # Defining Try block\n",
        "  try:\n",
        "    ans = a + b\n",
        "    return True\n",
        "\n",
        "  # Defining Except block\n",
        "  except:\n",
        "    return False\n",
        "\n",
        "\n",
        "# First creating numpy arrays for input\n",
        "a = np.random.randint(1,100,12).reshape(3,2,2)\n",
        "b = np.random.randint(1,100,4).reshape(2,2)\n",
        "\n",
        "\n",
        "# Function call\n",
        "ans = check_broadcast(a,b)\n",
        "\n",
        "\n",
        "# Checking if broadcast possible or not\n",
        "if ans == True:\n",
        "  print(\"Broadcast will happen\")\n",
        "\n",
        "else:\n",
        "  print(\"Broadcast will not happen\")"
      ],
      "metadata": {
        "id": "qSKGG0Yajlc8",
        "colab": {
          "base_uri": "https://localhost:8080/"
        },
        "outputId": "3cb5b6c2-9903-4e94-b1c3-0cdf7b51bc12"
      },
      "execution_count": 5,
      "outputs": [
        {
          "output_type": "stream",
          "name": "stdout",
          "text": [
            "Broadcast will happen\n"
          ]
        }
      ]
    }
  ]
}